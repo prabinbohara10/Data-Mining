{
 "cells": [
  {
   "cell_type": "code",
   "execution_count": 1,
   "id": "fde368e4",
   "metadata": {},
   "outputs": [],
   "source": [
    "from numpy import random\n",
    "import numpy as np\n",
    "import matplotlib.pyplot as plt"
   ]
  },
  {
   "cell_type": "code",
   "execution_count": 2,
   "id": "b8f6323b",
   "metadata": {},
   "outputs": [],
   "source": [
    "    #that samples 20 points from normal(gaussian) distribution"
   ]
  },
  {
   "cell_type": "code",
   "execution_count": 3,
   "id": "a6f56997",
   "metadata": {},
   "outputs": [
    {
     "data": {
      "image/png": "[encoded data removed]",
      "text/plain": [
       "<Figure size 432x288 with 1 Axes>"
      ]
     },
     "metadata": {
      "needs_background": "light"
     },
     "output_type": "display_data"
    }
   ],
   "source": [
    "np.random.seed(100)\n",
    "data = np.random.rand(20, 2)\n",
    "\n",
    "x = data[:, 0]\n",
    "y = data[:, 1]\n",
    "\n",
    "\n",
    "plt.scatter(x, y)\n",
    "plt.xlabel('X')\n",
    "plt.ylabel('Y')\n",
    "\n",
    "plt.show()\n"
   ]
  },
  {
   "cell_type": "code",
   "execution_count": 4,
   "id": "91fb5faf",
   "metadata": {},
   "outputs": [],
   "source": [
    "X = random.normal(size=(20,2))"
   ]
  },
  {
   "cell_type": "code",
   "execution_count": 5,
   "id": "3de6a4d3",
   "metadata": {},
   "outputs": [],
   "source": [
    "newX =X.reshape(2,20)"
   ]
  },
  {
   "cell_type": "code",
   "execution_count": 6,
   "id": "ea76314b",
   "metadata": {},
   "outputs": [
    {
     "name": "stdout",
     "output_type": "stream",
     "text": [
      "[ 0.73100034  1.36155613 -0.32623806  0.05567601  0.22239961 -1.443217\n",
      " -0.75635231  0.81645401  0.75044476 -0.45594693  1.18962227 -1.69061683\n",
      " -1.35639905 -1.23243451 -0.54443916 -0.66817174  0.00731456 -0.61293874\n",
      "  1.29974807 -1.73309562]\n"
     ]
    }
   ],
   "source": [
    "print(newX[0])"
   ]
  },
  {
   "cell_type": "code",
   "execution_count": 7,
   "id": "f17e8328",
   "metadata": {},
   "outputs": [
    {
     "data": {
      "text/plain": [
       "<matplotlib.collections.PathCollection at 0x230fd817cd0>"
      ]
     },
     "execution_count": 7,
     "metadata": {},
     "output_type": "execute_result"
    },
    {
     "data": {
      "image/png": "[encoded data removed]",
      "text/plain": [
       "<Figure size 432x288 with 1 Axes>"
      ]
     },
     "metadata": {
      "needs_background": "light"
     },
     "output_type": "display_data"
    }
   ],
   "source": [
    "plt.scatter(newX[0],newX[1])"
   ]
  },
  {
   "cell_type": "code",
   "execution_count": 8,
   "id": "7e394f5c",
   "metadata": {},
   "outputs": [
    {
     "name": "stdout",
     "output_type": "stream",
     "text": [
      "-0.21928170816551162\n"
     ]
    }
   ],
   "source": [
    "mean1= np.mean(newX[0])\n",
    "print(mean1)"
   ]
  },
  {
   "cell_type": "code",
   "execution_count": 9,
   "id": "798a61e7",
   "metadata": {},
   "outputs": [
    {
     "name": "stdout",
     "output_type": "stream",
     "text": [
      "-0.37656710590544784\n"
     ]
    }
   ],
   "source": [
    "mean2= np.mean(newX[1])\n",
    "print(mean2)"
   ]
  },
  {
   "cell_type": "code",
   "execution_count": 10,
   "id": "551c91d3",
   "metadata": {},
   "outputs": [
    {
     "name": "stdout",
     "output_type": "stream",
     "text": [
      "0.977797936145666\n"
     ]
    }
   ],
   "source": [
    "std_dev1= np.std(newX[0])\n",
    "print(std_dev1)"
   ]
  },
  {
   "cell_type": "code",
   "execution_count": 11,
   "id": "8ed9285e",
   "metadata": {},
   "outputs": [
    {
     "name": "stdout",
     "output_type": "stream",
     "text": [
      "0.8449954978585525\n"
     ]
    }
   ],
   "source": [
    "std_dev2= np.std(newX[1])\n",
    "print(std_dev2)"
   ]
  },
  {
   "cell_type": "code",
   "execution_count": null,
   "id": "37a1d7ab",
   "metadata": {},
   "outputs": [],
   "source": []
  },
  {
   "cell_type": "code",
   "execution_count": 12,
   "id": "636f329c",
   "metadata": {},
   "outputs": [
    {
     "name": "stdout",
     "output_type": "stream",
     "text": [
      "[[0.80545054 0.75434899]\n",
      " [0.31306644 0.63403668]]\n"
     ]
    }
   ],
   "source": [
    "two = np.random.rand(2, 2)\n",
    "print(two)"
   ]
  },
  {
   "cell_type": "code",
   "execution_count": 13,
   "id": "dcdb07b0",
   "metadata": {},
   "outputs": [],
   "source": [
    "res = np.dot(X,two).reshape(2,20)"
   ]
  },
  {
   "cell_type": "code",
   "execution_count": 14,
   "id": "6443b917",
   "metadata": {},
   "outputs": [
    {
     "name": "stdout",
     "output_type": "stream",
     "text": [
      "[[ 1.01504215  1.4147059  -0.24533833 -0.21079672 -0.27269092 -0.7472856\n",
      "  -0.35360002 -0.05289181  0.46170445  0.27701017  0.4289065  -0.17452272\n",
      "  -1.47834623 -1.80460695 -0.64770096 -0.83434253 -0.18599903 -0.38310791\n",
      "   0.50430871 -0.11838255]\n",
      " [-0.68008397 -0.51508595 -0.83922652 -0.28471478 -1.1289965  -1.24473913\n",
      "  -1.01635853 -1.23406237  0.24666228  0.40409096 -0.30331443  0.14178932\n",
      "  -0.34266799 -0.62417706 -0.70440976 -0.65336595  0.19581367  0.18800813\n",
      "  -1.6442451  -1.89582733]]\n"
     ]
    }
   ],
   "source": [
    "print(res)"
   ]
  },
  {
   "cell_type": "code",
   "execution_count": 15,
   "id": "885891d5",
   "metadata": {},
   "outputs": [
    {
     "data": {
      "text/plain": [
       "<matplotlib.collections.PathCollection at 0x230fad56ee0>"
      ]
     },
     "execution_count": 15,
     "metadata": {},
     "output_type": "execute_result"
    },
    {
     "data": {
      "image/png": "[encoded data removed]",
      "text/plain": [
       "<Figure size 432x288 with 1 Axes>"
      ]
     },
     "metadata": {
      "needs_background": "light"
     },
     "output_type": "display_data"
    }
   ],
   "source": [
    "plt.scatter(res[0],res[1])"
   ]
  },
  {
   "cell_type": "code",
   "execution_count": 16,
   "id": "89a7862b",
   "metadata": {},
   "outputs": [
    {
     "data": {
      "image/png": "[encoded data removed]",
      "text/plain": [
       "<Figure size 432x288 with 1 Axes>"
      ]
     },
     "metadata": {
      "needs_background": "light"
     },
     "output_type": "display_data"
    }
   ],
   "source": [
    "np.random.seed(50)\n",
    "data_matrix = np.random.normal(0, 1, (20, 2))\n",
    "transform_matrix = np.random.normal(0, 1, (2, 2))\n",
    "\n",
    "result_matrix = np.matmul(data_matrix, transform_matrix)\n",
    "\n",
    "\n",
    "plt.scatter(result_matrix[:, 0], result_matrix[:, 1])\n",
    "plt.xlabel('X')\n",
    "plt.ylabel('Y')\n",
    "plt.title('Transformed Data Plot')\n",
    "plt.show()\n"
   ]
  },
  {
   "cell_type": "code",
   "execution_count": 17,
   "id": "1f7058d7",
   "metadata": {},
   "outputs": [
    {
     "data": {
      "text/plain": [
       "array([[ 0.286161  , -1.11274287],\n",
       "       [-1.1312314 ,  1.74456198],\n",
       "       [-0.69170904,  1.76717855],\n",
       "       [ 1.0740256 , -2.19194413],\n",
       "       [-0.88113755,  1.0466423 ],\n",
       "       [ 0.71389197, -1.20475326],\n",
       "       [-0.42648092,  1.02162058],\n",
       "       [ 1.57076364, -3.14945837],\n",
       "       [ 0.18268205,  0.97471483],\n",
       "       [ 0.61201112, -1.02673806],\n",
       "       [ 0.20594405, -0.51581465],\n",
       "       [-0.05517247, -0.06423859],\n",
       "       [ 0.21678619, -0.32629371],\n",
       "       [ 1.52323634, -2.78593863],\n",
       "       [ 0.6218584 , -1.1510149 ],\n",
       "       [ 0.92800285, -1.2021145 ],\n",
       "       [ 0.6914108 , -1.74985756],\n",
       "       [ 0.16060268,  0.01244881],\n",
       "       [ 1.24047215, -2.30226325],\n",
       "       [ 0.44730057, -1.02992236]])"
      ]
     },
     "execution_count": 17,
     "metadata": {},
     "output_type": "execute_result"
    }
   ],
   "source": [
    "result_matrix"
   ]
  },
  {
   "cell_type": "code",
   "execution_count": 18,
   "id": "a5fc1b96",
   "metadata": {},
   "outputs": [
    {
     "name": "stdout",
     "output_type": "stream",
     "text": [
      "1.5101883677942127\n"
     ]
    }
   ],
   "source": [
    "variance = np.var(result_matrix)\n",
    "print(variance)"
   ]
  },
  {
   "cell_type": "code",
   "execution_count": 19,
   "id": "310a806c",
   "metadata": {},
   "outputs": [
    {
     "name": "stdout",
     "output_type": "stream",
     "text": [
      "[[ 0.55701234 -1.02257707]\n",
      " [-1.02257707  2.06746261]]\n"
     ]
    }
   ],
   "source": [
    "co_var = np.cov(result_matrix.T)\n",
    "print(co_var)"
   ]
  },
  {
   "cell_type": "code",
   "execution_count": null,
   "id": "b838dd1c",
   "metadata": {},
   "outputs": [],
   "source": []
  },
  {
   "cell_type": "code",
   "execution_count": 20,
   "id": "ba6c1b36",
   "metadata": {},
   "outputs": [
    {
     "name": "stdout",
     "output_type": "stream",
     "text": [
      "[0.04100623 2.58346872]\n"
     ]
    }
   ],
   "source": [
    "eigen_value = np.linalg.eigvals(co_var)\n",
    "print(eigen_value)"
   ]
  },
  {
   "cell_type": "code",
   "execution_count": 21,
   "id": "7670bf69",
   "metadata": {},
   "outputs": [],
   "source": [
    "e_values, e_vectors = np.linalg.eig(co_var)"
   ]
  },
  {
   "cell_type": "code",
   "execution_count": 22,
   "id": "d93c424c",
   "metadata": {},
   "outputs": [
    {
     "data": {
      "text/plain": [
       "array([0.04100623, 2.58346872])"
      ]
     },
     "execution_count": 22,
     "metadata": {},
     "output_type": "execute_result"
    }
   ],
   "source": [
    "e_values"
   ]
  },
  {
   "cell_type": "code",
   "execution_count": 23,
   "id": "008f6fec",
   "metadata": {},
   "outputs": [
    {
     "data": {
      "text/plain": [
       "array([[-0.89277363,  0.45050555],\n",
       "       [-0.45050555, -0.89277363]])"
      ]
     },
     "execution_count": 23,
     "metadata": {},
     "output_type": "execute_result"
    }
   ],
   "source": [
    "e_vectors"
   ]
  },
  {
   "cell_type": "code",
   "execution_count": 24,
   "id": "feb730b1",
   "metadata": {},
   "outputs": [
    {
     "data": {
      "text/plain": [
       "array([0.04100623, 2.58346872])"
      ]
     },
     "execution_count": 24,
     "metadata": {},
     "output_type": "execute_result"
    }
   ],
   "source": [
    "e_values"
   ]
  },
  {
   "cell_type": "code",
   "execution_count": 25,
   "id": "5e6572b7",
   "metadata": {},
   "outputs": [],
   "source": [
    "proportion_of_variance = e_values/sum(e_values)"
   ]
  },
  {
   "cell_type": "code",
   "execution_count": 26,
   "id": "6e9c37c2",
   "metadata": {},
   "outputs": [
    {
     "data": {
      "text/plain": [
       "array([0.01562455, 0.98437545])"
      ]
     },
     "execution_count": 26,
     "metadata": {},
     "output_type": "execute_result"
    }
   ],
   "source": [
    "proportion_of_variance"
   ]
  },
  {
   "cell_type": "markdown",
   "id": "86ce4ad7",
   "metadata": {},
   "source": [
    "9 ) Implement Y= PX"
   ]
  },
  {
   "cell_type": "code",
   "execution_count": 27,
   "id": "8426ee3f",
   "metadata": {},
   "outputs": [],
   "source": [
    "Y = np.dot(e_vectors.T,result_matrix.T)"
   ]
  },
  {
   "cell_type": "code",
   "execution_count": 28,
   "id": "93c5a148",
   "metadata": {},
   "outputs": [
    {
     "data": {
      "text/plain": [
       "array([[ 0.24581984,  0.22399871, -0.17858415,  0.02862126,  0.31513821,\n",
       "        -0.09459589, -0.07949482,  0.01651212, -0.60220815, -0.0838362 ,\n",
       "         0.04851595,  0.07819636, -0.04654387, -0.10482442, -0.03664018,\n",
       "        -0.28693722,  0.17104721, -0.14899009, -0.07027845,  0.06464759],\n",
       "       [ 1.12234461, -2.06712496, -1.88930917,  2.4407644 , -1.331372  ,\n",
       "         1.39718423, -1.10420793,  3.51939111, -0.78790042,  1.19235907,\n",
       "         0.55328465,  0.03249501,  0.3889698 ,  3.17343896,  1.3077464 ,\n",
       "         1.49128655,  1.87371109,  0.06123843,  2.6142395 ,  1.12099891]])"
      ]
     },
     "execution_count": 28,
     "metadata": {},
     "output_type": "execute_result"
    }
   ],
   "source": [
    "Y"
   ]
  },
  {
   "cell_type": "code",
   "execution_count": 29,
   "id": "1c6a3fa9",
   "metadata": {},
   "outputs": [],
   "source": [
    "Sy= np.cov(Y)"
   ]
  },
  {
   "cell_type": "code",
   "execution_count": 30,
   "id": "1605b941",
   "metadata": {},
   "outputs": [
    {
     "data": {
      "text/plain": [
       "array([[4.10062338e-02, 5.36040450e-17],\n",
       "       [5.36040450e-17, 2.58346872e+00]])"
      ]
     },
     "execution_count": 30,
     "metadata": {},
     "output_type": "execute_result"
    }
   ],
   "source": [
    "Sy"
   ]
  },
  {
   "cell_type": "code",
   "execution_count": 31,
   "id": "f8c3319a",
   "metadata": {},
   "outputs": [
    {
     "data": {
      "text/plain": [
       "(2, 20)"
      ]
     },
     "execution_count": 31,
     "metadata": {},
     "output_type": "execute_result"
    }
   ],
   "source": [
    "Y.shape"
   ]
  },
  {
   "cell_type": "code",
   "execution_count": 32,
   "id": "b6a7d2c8",
   "metadata": {},
   "outputs": [
    {
     "data": {
      "image/png": "[encoded data removed]",
      "text/plain": [
       "<Figure size 432x288 with 1 Axes>"
      ]
     },
     "metadata": {
      "needs_background": "light"
     },
     "output_type": "display_data"
    }
   ],
   "source": [
    "y_dump = np.zeros_like(Y[0])\n",
    "plt.scatter(Y[0],y_dump)\n",
    "plt.grid(True)"
   ]
  },
  {
   "cell_type": "code",
   "execution_count": null,
   "id": "3227b6d4",
   "metadata": {},
   "outputs": [],
   "source": []
  },
  {
   "cell_type": "markdown",
   "id": "cf74c4b4",
   "metadata": {},
   "source": [
    "## Using dataset from sklearn"
   ]
  },
  {
   "cell_type": "code",
   "execution_count": 33,
   "id": "58c04449",
   "metadata": {},
   "outputs": [],
   "source": [
    "from sklearn import datasets\n",
    "from sklearn.preprocessing import StandardScaler\n",
    "import pandas as pd"
   ]
  },
  {
   "cell_type": "code",
   "execution_count": 34,
   "id": "655d914a",
   "metadata": {},
   "outputs": [],
   "source": [
    "iris = datasets.load_iris()"
   ]
  },
  {
   "cell_type": "code",
   "execution_count": 35,
   "id": "77767a78",
   "metadata": {},
   "outputs": [
    {
     "name": "stdout",
     "output_type": "stream",
     "text": [
      "[0 0 0 0 0 0 0 0 0 0 0 0 0 0 0 0 0 0 0 0 0 0 0 0 0 0 0 0 0 0 0 0 0 0 0 0 0\n",
      " 0 0 0 0 0 0 0 0 0 0 0 0 0 1 1 1 1 1 1 1 1 1 1 1 1 1 1 1 1 1 1 1 1 1 1 1 1\n",
      " 1 1 1 1 1 1 1 1 1 1 1 1 1 1 1 1 1 1 1 1 1 1 1 1 1 1 2 2 2 2 2 2 2 2 2 2 2\n",
      " 2 2 2 2 2 2 2 2 2 2 2 2 2 2 2 2 2 2 2 2 2 2 2 2 2 2 2 2 2 2 2 2 2 2 2 2 2\n",
      " 2 2]\n"
     ]
    }
   ],
   "source": [
    "print(iris.target)"
   ]
  },
  {
   "cell_type": "code",
   "execution_count": 36,
   "id": "388c801b",
   "metadata": {},
   "outputs": [],
   "source": [
    "df= pd.DataFrame(iris.data)\n",
    "df.columns =  ['Sepal length','Sepal Width','Petal Length','Petal width']"
   ]
  },
  {
   "cell_type": "code",
   "execution_count": 37,
   "id": "9b29e839",
   "metadata": {},
   "outputs": [],
   "source": [
    "df[\"Target\"] = pd.DataFrame(iris.target)"
   ]
  },
  {
   "cell_type": "code",
   "execution_count": 38,
   "id": "dc1f4c50",
   "metadata": {},
   "outputs": [
    {
     "data": {
      "text/html": [
       "<div>\n",
       "<style scoped>\n",
       "    .dataframe tbody tr th:only-of-type {\n",
       "        vertical-align: middle;\n",
       "    }\n",
       "\n",
       "    .dataframe tbody tr th {\n",
       "        vertical-align: top;\n",
       "    }\n",
       "\n",
       "    .dataframe thead th {\n",
       "        text-align: right;\n",
       "    }\n",
       "</style>\n",
       "<table border=\"1\" class=\"dataframe\">\n",
       "  <thead>\n",
       "    <tr style=\"text-align: right;\">\n",
       "      <th></th>\n",
       "      <th>Sepal length</th>\n",
       "      <th>Sepal Width</th>\n",
       "      <th>Petal Length</th>\n",
       "      <th>Petal width</th>\n",
       "      <th>Target</th>\n",
       "    </tr>\n",
       "  </thead>\n",
       "  <tbody>\n",
       "    <tr>\n",
       "      <th>0</th>\n",
       "      <td>5.1</td>\n",
       "      <td>3.5</td>\n",
       "      <td>1.4</td>\n",
       "      <td>0.2</td>\n",
       "      <td>0</td>\n",
       "    </tr>\n",
       "    <tr>\n",
       "      <th>1</th>\n",
       "      <td>4.9</td>\n",
       "      <td>3.0</td>\n",
       "      <td>1.4</td>\n",
       "      <td>0.2</td>\n",
       "      <td>0</td>\n",
       "    </tr>\n",
       "    <tr>\n",
       "      <th>2</th>\n",
       "      <td>4.7</td>\n",
       "      <td>3.2</td>\n",
       "      <td>1.3</td>\n",
       "      <td>0.2</td>\n",
       "      <td>0</td>\n",
       "    </tr>\n",
       "    <tr>\n",
       "      <th>3</th>\n",
       "      <td>4.6</td>\n",
       "      <td>3.1</td>\n",
       "      <td>1.5</td>\n",
       "      <td>0.2</td>\n",
       "      <td>0</td>\n",
       "    </tr>\n",
       "    <tr>\n",
       "      <th>4</th>\n",
       "      <td>5.0</td>\n",
       "      <td>3.6</td>\n",
       "      <td>1.4</td>\n",
       "      <td>0.2</td>\n",
       "      <td>0</td>\n",
       "    </tr>\n",
       "    <tr>\n",
       "      <th>5</th>\n",
       "      <td>5.4</td>\n",
       "      <td>3.9</td>\n",
       "      <td>1.7</td>\n",
       "      <td>0.4</td>\n",
       "      <td>0</td>\n",
       "    </tr>\n",
       "    <tr>\n",
       "      <th>6</th>\n",
       "      <td>4.6</td>\n",
       "      <td>3.4</td>\n",
       "      <td>1.4</td>\n",
       "      <td>0.3</td>\n",
       "      <td>0</td>\n",
       "    </tr>\n",
       "    <tr>\n",
       "      <th>7</th>\n",
       "      <td>5.0</td>\n",
       "      <td>3.4</td>\n",
       "      <td>1.5</td>\n",
       "      <td>0.2</td>\n",
       "      <td>0</td>\n",
       "    </tr>\n",
       "    <tr>\n",
       "      <th>8</th>\n",
       "      <td>4.4</td>\n",
       "      <td>2.9</td>\n",
       "      <td>1.4</td>\n",
       "      <td>0.2</td>\n",
       "      <td>0</td>\n",
       "    </tr>\n",
       "    <tr>\n",
       "      <th>9</th>\n",
       "      <td>4.9</td>\n",
       "      <td>3.1</td>\n",
       "      <td>1.5</td>\n",
       "      <td>0.1</td>\n",
       "      <td>0</td>\n",
       "    </tr>\n",
       "  </tbody>\n",
       "</table>\n",
       "</div>"
      ],
      "text/plain": [
       "   Sepal length  Sepal Width  Petal Length  Petal width  Target\n",
       "0           5.1          3.5           1.4          0.2       0\n",
       "1           4.9          3.0           1.4          0.2       0\n",
       "2           4.7          3.2           1.3          0.2       0\n",
       "3           4.6          3.1           1.5          0.2       0\n",
       "4           5.0          3.6           1.4          0.2       0\n",
       "5           5.4          3.9           1.7          0.4       0\n",
       "6           4.6          3.4           1.4          0.3       0\n",
       "7           5.0          3.4           1.5          0.2       0\n",
       "8           4.4          2.9           1.4          0.2       0\n",
       "9           4.9          3.1           1.5          0.1       0"
      ]
     },
     "execution_count": 38,
     "metadata": {},
     "output_type": "execute_result"
    }
   ],
   "source": [
    "df.head(10)"
   ]
  },
  {
   "cell_type": "code",
   "execution_count": 39,
   "id": "769a4fa5",
   "metadata": {},
   "outputs": [],
   "source": [
    "tar = pd.DataFrame(iris.target)"
   ]
  },
  {
   "cell_type": "code",
   "execution_count": 40,
   "id": "b1d1d1ee",
   "metadata": {},
   "outputs": [
    {
     "data": {
      "text/plain": [
       "{'data': array([[5.1, 3.5, 1.4, 0.2],\n",
       "        [4.9, 3. , 1.4, 0.2],\n",
       "        [4.7, 3.2, 1.3, 0.2],\n",
       "        [4.6, 3.1, 1.5, 0.2],\n",
       "        [5. , 3.6, 1.4, 0.2],\n",
       "        [5.4, 3.9, 1.7, 0.4],\n",
       "        [4.6, 3.4, 1.4, 0.3],\n",
       "        [5. , 3.4, 1.5, 0.2],\n",
       "        [4.4, 2.9, 1.4, 0.2],\n",
       "        [4.9, 3.1, 1.5, 0.1],\n",
       "        [5.4, 3.7, 1.5, 0.2],\n",
       "        [4.8, 3.4, 1.6, 0.2],\n",
       "        [4.8, 3. , 1.4, 0.1],\n",
       "        [4.3, 3. , 1.1, 0.1],\n",
       "        [5.8, 4. , 1.2, 0.2],\n",
       "        [5.7, 4.4, 1.5, 0.4],\n",
       "        [5.4, 3.9, 1.3, 0.4],\n",
       "        [5.1, 3.5, 1.4, 0.3],\n",
       "        [5.7, 3.8, 1.7, 0.3],\n",
       "        [5.1, 3.8, 1.5, 0.3],\n",
       "        [5.4, 3.4, 1.7, 0.2],\n",
       "        [5.1, 3.7, 1.5, 0.4],\n",
       "        [4.6, 3.6, 1. , 0.2],\n",
       "        [5.1, 3.3, 1.7, 0.5],\n",
       "        [4.8, 3.4, 1.9, 0.2],\n",
       "        [5. , 3. , 1.6, 0.2],\n",
       "        [5. , 3.4, 1.6, 0.4],\n",
       "        [5.2, 3.5, 1.5, 0.2],\n",
       "        [5.2, 3.4, 1.4, 0.2],\n",
       "        [4.7, 3.2, 1.6, 0.2],\n",
       "        [4.8, 3.1, 1.6, 0.2],\n",
       "        [5.4, 3.4, 1.5, 0.4],\n",
       "        [5.2, 4.1, 1.5, 0.1],\n",
       "        [5.5, 4.2, 1.4, 0.2],\n",
       "        [4.9, 3.1, 1.5, 0.2],\n",
       "        [5. , 3.2, 1.2, 0.2],\n",
       "        [5.5, 3.5, 1.3, 0.2],\n",
       "        [4.9, 3.6, 1.4, 0.1],\n",
       "        [4.4, 3. , 1.3, 0.2],\n",
       "        [5.1, 3.4, 1.5, 0.2],\n",
       "        [5. , 3.5, 1.3, 0.3],\n",
       "        [4.5, 2.3, 1.3, 0.3],\n",
       "        [4.4, 3.2, 1.3, 0.2],\n",
       "        [5. , 3.5, 1.6, 0.6],\n",
       "        [5.1, 3.8, 1.9, 0.4],\n",
       "        [4.8, 3. , 1.4, 0.3],\n",
       "        [5.1, 3.8, 1.6, 0.2],\n",
       "        [4.6, 3.2, 1.4, 0.2],\n",
       "        [5.3, 3.7, 1.5, 0.2],\n",
       "        [5. , 3.3, 1.4, 0.2],\n",
       "        [7. , 3.2, 4.7, 1.4],\n",
       "        [6.4, 3.2, 4.5, 1.5],\n",
       "        [6.9, 3.1, 4.9, 1.5],\n",
       "        [5.5, 2.3, 4. , 1.3],\n",
       "        [6.5, 2.8, 4.6, 1.5],\n",
       "        [5.7, 2.8, 4.5, 1.3],\n",
       "        [6.3, 3.3, 4.7, 1.6],\n",
       "        [4.9, 2.4, 3.3, 1. ],\n",
       "        [6.6, 2.9, 4.6, 1.3],\n",
       "        [5.2, 2.7, 3.9, 1.4],\n",
       "        [5. , 2. , 3.5, 1. ],\n",
       "        [5.9, 3. , 4.2, 1.5],\n",
       "        [6. , 2.2, 4. , 1. ],\n",
       "        [6.1, 2.9, 4.7, 1.4],\n",
       "        [5.6, 2.9, 3.6, 1.3],\n",
       "        [6.7, 3.1, 4.4, 1.4],\n",
       "        [5.6, 3. , 4.5, 1.5],\n",
       "        [5.8, 2.7, 4.1, 1. ],\n",
       "        [6.2, 2.2, 4.5, 1.5],\n",
       "        [5.6, 2.5, 3.9, 1.1],\n",
       "        [5.9, 3.2, 4.8, 1.8],\n",
       "        [6.1, 2.8, 4. , 1.3],\n",
       "        [6.3, 2.5, 4.9, 1.5],\n",
       "        [6.1, 2.8, 4.7, 1.2],\n",
       "        [6.4, 2.9, 4.3, 1.3],\n",
       "        [6.6, 3. , 4.4, 1.4],\n",
       "        [6.8, 2.8, 4.8, 1.4],\n",
       "        [6.7, 3. , 5. , 1.7],\n",
       "        [6. , 2.9, 4.5, 1.5],\n",
       "        [5.7, 2.6, 3.5, 1. ],\n",
       "        [5.5, 2.4, 3.8, 1.1],\n",
       "        [5.5, 2.4, 3.7, 1. ],\n",
       "        [5.8, 2.7, 3.9, 1.2],\n",
       "        [6. , 2.7, 5.1, 1.6],\n",
       "        [5.4, 3. , 4.5, 1.5],\n",
       "        [6. , 3.4, 4.5, 1.6],\n",
       "        [6.7, 3.1, 4.7, 1.5],\n",
       "        [6.3, 2.3, 4.4, 1.3],\n",
       "        [5.6, 3. , 4.1, 1.3],\n",
       "        [5.5, 2.5, 4. , 1.3],\n",
       "        [5.5, 2.6, 4.4, 1.2],\n",
       "        [6.1, 3. , 4.6, 1.4],\n",
       "        [5.8, 2.6, 4. , 1.2],\n",
       "        [5. , 2.3, 3.3, 1. ],\n",
       "        [5.6, 2.7, 4.2, 1.3],\n",
       "        [5.7, 3. , 4.2, 1.2],\n",
       "        [5.7, 2.9, 4.2, 1.3],\n",
       "        [6.2, 2.9, 4.3, 1.3],\n",
       "        [5.1, 2.5, 3. , 1.1],\n",
       "        [5.7, 2.8, 4.1, 1.3],\n",
       "        [6.3, 3.3, 6. , 2.5],\n",
       "        [5.8, 2.7, 5.1, 1.9],\n",
       "        [7.1, 3. , 5.9, 2.1],\n",
       "        [6.3, 2.9, 5.6, 1.8],\n",
       "        [6.5, 3. , 5.8, 2.2],\n",
       "        [7.6, 3. , 6.6, 2.1],\n",
       "        [4.9, 2.5, 4.5, 1.7],\n",
       "        [7.3, 2.9, 6.3, 1.8],\n",
       "        [6.7, 2.5, 5.8, 1.8],\n",
       "        [7.2, 3.6, 6.1, 2.5],\n",
       "        [6.5, 3.2, 5.1, 2. ],\n",
       "        [6.4, 2.7, 5.3, 1.9],\n",
       "        [6.8, 3. , 5.5, 2.1],\n",
       "        [5.7, 2.5, 5. , 2. ],\n",
       "        [5.8, 2.8, 5.1, 2.4],\n",
       "        [6.4, 3.2, 5.3, 2.3],\n",
       "        [6.5, 3. , 5.5, 1.8],\n",
       "        [7.7, 3.8, 6.7, 2.2],\n",
       "        [7.7, 2.6, 6.9, 2.3],\n",
       "        [6. , 2.2, 5. , 1.5],\n",
       "        [6.9, 3.2, 5.7, 2.3],\n",
       "        [5.6, 2.8, 4.9, 2. ],\n",
       "        [7.7, 2.8, 6.7, 2. ],\n",
       "        [6.3, 2.7, 4.9, 1.8],\n",
       "        [6.7, 3.3, 5.7, 2.1],\n",
       "        [7.2, 3.2, 6. , 1.8],\n",
       "        [6.2, 2.8, 4.8, 1.8],\n",
       "        [6.1, 3. , 4.9, 1.8],\n",
       "        [6.4, 2.8, 5.6, 2.1],\n",
       "        [7.2, 3. , 5.8, 1.6],\n",
       "        [7.4, 2.8, 6.1, 1.9],\n",
       "        [7.9, 3.8, 6.4, 2. ],\n",
       "        [6.4, 2.8, 5.6, 2.2],\n",
       "        [6.3, 2.8, 5.1, 1.5],\n",
       "        [6.1, 2.6, 5.6, 1.4],\n",
       "        [7.7, 3. , 6.1, 2.3],\n",
       "        [6.3, 3.4, 5.6, 2.4],\n",
       "        [6.4, 3.1, 5.5, 1.8],\n",
       "        [6. , 3. , 4.8, 1.8],\n",
       "        [6.9, 3.1, 5.4, 2.1],\n",
       "        [6.7, 3.1, 5.6, 2.4],\n",
       "        [6.9, 3.1, 5.1, 2.3],\n",
       "        [5.8, 2.7, 5.1, 1.9],\n",
       "        [6.8, 3.2, 5.9, 2.3],\n",
       "        [6.7, 3.3, 5.7, 2.5],\n",
       "        [6.7, 3. , 5.2, 2.3],\n",
       "        [6.3, 2.5, 5. , 1.9],\n",
       "        [6.5, 3. , 5.2, 2. ],\n",
       "        [6.2, 3.4, 5.4, 2.3],\n",
       "        [5.9, 3. , 5.1, 1.8]]),\n",
       " 'target': array([0, 0, 0, 0, 0, 0, 0, 0, 0, 0, 0, 0, 0, 0, 0, 0, 0, 0, 0, 0, 0, 0,\n",
       "        0, 0, 0, 0, 0, 0, 0, 0, 0, 0, 0, 0, 0, 0, 0, 0, 0, 0, 0, 0, 0, 0,\n",
       "        0, 0, 0, 0, 0, 0, 1, 1, 1, 1, 1, 1, 1, 1, 1, 1, 1, 1, 1, 1, 1, 1,\n",
       "        1, 1, 1, 1, 1, 1, 1, 1, 1, 1, 1, 1, 1, 1, 1, 1, 1, 1, 1, 1, 1, 1,\n",
       "        1, 1, 1, 1, 1, 1, 1, 1, 1, 1, 1, 1, 2, 2, 2, 2, 2, 2, 2, 2, 2, 2,\n",
       "        2, 2, 2, 2, 2, 2, 2, 2, 2, 2, 2, 2, 2, 2, 2, 2, 2, 2, 2, 2, 2, 2,\n",
       "        2, 2, 2, 2, 2, 2, 2, 2, 2, 2, 2, 2, 2, 2, 2, 2, 2, 2]),\n",
       " 'frame': None,\n",
       " 'target_names': array(['setosa', 'versicolor', 'virginica'], dtype='<U10'),\n",
       " 'DESCR': '.. _iris_dataset:\\n\\nIris plants dataset\\n--------------------\\n\\n**Data Set Characteristics:**\\n\\n    :Number of Instances: 150 (50 in each of three classes)\\n    :Number of Attributes: 4 numeric, predictive attributes and the class\\n    :Attribute Information:\\n        - sepal length in cm\\n        - sepal width in cm\\n        - petal length in cm\\n        - petal width in cm\\n        - class:\\n                - Iris-Setosa\\n                - Iris-Versicolour\\n                - Iris-Virginica\\n                \\n    :Summary Statistics:\\n\\n    ============== ==== ==== ======= ===== ====================\\n                    Min  Max   Mean    SD   Class Correlation\\n    ============== ==== ==== ======= ===== ====================\\n    sepal length:   4.3  7.9   5.84   0.83    0.7826\\n    sepal width:    2.0  4.4   3.05   0.43   -0.4194\\n    petal length:   1.0  6.9   3.76   1.76    0.9490  (high!)\\n    petal width:    0.1  2.5   1.20   0.76    0.9565  (high!)\\n    ============== ==== ==== ======= ===== ====================\\n\\n    :Missing Attribute Values: None\\n    :Class Distribution: 33.3% for each of 3 classes.\\n    :Creator: R.A. Fisher\\n    :Donor: Michael Marshall (MARSHALL%PLU@io.arc.nasa.gov)\\n    :Date: July, 1988\\n\\nThe famous Iris database, first used by Sir R.A. Fisher. The dataset is taken\\nfrom Fisher\\'s paper. Note that it\\'s the same as in R, but not as in the UCI\\nMachine Learning Repository, which has two wrong data points.\\n\\nThis is perhaps the best known database to be found in the\\npattern recognition literature.  Fisher\\'s paper is a classic in the field and\\nis referenced frequently to this day.  (See Duda & Hart, for example.)  The\\ndata set contains 3 classes of 50 instances each, where each class refers to a\\ntype of iris plant.  One class is linearly separable from the other 2; the\\nlatter are NOT linearly separable from each other.\\n\\n.. topic:: References\\n\\n   - Fisher, R.A. \"The use of multiple measurements in taxonomic problems\"\\n     Annual Eugenics, 7, Part II, 179-188 (1936); also in \"Contributions to\\n     Mathematical Statistics\" (John Wiley, NY, 1950).\\n   - Duda, R.O., & Hart, P.E. (1973) Pattern Classification and Scene Analysis.\\n     (Q327.D83) John Wiley & Sons.  ISBN 0-471-22361-1.  See page 218.\\n   - Dasarathy, B.V. (1980) \"Nosing Around the Neighborhood: A New System\\n     Structure and Classification Rule for Recognition in Partially Exposed\\n     Environments\".  IEEE Transactions on Pattern Analysis and Machine\\n     Intelligence, Vol. PAMI-2, No. 1, 67-71.\\n   - Gates, G.W. (1972) \"The Reduced Nearest Neighbor Rule\".  IEEE Transactions\\n     on Information Theory, May 1972, 431-433.\\n   - See also: 1988 MLC Proceedings, 54-64.  Cheeseman et al\"s AUTOCLASS II\\n     conceptual clustering system finds 3 classes in the data.\\n   - Many, many more ...',\n",
       " 'feature_names': ['sepal length (cm)',\n",
       "  'sepal width (cm)',\n",
       "  'petal length (cm)',\n",
       "  'petal width (cm)'],\n",
       " 'filename': 'iris.csv',\n",
       " 'data_module': 'sklearn.datasets.data'}"
      ]
     },
     "execution_count": 40,
     "metadata": {},
     "output_type": "execute_result"
    }
   ],
   "source": [
    "iris"
   ]
  },
  {
   "cell_type": "code",
   "execution_count": 41,
   "id": "d8740791",
   "metadata": {},
   "outputs": [
    {
     "name": "stdout",
     "output_type": "stream",
     "text": [
      "0    50\n",
      "1    50\n",
      "2    50\n",
      "Name: 0, dtype: int64\n"
     ]
    }
   ],
   "source": [
    "print(tar[0].value_counts())"
   ]
  },
  {
   "cell_type": "code",
   "execution_count": 42,
   "id": "51f300f1",
   "metadata": {},
   "outputs": [],
   "source": [
    "X = df.iloc[:,0:4].values"
   ]
  },
  {
   "cell_type": "code",
   "execution_count": 43,
   "id": "0e54361c",
   "metadata": {},
   "outputs": [
    {
     "data": {
      "text/plain": [
       "array([[5.1, 3.5, 1.4, 0.2],\n",
       "       [4.9, 3. , 1.4, 0.2],\n",
       "       [4.7, 3.2, 1.3, 0.2],\n",
       "       [4.6, 3.1, 1.5, 0.2],\n",
       "       [5. , 3.6, 1.4, 0.2],\n",
       "       [5.4, 3.9, 1.7, 0.4],\n",
       "       [4.6, 3.4, 1.4, 0.3],\n",
       "       [5. , 3.4, 1.5, 0.2],\n",
       "       [4.4, 2.9, 1.4, 0.2],\n",
       "       [4.9, 3.1, 1.5, 0.1],\n",
       "       [5.4, 3.7, 1.5, 0.2],\n",
       "       [4.8, 3.4, 1.6, 0.2],\n",
       "       [4.8, 3. , 1.4, 0.1],\n",
       "       [4.3, 3. , 1.1, 0.1],\n",
       "       [5.8, 4. , 1.2, 0.2],\n",
       "       [5.7, 4.4, 1.5, 0.4],\n",
       "       [5.4, 3.9, 1.3, 0.4],\n",
       "       [5.1, 3.5, 1.4, 0.3],\n",
       "       [5.7, 3.8, 1.7, 0.3],\n",
       "       [5.1, 3.8, 1.5, 0.3],\n",
       "       [5.4, 3.4, 1.7, 0.2],\n",
       "       [5.1, 3.7, 1.5, 0.4],\n",
       "       [4.6, 3.6, 1. , 0.2],\n",
       "       [5.1, 3.3, 1.7, 0.5],\n",
       "       [4.8, 3.4, 1.9, 0.2],\n",
       "       [5. , 3. , 1.6, 0.2],\n",
       "       [5. , 3.4, 1.6, 0.4],\n",
       "       [5.2, 3.5, 1.5, 0.2],\n",
       "       [5.2, 3.4, 1.4, 0.2],\n",
       "       [4.7, 3.2, 1.6, 0.2],\n",
       "       [4.8, 3.1, 1.6, 0.2],\n",
       "       [5.4, 3.4, 1.5, 0.4],\n",
       "       [5.2, 4.1, 1.5, 0.1],\n",
       "       [5.5, 4.2, 1.4, 0.2],\n",
       "       [4.9, 3.1, 1.5, 0.2],\n",
       "       [5. , 3.2, 1.2, 0.2],\n",
       "       [5.5, 3.5, 1.3, 0.2],\n",
       "       [4.9, 3.6, 1.4, 0.1],\n",
       "       [4.4, 3. , 1.3, 0.2],\n",
       "       [5.1, 3.4, 1.5, 0.2],\n",
       "       [5. , 3.5, 1.3, 0.3],\n",
       "       [4.5, 2.3, 1.3, 0.3],\n",
       "       [4.4, 3.2, 1.3, 0.2],\n",
       "       [5. , 3.5, 1.6, 0.6],\n",
       "       [5.1, 3.8, 1.9, 0.4],\n",
       "       [4.8, 3. , 1.4, 0.3],\n",
       "       [5.1, 3.8, 1.6, 0.2],\n",
       "       [4.6, 3.2, 1.4, 0.2],\n",
       "       [5.3, 3.7, 1.5, 0.2],\n",
       "       [5. , 3.3, 1.4, 0.2],\n",
       "       [7. , 3.2, 4.7, 1.4],\n",
       "       [6.4, 3.2, 4.5, 1.5],\n",
       "       [6.9, 3.1, 4.9, 1.5],\n",
       "       [5.5, 2.3, 4. , 1.3],\n",
       "       [6.5, 2.8, 4.6, 1.5],\n",
       "       [5.7, 2.8, 4.5, 1.3],\n",
       "       [6.3, 3.3, 4.7, 1.6],\n",
       "       [4.9, 2.4, 3.3, 1. ],\n",
       "       [6.6, 2.9, 4.6, 1.3],\n",
       "       [5.2, 2.7, 3.9, 1.4],\n",
       "       [5. , 2. , 3.5, 1. ],\n",
       "       [5.9, 3. , 4.2, 1.5],\n",
       "       [6. , 2.2, 4. , 1. ],\n",
       "       [6.1, 2.9, 4.7, 1.4],\n",
       "       [5.6, 2.9, 3.6, 1.3],\n",
       "       [6.7, 3.1, 4.4, 1.4],\n",
       "       [5.6, 3. , 4.5, 1.5],\n",
       "       [5.8, 2.7, 4.1, 1. ],\n",
       "       [6.2, 2.2, 4.5, 1.5],\n",
       "       [5.6, 2.5, 3.9, 1.1],\n",
       "       [5.9, 3.2, 4.8, 1.8],\n",
       "       [6.1, 2.8, 4. , 1.3],\n",
       "       [6.3, 2.5, 4.9, 1.5],\n",
       "       [6.1, 2.8, 4.7, 1.2],\n",
       "       [6.4, 2.9, 4.3, 1.3],\n",
       "       [6.6, 3. , 4.4, 1.4],\n",
       "       [6.8, 2.8, 4.8, 1.4],\n",
       "       [6.7, 3. , 5. , 1.7],\n",
       "       [6. , 2.9, 4.5, 1.5],\n",
       "       [5.7, 2.6, 3.5, 1. ],\n",
       "       [5.5, 2.4, 3.8, 1.1],\n",
       "       [5.5, 2.4, 3.7, 1. ],\n",
       "       [5.8, 2.7, 3.9, 1.2],\n",
       "       [6. , 2.7, 5.1, 1.6],\n",
       "       [5.4, 3. , 4.5, 1.5],\n",
       "       [6. , 3.4, 4.5, 1.6],\n",
       "       [6.7, 3.1, 4.7, 1.5],\n",
       "       [6.3, 2.3, 4.4, 1.3],\n",
       "       [5.6, 3. , 4.1, 1.3],\n",
       "       [5.5, 2.5, 4. , 1.3],\n",
       "       [5.5, 2.6, 4.4, 1.2],\n",
       "       [6.1, 3. , 4.6, 1.4],\n",
       "       [5.8, 2.6, 4. , 1.2],\n",
       "       [5. , 2.3, 3.3, 1. ],\n",
       "       [5.6, 2.7, 4.2, 1.3],\n",
       "       [5.7, 3. , 4.2, 1.2],\n",
       "       [5.7, 2.9, 4.2, 1.3],\n",
       "       [6.2, 2.9, 4.3, 1.3],\n",
       "       [5.1, 2.5, 3. , 1.1],\n",
       "       [5.7, 2.8, 4.1, 1.3],\n",
       "       [6.3, 3.3, 6. , 2.5],\n",
       "       [5.8, 2.7, 5.1, 1.9],\n",
       "       [7.1, 3. , 5.9, 2.1],\n",
       "       [6.3, 2.9, 5.6, 1.8],\n",
       "       [6.5, 3. , 5.8, 2.2],\n",
       "       [7.6, 3. , 6.6, 2.1],\n",
       "       [4.9, 2.5, 4.5, 1.7],\n",
       "       [7.3, 2.9, 6.3, 1.8],\n",
       "       [6.7, 2.5, 5.8, 1.8],\n",
       "       [7.2, 3.6, 6.1, 2.5],\n",
       "       [6.5, 3.2, 5.1, 2. ],\n",
       "       [6.4, 2.7, 5.3, 1.9],\n",
       "       [6.8, 3. , 5.5, 2.1],\n",
       "       [5.7, 2.5, 5. , 2. ],\n",
       "       [5.8, 2.8, 5.1, 2.4],\n",
       "       [6.4, 3.2, 5.3, 2.3],\n",
       "       [6.5, 3. , 5.5, 1.8],\n",
       "       [7.7, 3.8, 6.7, 2.2],\n",
       "       [7.7, 2.6, 6.9, 2.3],\n",
       "       [6. , 2.2, 5. , 1.5],\n",
       "       [6.9, 3.2, 5.7, 2.3],\n",
       "       [5.6, 2.8, 4.9, 2. ],\n",
       "       [7.7, 2.8, 6.7, 2. ],\n",
       "       [6.3, 2.7, 4.9, 1.8],\n",
       "       [6.7, 3.3, 5.7, 2.1],\n",
       "       [7.2, 3.2, 6. , 1.8],\n",
       "       [6.2, 2.8, 4.8, 1.8],\n",
       "       [6.1, 3. , 4.9, 1.8],\n",
       "       [6.4, 2.8, 5.6, 2.1],\n",
       "       [7.2, 3. , 5.8, 1.6],\n",
       "       [7.4, 2.8, 6.1, 1.9],\n",
       "       [7.9, 3.8, 6.4, 2. ],\n",
       "       [6.4, 2.8, 5.6, 2.2],\n",
       "       [6.3, 2.8, 5.1, 1.5],\n",
       "       [6.1, 2.6, 5.6, 1.4],\n",
       "       [7.7, 3. , 6.1, 2.3],\n",
       "       [6.3, 3.4, 5.6, 2.4],\n",
       "       [6.4, 3.1, 5.5, 1.8],\n",
       "       [6. , 3. , 4.8, 1.8],\n",
       "       [6.9, 3.1, 5.4, 2.1],\n",
       "       [6.7, 3.1, 5.6, 2.4],\n",
       "       [6.9, 3.1, 5.1, 2.3],\n",
       "       [5.8, 2.7, 5.1, 1.9],\n",
       "       [6.8, 3.2, 5.9, 2.3],\n",
       "       [6.7, 3.3, 5.7, 2.5],\n",
       "       [6.7, 3. , 5.2, 2.3],\n",
       "       [6.3, 2.5, 5. , 1.9],\n",
       "       [6.5, 3. , 5.2, 2. ],\n",
       "       [6.2, 3.4, 5.4, 2.3],\n",
       "       [5.9, 3. , 5.1, 1.8]])"
      ]
     },
     "execution_count": 43,
     "metadata": {},
     "output_type": "execute_result"
    }
   ],
   "source": [
    "X"
   ]
  },
  {
   "cell_type": "code",
   "execution_count": 83,
   "id": "88540254",
   "metadata": {},
   "outputs": [
    {
     "data": {
      "text/plain": [
       "<matplotlib.collections.PathCollection at 0x2308fa00b50>"
      ]
     },
     "execution_count": 83,
     "metadata": {},
     "output_type": "execute_result"
    },
    {
     "data": {
      "image/png": "[encoded data removed]",
      "text/plain": [
       "<Figure size 432x288 with 1 Axes>"
      ]
     },
     "metadata": {
      "needs_background": "light"
     },
     "output_type": "display_data"
    }
   ],
   "source": [
    "plt.scatter(X_stand[:,2],X_stand[:,3], c = colors)"
   ]
  },
  {
   "cell_type": "code",
   "execution_count": 44,
   "id": "50388681",
   "metadata": {},
   "outputs": [],
   "source": [
    "mean= np.mean(X)"
   ]
  },
  {
   "cell_type": "code",
   "execution_count": 45,
   "id": "485f5706",
   "metadata": {},
   "outputs": [
    {
     "data": {
      "text/html": [
       "<style>#sk-container-id-1 {color: black;background-color: white;}#sk-container-id-1 pre{padding: 0;}#sk-container-id-1 div.sk-toggleable {background-color: white;}#sk-container-id-1 label.sk-toggleable__label {cursor: pointer;display: block;width: 100%;margin-bottom: 0;padding: 0.3em;box-sizing: border-box;text-align: center;}#sk-container-id-1 label.sk-toggleable__label-arrow:before {content: \"▸\";float: left;margin-right: 0.25em;color: #696969;}#sk-container-id-1 label.sk-toggleable__label-arrow:hover:before {color: black;}#sk-container-id-1 div.sk-estimator:hover label.sk-toggleable__label-arrow:before {color: black;}#sk-container-id-1 div.sk-toggleable__content {max-height: 0;max-width: 0;overflow: hidden;text-align: left;background-color: #f0f8ff;}#sk-container-id-1 div.sk-toggleable__content pre {margin: 0.2em;color: black;border-radius: 0.25em;background-color: #f0f8ff;}#sk-container-id-1 input.sk-toggleable__control:checked~div.sk-toggleable__content {max-height: 200px;max-width: 100%;overflow: auto;}#sk-container-id-1 input.sk-toggleable__control:checked~label.sk-toggleable__label-arrow:before {content: \"▾\";}#sk-container-id-1 div.sk-estimator input.sk-toggleable__control:checked~label.sk-toggleable__label {background-color: #d4ebff;}#sk-container-id-1 div.sk-label input.sk-toggleable__control:checked~label.sk-toggleable__label {background-color: #d4ebff;}#sk-container-id-1 input.sk-hidden--visually {border: 0;clip: rect(1px 1px 1px 1px);clip: rect(1px, 1px, 1px, 1px);height: 1px;margin: -1px;overflow: hidden;padding: 0;position: absolute;width: 1px;}#sk-container-id-1 div.sk-estimator {font-family: monospace;background-color: #f0f8ff;border: 1px dotted black;border-radius: 0.25em;box-sizing: border-box;margin-bottom: 0.5em;}#sk-container-id-1 div.sk-estimator:hover {background-color: #d4ebff;}#sk-container-id-1 div.sk-parallel-item::after {content: \"\";width: 100%;border-bottom: 1px solid gray;flex-grow: 1;}#sk-container-id-1 div.sk-label:hover label.sk-toggleable__label {background-color: #d4ebff;}#sk-container-id-1 div.sk-serial::before {content: \"\";position: absolute;border-left: 1px solid gray;box-sizing: border-box;top: 0;bottom: 0;left: 50%;z-index: 0;}#sk-container-id-1 div.sk-serial {display: flex;flex-direction: column;align-items: center;background-color: white;padding-right: 0.2em;padding-left: 0.2em;position: relative;}#sk-container-id-1 div.sk-item {position: relative;z-index: 1;}#sk-container-id-1 div.sk-parallel {display: flex;align-items: stretch;justify-content: center;background-color: white;position: relative;}#sk-container-id-1 div.sk-item::before, #sk-container-id-1 div.sk-parallel-item::before {content: \"\";position: absolute;border-left: 1px solid gray;box-sizing: border-box;top: 0;bottom: 0;left: 50%;z-index: -1;}#sk-container-id-1 div.sk-parallel-item {display: flex;flex-direction: column;z-index: 1;position: relative;background-color: white;}#sk-container-id-1 div.sk-parallel-item:first-child::after {align-self: flex-end;width: 50%;}#sk-container-id-1 div.sk-parallel-item:last-child::after {align-self: flex-start;width: 50%;}#sk-container-id-1 div.sk-parallel-item:only-child::after {width: 0;}#sk-container-id-1 div.sk-dashed-wrapped {border: 1px dashed gray;margin: 0 0.4em 0.5em 0.4em;box-sizing: border-box;padding-bottom: 0.4em;background-color: white;}#sk-container-id-1 div.sk-label label {font-family: monospace;font-weight: bold;display: inline-block;line-height: 1.2em;}#sk-container-id-1 div.sk-label-container {text-align: center;}#sk-container-id-1 div.sk-container {/* jupyter's `normalize.less` sets `[hidden] { display: none; }` but bootstrap.min.css set `[hidden] { display: none !important; }` so we also need the `!important` here to be able to override the default hidden behavior on the sphinx rendered scikit-learn.org. See: https://github.com/scikit-learn/scikit-learn/issues/21755 */display: inline-block !important;position: relative;}#sk-container-id-1 div.sk-text-repr-fallback {display: none;}</style><div id=\"sk-container-id-1\" class=\"sk-top-container\"><div class=\"sk-text-repr-fallback\"><pre>StandardScaler()</pre><b>In a Jupyter environment, please rerun this cell to show the HTML representation or trust the notebook. <br />On GitHub, the HTML representation is unable to render, please try loading this page with nbviewer.org.</b></div><div class=\"sk-container\" hidden><div class=\"sk-item\"><div class=\"sk-estimator sk-toggleable\"><input class=\"sk-toggleable__control sk-hidden--visually\" id=\"sk-estimator-id-1\" type=\"checkbox\" checked><label for=\"sk-estimator-id-1\" class=\"sk-toggleable__label sk-toggleable__label-arrow\">StandardScaler</label><div class=\"sk-toggleable__content\"><pre>StandardScaler()</pre></div></div></div></div></div>"
      ],
      "text/plain": [
       "StandardScaler()"
      ]
     },
     "execution_count": 45,
     "metadata": {},
     "output_type": "execute_result"
    }
   ],
   "source": [
    "scaler = StandardScaler()\n",
    "\n",
    "# Fit the scaler to the data\n",
    "scaler.fit(X)"
   ]
  },
  {
   "cell_type": "code",
   "execution_count": 46,
   "id": "ed43a067",
   "metadata": {},
   "outputs": [],
   "source": [
    "X_stand =  scaler.transform(X)"
   ]
  },
  {
   "cell_type": "code",
   "execution_count": 148,
   "id": "8159ee7c",
   "metadata": {},
   "outputs": [
    {
     "data": {
      "text/plain": [
       "(150, 4)"
      ]
     },
     "execution_count": 148,
     "metadata": {},
     "output_type": "execute_result"
    }
   ],
   "source": [
    "X_stand.shape"
   ]
  },
  {
   "cell_type": "code",
   "execution_count": 202,
   "id": "febbb3c6",
   "metadata": {},
   "outputs": [
    {
     "data": {
      "text/plain": [
       "array([[ 1.00671141, -0.11835884,  0.87760447,  0.82343066],\n",
       "       [-0.11835884,  1.00671141, -0.43131554, -0.36858315],\n",
       "       [ 0.87760447, -0.43131554,  1.00671141,  0.96932762],\n",
       "       [ 0.82343066, -0.36858315,  0.96932762,  1.00671141]])"
      ]
     },
     "execution_count": 202,
     "metadata": {},
     "output_type": "execute_result"
    }
   ],
   "source": [
    "co_var1 = np.cov(X_stand.T)\n",
    "co_var1"
   ]
  },
  {
   "cell_type": "code",
   "execution_count": 152,
   "id": "2ff108bf",
   "metadata": {},
   "outputs": [],
   "source": [
    "e_values, e_vectors = np.linalg.eig(co_var1)"
   ]
  },
  {
   "cell_type": "code",
   "execution_count": 176,
   "id": "09b7cdc8",
   "metadata": {},
   "outputs": [
    {
     "data": {
      "text/plain": [
       "array([2.93808505, 0.9201649 , 0.14774182, 0.02085386])"
      ]
     },
     "execution_count": 176,
     "metadata": {},
     "output_type": "execute_result"
    }
   ],
   "source": [
    "e_values"
   ]
  },
  {
   "cell_type": "code",
   "execution_count": 177,
   "id": "452b3027",
   "metadata": {},
   "outputs": [
    {
     "data": {
      "text/plain": [
       "array([[ 0.52106591, -0.37741762, -0.71956635,  0.26128628],\n",
       "       [-0.26934744, -0.92329566,  0.24438178, -0.12350962],\n",
       "       [ 0.5804131 , -0.02449161,  0.14212637, -0.80144925],\n",
       "       [ 0.56485654, -0.06694199,  0.63427274,  0.52359713]])"
      ]
     },
     "execution_count": 177,
     "metadata": {},
     "output_type": "execute_result"
    }
   ],
   "source": [
    "e_vectors"
   ]
  },
  {
   "cell_type": "code",
   "execution_count": 178,
   "id": "260204ec",
   "metadata": {},
   "outputs": [
    {
     "data": {
      "text/plain": [
       "array([[ 0.52106591, -0.26934744,  0.5804131 ,  0.56485654],\n",
       "       [-0.37741762, -0.92329566, -0.02449161, -0.06694199],\n",
       "       [-0.71956635,  0.24438178,  0.14212637,  0.63427274],\n",
       "       [ 0.26128628, -0.12350962, -0.80144925,  0.52359713]])"
      ]
     },
     "execution_count": 178,
     "metadata": {},
     "output_type": "execute_result"
    }
   ],
   "source": [
    "e_vectors.T"
   ]
  },
  {
   "cell_type": "code",
   "execution_count": 214,
   "id": "733d26bc",
   "metadata": {},
   "outputs": [],
   "source": [
    "### to sort:\n",
    "idx = e_values.argsort()[::-1]   \n",
    "e_values = e_values[idx]\n",
    "e_vectors = e_vectors[:,idx]"
   ]
  },
  {
   "cell_type": "code",
   "execution_count": 215,
   "id": "a1fff018",
   "metadata": {},
   "outputs": [
    {
     "data": {
      "text/plain": [
       "array([0, 1, 2, 3], dtype=int64)"
      ]
     },
     "execution_count": 215,
     "metadata": {},
     "output_type": "execute_result"
    }
   ],
   "source": [
    "idx"
   ]
  },
  {
   "cell_type": "code",
   "execution_count": 207,
   "id": "ecfcec25",
   "metadata": {},
   "outputs": [
    {
     "data": {
      "text/plain": [
       "array([2.93808505, 0.9201649 , 0.14774182, 0.02085386])"
      ]
     },
     "execution_count": 207,
     "metadata": {},
     "output_type": "execute_result"
    }
   ],
   "source": [
    "e_values"
   ]
  },
  {
   "cell_type": "code",
   "execution_count": 217,
   "id": "f877122a",
   "metadata": {},
   "outputs": [
    {
     "ename": "NameError",
     "evalue": "name '__version__' is not defined",
     "output_type": "error",
     "traceback": [
      "\u001b[1;31m---------------------------------------------------------------------------\u001b[0m",
      "\u001b[1;31mNameError\u001b[0m                                 Traceback (most recent call last)",
      "Input \u001b[1;32mIn [217]\u001b[0m, in \u001b[0;36m<cell line: 1>\u001b[1;34m()\u001b[0m\n\u001b[1;32m----> 1\u001b[0m \u001b[43m__version__\u001b[49m\n",
      "\u001b[1;31mNameError\u001b[0m: name '__version__' is not defined"
     ]
    }
   ],
   "source": [
    "__version__"
   ]
  },
  {
   "cell_type": "code",
   "execution_count": 211,
   "id": "376849e7",
   "metadata": {},
   "outputs": [
    {
     "data": {
      "text/plain": [
       "array([[ 0.52106591, -0.37741762, -0.71956635,  0.26128628],\n",
       "       [-0.26934744, -0.92329566,  0.24438178, -0.12350962],\n",
       "       [ 0.5804131 , -0.02449161,  0.14212637, -0.80144925],\n",
       "       [ 0.56485654, -0.06694199,  0.63427274,  0.52359713]])"
      ]
     },
     "execution_count": 211,
     "metadata": {},
     "output_type": "execute_result"
    }
   ],
   "source": [
    "e_vectors"
   ]
  },
  {
   "cell_type": "code",
   "execution_count": 155,
   "id": "08b9ba6f",
   "metadata": {},
   "outputs": [],
   "source": [
    "proportion_of_variance1 = e_values/sum(e_values)"
   ]
  },
  {
   "cell_type": "code",
   "execution_count": 156,
   "id": "4323904d",
   "metadata": {},
   "outputs": [
    {
     "data": {
      "text/plain": [
       "array([0.72962445, 0.22850762, 0.03668922, 0.00517871])"
      ]
     },
     "execution_count": 156,
     "metadata": {},
     "output_type": "execute_result"
    }
   ],
   "source": [
    "proportion_of_variance1"
   ]
  },
  {
   "cell_type": "code",
   "execution_count": 157,
   "id": "ac77574b",
   "metadata": {},
   "outputs": [],
   "source": [
    "latest_vectors = e_vectors[0:2]"
   ]
  },
  {
   "cell_type": "code",
   "execution_count": 158,
   "id": "777cc989",
   "metadata": {},
   "outputs": [
    {
     "data": {
      "text/plain": [
       "array([[ 0.52106591, -0.37741762, -0.71956635,  0.26128628],\n",
       "       [-0.26934744, -0.92329566,  0.24438178, -0.12350962]])"
      ]
     },
     "execution_count": 158,
     "metadata": {},
     "output_type": "execute_result"
    }
   ],
   "source": [
    "latest_vectors"
   ]
  },
  {
   "cell_type": "code",
   "execution_count": 196,
   "id": "c2a42db5",
   "metadata": {},
   "outputs": [],
   "source": [
    "Y = np.matmul(e_vectors,X.T) "
   ]
  },
  {
   "cell_type": "code",
   "execution_count": 197,
   "id": "30673c85",
   "metadata": {},
   "outputs": [
    {
     "data": {
      "text/plain": [
       "array([[ 0.38133887,  0.4658345 ,  0.35809443,  0.19981633,  0.29149052,\n",
       "         0.22307895,  0.1846763 ,  0.29501741,  0.2430433 ,  0.33000747,\n",
       "         0.39021849,  0.11884759,  0.38759928,  0.34293623,  0.70128948,\n",
       "         0.33460319,  0.51090549,  0.4074675 ,  0.39101186,  0.22228558,\n",
       "         0.3595305 ,  0.28615597,  0.37089069,  0.31933837, -0.09702232,\n",
       "         0.37402782,  0.27531803,  0.36148883,  0.47118723,  0.14222452,\n",
       "         0.23207287,  0.55570103,  0.10890963,  0.32557291,  0.3561361 ,\n",
       "         0.58637084,  0.66172187,  0.2132553 ,  0.27725818,  0.347124  ,\n",
       "         0.42731754,  0.61968573,  0.20177465,  0.28983352, -0.03941233,\n",
       "         0.43985653,  0.12420032,  0.2340312 ,  0.3381119 ,  0.4047158 ,\n",
       "        -0.57643603, -0.71903368, -0.70858551, -0.54079123, -0.58791668,\n",
       "        -0.98507003, -0.92666668, -0.46586198, -0.62580911, -0.74999279,\n",
       "        -0.40670161, -0.68821321, -0.3209024 , -0.93217007, -0.42730867,\n",
       "        -0.47914414, -1.06040289, -0.68578102, -0.44582925, -0.54446878,\n",
       "        -1.11705066, -0.41686049, -0.79477448, -0.94668557, -0.51415238,\n",
       "        -0.49350897, -0.6016388 , -0.79475631, -0.81423476, -0.26840604,\n",
       "        -0.48687698, -0.44104897, -0.4896105 , -1.14436242, -1.16461607,\n",
       "        -0.97681494, -0.66888542, -0.41176504, -0.82483361, -0.61627476,\n",
       "        -0.96797169, -0.8979552 , -0.52382537, -0.37601363, -0.78356496,\n",
       "        -0.87081228, -0.80694189, -0.61836557, -0.15739202, -0.69724349,\n",
       "        -1.62694529, -1.17018972, -1.12942515, -1.37105209, -1.34397943,\n",
       "        -1.37258864, -1.18418297, -1.35368263, -1.15557195, -1.34316788,\n",
       "        -0.96802376, -1.00146345, -0.99791838, -1.04872753, -1.07728835,\n",
       "        -1.08565774, -1.23262404, -1.66824414, -1.33312765, -0.90982561,\n",
       "        -1.11295133, -1.14210277, -1.34308378, -0.79187212, -1.30716353,\n",
       "        -1.3031446 , -0.80976384, -1.00931059, -1.20281786, -1.13600506,\n",
       "        -1.09379237, -1.40041831, -1.17668923, -1.05191304, -1.4665545 ,\n",
       "        -0.90844161, -1.40298913, -1.32247239, -0.98946055, -0.91159691,\n",
       "        -1.08133748, -0.64346975, -1.17018972, -1.30897119, -1.20264901,\n",
       "        -0.78189781, -0.76221661, -0.96449688, -1.33731108, -1.25743704],\n",
       "       [-4.2877742 , -3.77225688, -3.9274847 , -3.75934403, -4.35316902,\n",
       "        -4.68928408, -4.07312187, -4.14407171, -3.54525359, -3.82779731,\n",
       "        -4.52879938, -4.06576404, -3.73297117, -3.67161199, -4.98684159,\n",
       "        -5.2806125 , -4.7870368 , -4.30012516, -4.66540779, -4.55267568,\n",
       "        -4.20293433, -4.47269708, -4.34318275, -4.06685342, -3.99244951,\n",
       "        -3.75031527, -4.14433546, -4.29027076, -4.22237938, -3.85417017,\n",
       "        -3.78877535, -4.27651261, -4.8318972 , -5.04182014, -3.84014827,\n",
       "        -4.03272711, -4.41995135, -4.31388331, -3.66202134, -4.17100645,\n",
       "        -4.29762859, -3.05500008, -3.84668047, -4.26136695, -4.46727393,\n",
       "        -3.7576731 , -4.51588654, -3.87611178, -4.50186464, -4.07618032,\n",
       "        -3.86429731, -3.76391616, -3.70850761, -2.78802634, -3.39709447,\n",
       "        -3.18135277, -3.79278559, -2.8527618 , -3.49165685, -3.11332951,\n",
       "        -2.46150192, -3.51789784, -2.79331761, -3.34489592, -3.46669119,\n",
       "        -3.76447805, -3.36377908, -3.17665777, -2.78675102, -2.99935647,\n",
       "        -3.59298079, -3.41128263, -2.99292175, -3.22786443, -3.5111019 ,\n",
       "        -3.64521374, -3.41667138, -3.5625723 , -3.37918849, -3.20402253,\n",
       "        -2.90453034, -2.91661755, -3.25023605, -3.06025125, -3.30990959,\n",
       "        -3.85318728, -3.70351448, -2.90575158, -3.43682987, -2.97268547,\n",
       "        -2.95491136, -3.46166366, -3.13346831, -2.78736698, -3.13540299,\n",
       "        -3.42697547, -3.34699687, -3.45723241, -3.08462635, -3.27910548,\n",
       "        -3.58624794, -3.04343465, -3.49977152, -3.22822565, -3.3749522 ,\n",
       "        -3.463378  , -2.73828996, -3.32650585, -2.91777001, -4.08121115,\n",
       "        -3.70597665, -3.15616676, -3.51672   , -2.86862991, -3.19751902,\n",
       "        -3.66721844, -3.39886288, -4.21686205, -3.07238187, -2.61069064,\n",
       "        -3.70413945, -3.14312204, -3.26886447, -3.21463376, -3.7178976 ,\n",
       "        -3.64987433, -3.30446676, -3.43775297, -3.19988371, -3.48938963,\n",
       "        -3.32233834, -4.31934415, -3.21223468, -3.22103409, -2.84796362,\n",
       "        -3.63720556, -3.76397925, -3.4642577 , -3.43525641, -3.66042249,\n",
       "        -3.59472953, -3.75843895, -3.04343465, -3.62832835, -3.76730145,\n",
       "        -3.58780171, -3.01788742, -3.49687934, -3.7735699 , -3.33500713],\n",
       "       [ 2.91307322,  2.80923641,  2.67404283,  2.64687596,  2.85258275,\n",
       "         2.95974857,  2.54517091,  2.87169371,  2.52147902,  2.90114481,\n",
       "         3.09651147,  2.76982373,  2.83134002,  2.49849557,  3.27869131,\n",
       "         3.09320142,  2.90289802,  2.8329283 ,  3.21646659,  2.83979345,\n",
       "         3.13228423,  2.76209769,  2.56356697,  2.72017468,  2.81246164,\n",
       "         2.89570299,  2.7256165 ,  2.98532717,  2.9735637 ,  2.71668074,\n",
       "         2.77717121,  2.9435691 ,  3.05077713,  3.12809434,  2.82099989,\n",
       "         2.83395412,  3.13102583,  2.87468637,  2.50481723,  2.92973502,\n",
       "         2.76067435,  2.49985774,  2.4999189 ,  2.56287749,  2.81649908,\n",
       "         2.67105018,  2.93415102,  2.63021416,  3.03847016,  2.85993024,\n",
       "         3.53048351,  3.07366546,  3.42317171,  2.66256278,  3.15571605,\n",
       "         2.83746278,  2.96145534,  2.45281208,  3.37159804,  2.38428465,\n",
       "         2.54907531,  2.74571932,  3.19565327,  3.01545921,  2.64905858,\n",
       "         3.31617083,  2.6142333 ,  3.08153748,  2.98207445,  2.86178298,\n",
       "         2.58566205,  2.99856484,  3.08961882,  3.17819822,  3.21287751,\n",
       "         3.26057869,  3.43841017,  3.16346104,  2.8488477 ,  2.94066951,\n",
       "         2.7919782 ,  2.85791049,  2.89282236,  2.85887692,  2.49815068,\n",
       "         2.75645697,  3.27866382,  3.18374381,  2.7176726 ,  2.65766446,\n",
       "         2.79221077,  2.99879741,  2.90948415,  2.51330255,  2.73923272,\n",
       "         2.87007147,  2.79237571,  3.0967949 ,  2.4436627 ,  2.78061223,\n",
       "         2.42491529,  2.50235953,  3.20296031,  2.93887586,  2.7603549 ,\n",
       "         3.59265532,  2.05990009,  3.61877742,  3.20926302,  2.95415223,\n",
       "         2.81625796,  2.87903266,  2.97198584,  2.35485898,  2.09918574,\n",
       "         2.54620715,  3.03829668,  3.56517106,  3.54284134,  2.93705501,\n",
       "         2.89326425,  2.27525755,  3.74995251,  2.84428573,  2.93502232,\n",
       "         3.51075071,  2.76958262,  2.72085562,  2.75893156,  3.64751361,\n",
       "         3.57069769,  3.79890561,  2.67878663,  3.11069661,  3.15072042,\n",
       "         3.4193436 ,  2.44576051,  2.97780621,  2.64860168,  3.01336535,\n",
       "         2.68527323,  2.81043759,  2.50235953,  2.86364821,  2.61444262,\n",
       "         2.71101677,  2.78325176,  2.83536892,  2.43943885,  2.63319828],\n",
       "       [ 3.63917264,  3.55967232,  3.36988535,  3.44694844,  3.57599278,\n",
       "         4.07685405,  3.41579828,  3.65280846,  3.28393825,  3.56404568,\n",
       "         3.85866847,  3.60326442,  3.45082696,  2.97811687,  3.87424667,\n",
       "         4.08598547,  3.82314496,  3.69153235,  4.2006455 ,  3.73487703,\n",
       "         4.00560562,  3.79393094,  3.09634108,  3.999922  ,  3.79354624,\n",
       "         3.74301252,  3.82095516,  3.75908556,  3.70235249,  3.56016717,\n",
       "         3.62334702,  3.9834705 ,  3.66656066,  3.81825586,  3.6164054 ,\n",
       "         3.47591503,  3.80168798,  3.46714742,  3.21381678,  3.70929411,\n",
       "         3.57161942,  3.36952154,  3.20042838,  3.91898038,  4.04094584,\n",
       "         3.55554638,  3.74594459,  3.37682697,  3.80218282,  3.59607538,\n",
       "         7.45389924,  7.04049049,  7.58332205,  6.1705116 ,  7.18718021,\n",
       "         6.56714828,  7.1565249 ,  5.22383342,  7.13225224,  5.96321028,\n",
       "         5.43395042,  6.5811688 ,  6.30255493,  6.96561096,  5.93312297,\n",
       "         7.10085466,  6.60199366,  6.2195399 ,  6.99446117,  6.04546216,\n",
       "         7.10542318,  6.47595453,  7.28457332,  6.86758573,  6.82899911,\n",
       "         7.05106321,  7.43113201,  7.64519164,  6.83463047,  5.7891848 ,\n",
       "         5.93224343,  5.81645644,  6.19740478,  7.28094222,  6.48902235,\n",
       "         6.85351919,  7.3434962 ,  6.87610592,  6.24356514,  6.1571232 ,\n",
       "         6.35177839,  6.89548949,  6.26752625,  5.28701328,  6.32707501,\n",
       "         6.31111835,  6.37017226,  6.7160278 ,  5.19218842,  6.31343919,\n",
       "         8.45231688,  7.32505006,  8.65141857,  7.85886658,  8.30143709,\n",
       "         9.37783776,  6.3447845 ,  8.86771403,  8.23844054,  9.00403244,\n",
       "         7.73933835,  7.79081853,  8.22825252,  7.27088524,  7.58015443,\n",
       "         7.96678639,  7.90171642,  9.49655681,  9.75610145,  7.19862623,\n",
       "         8.50292375,  7.13088972,  9.45877937,  7.42826406,  8.27853882,\n",
       "         8.60086396,  7.30165694,  7.29521016,  8.07912558,  8.38267839,\n",
       "         8.85639905,  9.31452687,  8.13148529,  7.39134527,  7.55653902,\n",
       "         9.22190647,  8.13955387,  7.83853657,  7.17529723,  8.2146167 ,\n",
       "         8.38557908,  8.12905431,  7.32505006,  8.57329264,  8.48797767,\n",
       "         8.08620447,  7.55743945,  7.81615402,  7.90385396,  7.3090934 ]])"
      ]
     },
     "execution_count": 197,
     "metadata": {},
     "output_type": "execute_result"
    }
   ],
   "source": [
    "Y"
   ]
  },
  {
   "cell_type": "code",
   "execution_count": 198,
   "id": "a78ffea3",
   "metadata": {},
   "outputs": [
    {
     "data": {
      "text/plain": [
       "(4, 150)"
      ]
     },
     "execution_count": 198,
     "metadata": {},
     "output_type": "execute_result"
    }
   ],
   "source": [
    "Y.shape"
   ]
  },
  {
   "cell_type": "code",
   "execution_count": 199,
   "id": "bf13db5e",
   "metadata": {},
   "outputs": [],
   "source": [
    "color_mapping = {0: 'blue', 1: 'green', 2: 'red'}\n",
    "colors = [color_mapping[t] for t in df['Target']]"
   ]
  },
  {
   "cell_type": "code",
   "execution_count": null,
   "id": "191d6c58",
   "metadata": {},
   "outputs": [],
   "source": []
  },
  {
   "cell_type": "code",
   "execution_count": 204,
   "id": "ad14a9e4",
   "metadata": {},
   "outputs": [
    {
     "data": {
      "text/plain": [
       "<matplotlib.collections.PathCollection at 0x2309790f940>"
      ]
     },
     "execution_count": 204,
     "metadata": {},
     "output_type": "execute_result"
    },
    {
     "data": {
      "image/png": "[encoded data removed]",
      "text/plain": [
       "<Figure size 432x288 with 1 Axes>"
      ]
     },
     "metadata": {
      "needs_background": "light"
     },
     "output_type": "display_data"
    }
   ],
   "source": [
    "plt.scatter(Y[0],Y[1], c = colors)"
   ]
  },
  {
   "cell_type": "code",
   "execution_count": 201,
   "id": "072a9e50",
   "metadata": {},
   "outputs": [
    {
     "data": {
      "text/plain": [
       "array([[ 0.42586711, -0.20804596, -0.02539725, -1.18960081],\n",
       "       [-0.20804596,  0.29496763, -0.02993065,  0.54415763],\n",
       "       [-0.02539725, -0.02993065,  0.10075165,  0.20017146],\n",
       "       [-1.18960081,  0.54415763,  0.20017146,  3.75137066]])"
      ]
     },
     "execution_count": 201,
     "metadata": {},
     "output_type": "execute_result"
    }
   ],
   "source": [
    "Sy= np.cov(Y)\n",
    "Sy"
   ]
  },
  {
   "cell_type": "code",
   "execution_count": 186,
   "id": "3424077b",
   "metadata": {},
   "outputs": [],
   "source": [
    "from sklearn.decomposition import PCA"
   ]
  },
  {
   "cell_type": "code",
   "execution_count": 187,
   "id": "05a7e087",
   "metadata": {},
   "outputs": [],
   "source": [
    "principal = PCA(n_components = 2)\n",
    "principal.fit(X_stand)\n",
    "Y_library = principal.transform(X_stand)"
   ]
  },
  {
   "cell_type": "code",
   "execution_count": 203,
   "id": "1fdcd7fa",
   "metadata": {},
   "outputs": [
    {
     "data": {
      "text/plain": [
       "<matplotlib.collections.PathCollection at 0x230978afa90>"
      ]
     },
     "execution_count": 203,
     "metadata": {},
     "output_type": "execute_result"
    },
    {
     "data": {
      "image/png": "[encoded data removed]",
      "text/plain": [
       "<Figure size 432x288 with 1 Axes>"
      ]
     },
     "metadata": {
      "needs_background": "light"
     },
     "output_type": "display_data"
    }
   ],
   "source": [
    "plt.scatter(Y_library[:,0],Y_library[:,1], c = colors)"
   ]
  },
  {
   "cell_type": "code",
   "execution_count": 1,
   "id": "f002d960",
   "metadata": {},
   "outputs": [
    {
     "ename": "NameError",
     "evalue": "name 'principal' is not defined",
     "output_type": "error",
     "traceback": [
      "\u001b[1;31m---------------------------------------------------------------------------\u001b[0m",
      "\u001b[1;31mNameError\u001b[0m                                 Traceback (most recent call last)",
      "Input \u001b[1;32mIn [1]\u001b[0m, in \u001b[0;36m<cell line: 1>\u001b[1;34m()\u001b[0m\n\u001b[1;32m----> 1\u001b[0m explained_var_library \u001b[38;5;241m=\u001b[39m \u001b[43mprincipal\u001b[49m\u001b[38;5;241m.\u001b[39mexplained_variance_ratio_ \u001b[38;5;241m*\u001b[39m \u001b[38;5;241m100\u001b[39m\n\u001b[0;32m      2\u001b[0m explained_var_cum_library \u001b[38;5;241m=\u001b[39m np\u001b[38;5;241m.\u001b[39mcumsum(principal\u001b[38;5;241m.\u001b[39mexplained_variance_ratio_ \u001b[38;5;241m*\u001b[39m \u001b[38;5;241m100\u001b[39m)\n",
      "\u001b[1;31mNameError\u001b[0m: name 'principal' is not defined"
     ]
    }
   ],
   "source": [
    "explained_var_library = principal.explained_variance_ratio_ * 100\n",
    "explained_var_cum_library = np.cumsum(principal.explained_variance_ratio_ * 100)"
   ]
  },
  {
   "cell_type": "code",
   "execution_count": null,
   "id": "83c0bb4e",
   "metadata": {},
   "outputs": [],
   "source": [
    "plt.plot()"
   ]
  },
  {
   "cell_type": "code",
   "execution_count": null,
   "id": "b0241092",
   "metadata": {},
   "outputs": [],
   "source": []
  }
 ],
 "metadata": {
  "kernelspec": {
   "display_name": "Python 3 (ipykernel)",
   "language": "python",
   "name": "python3"
  },
  "language_info": {
   "codemirror_mode": {
    "name": "ipython",
    "version": 3
   },
   "file_extension": ".py",
   "mimetype": "text/x-python",
   "name": "python",
   "nbconvert_exporter": "python",
   "pygments_lexer": "ipython3",
   "version": "3.9.7"
  }
 },
 "nbformat": 4,
 "nbformat_minor": 5
}
