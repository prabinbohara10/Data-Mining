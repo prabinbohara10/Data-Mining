{
 "cells": [
  {
   "cell_type": "code",
   "execution_count": 3,
   "id": "fde368e4",
   "metadata": {},
   "outputs": [],
   "source": [
    "from numpy import random\n",
    "import numpy as np\n",
    "import matplotlib.pyplot as plt"
   ]
  },
  {
   "cell_type": "code",
   "execution_count": 4,
   "id": "b8f6323b",
   "metadata": {},
   "outputs": [],
   "source": [
    "    #that samples 20 points from normal(gaussian) distribution"
   ]
  },
  {
   "cell_type": "code",
   "execution_count": 75,
   "id": "a6f56997",
   "metadata": {},
   "outputs": [
    {
     "data": {
      "image/png": "[encoded data removed]",
      "text/plain": [
       "<Figure size 432x288 with 1 Axes>"
      ]
     },
     "metadata": {
      "needs_background": "light"
     },
     "output_type": "display_data"
    }
   ],
   "source": [
    "np.random.seed(100)\n",
    "data = np.random.rand(20, 2)\n",
    "\n",
    "x = data[:, 0]\n",
    "y = data[:, 1]\n",
    "\n",
    "\n",
    "plt.scatter(x, y)\n",
    "plt.xlabel('X')\n",
    "plt.ylabel('Y')\n",
    "\n",
    "plt.show()\n"
   ]
  },
  {
   "cell_type": "code",
   "execution_count": 76,
   "id": "91fb5faf",
   "metadata": {},
   "outputs": [],
   "source": [
    "X = random.normal(size=(20,2))"
   ]
  },
  {
   "cell_type": "code",
   "execution_count": 30,
   "id": "3de6a4d3",
   "metadata": {},
   "outputs": [],
   "source": [
    "newX =X.reshape(2,20)"
   ]
  },
  {
   "cell_type": "code",
   "execution_count": 31,
   "id": "ea76314b",
   "metadata": {},
   "outputs": [
    {
     "name": "stdout",
     "output_type": "stream",
     "text": [
      "[ 0.31866345 -0.8485207   1.35334553  0.61418464  2.00823812 -0.29637702\n",
      "  1.77230251  1.28369277  0.7403408  -0.56108143  0.36735727 -1.39260529\n",
      " -1.76261856  1.6652931   0.82553021 -0.08903331 -0.49323427  1.93635067\n",
      " -0.32494681 -0.20610864]\n"
     ]
    }
   ],
   "source": [
    "print(newX[0])"
   ]
  },
  {
   "cell_type": "code",
   "execution_count": 64,
   "id": "f17e8328",
   "metadata": {},
   "outputs": [
    {
     "data": {
      "text/plain": [
       "<matplotlib.collections.PathCollection at 0x2044cc7b460>"
      ]
     },
     "execution_count": 64,
     "metadata": {},
     "output_type": "execute_result"
    },
    {
     "data": {
      "image/png": "[encoded data removed]",
      "text/plain": [
       "<Figure size 432x288 with 1 Axes>"
      ]
     },
     "metadata": {
      "needs_background": "light"
     },
     "output_type": "display_data"
    }
   ],
   "source": [
    "plt.scatter(newX[0],newX[1])"
   ]
  },
  {
   "cell_type": "code",
   "execution_count": 33,
   "id": "7e394f5c",
   "metadata": {},
   "outputs": [
    {
     "name": "stdout",
     "output_type": "stream",
     "text": [
      "0.34553865144008805\n"
     ]
    }
   ],
   "source": [
    "mean1= np.mean(newX[0])\n",
    "print(mean1)"
   ]
  },
  {
   "cell_type": "code",
   "execution_count": 34,
   "id": "798a61e7",
   "metadata": {},
   "outputs": [
    {
     "name": "stdout",
     "output_type": "stream",
     "text": [
      "-0.04677135103255471\n"
     ]
    }
   ],
   "source": [
    "mean2= np.mean(newX[1])\n",
    "print(mean2)"
   ]
  },
  {
   "cell_type": "code",
   "execution_count": 35,
   "id": "551c91d3",
   "metadata": {},
   "outputs": [
    {
     "name": "stdout",
     "output_type": "stream",
     "text": [
      "1.0770241343715345\n"
     ]
    }
   ],
   "source": [
    "std_dev1= np.std(newX[0])\n",
    "print(std_dev1)"
   ]
  },
  {
   "cell_type": "code",
   "execution_count": 36,
   "id": "8ed9285e",
   "metadata": {},
   "outputs": [
    {
     "name": "stdout",
     "output_type": "stream",
     "text": [
      "0.9547897823181156\n"
     ]
    }
   ],
   "source": [
    "std_dev2= np.std(newX[1])\n",
    "print(std_dev2)"
   ]
  },
  {
   "cell_type": "code",
   "execution_count": null,
   "id": "37a1d7ab",
   "metadata": {},
   "outputs": [],
   "source": []
  },
  {
   "cell_type": "code",
   "execution_count": 47,
   "id": "636f329c",
   "metadata": {},
   "outputs": [
    {
     "name": "stdout",
     "output_type": "stream",
     "text": [
      "[[0.4850209  0.90307813]\n",
      " [0.06662544 0.18544857]]\n"
     ]
    }
   ],
   "source": [
    "two = np.random.rand(2, 2)\n",
    "print(two)"
   ]
  },
  {
   "cell_type": "code",
   "execution_count": 66,
   "id": "dcdb07b0",
   "metadata": {},
   "outputs": [],
   "source": [
    "res = np.dot(X,two).reshape(2,20)"
   ]
  },
  {
   "cell_type": "code",
   "execution_count": 67,
   "id": "6443b917",
   "metadata": {},
   "outputs": [
    {
     "name": "stdout",
     "output_type": "stream",
     "text": [
      "[[ 0.09802536  0.13042104  0.69732119  1.33607641  0.95429121  1.75863324\n",
      "   0.94513036  1.83858662  0.32169846  0.56453384  0.08539301  0.07349566\n",
      "  -0.74395595 -1.28295606  0.39446752  0.72900718 -0.11021871 -0.08633562\n",
      "  -0.17133808 -0.33167491]\n",
      " [-0.14866369 -0.27695805  0.74709267  1.34749307  0.34417353  0.58477047\n",
      "  -0.29489429 -0.51966705 -0.82755282 -1.51711198 -0.01689091 -0.07610446\n",
      "  -0.73655485 -1.34791624 -0.11650403 -0.3164968   0.46713001  0.96014493\n",
      "   0.4677393   0.89815015]]\n"
     ]
    }
   ],
   "source": [
    "print(res)"
   ]
  },
  {
   "cell_type": "code",
   "execution_count": 68,
   "id": "885891d5",
   "metadata": {},
   "outputs": [
    {
     "data": {
      "text/plain": [
       "<matplotlib.collections.PathCollection at 0x2044cd0d9d0>"
      ]
     },
     "execution_count": 68,
     "metadata": {},
     "output_type": "execute_result"
    },
    {
     "data": {
      "image/png": "[encoded data removed]",
      "text/plain": [
       "<Figure size 432x288 with 1 Axes>"
      ]
     },
     "metadata": {
      "needs_background": "light"
     },
     "output_type": "display_data"
    }
   ],
   "source": [
    "plt.scatter(res[0],res[1])"
   ]
  },
  {
   "cell_type": "code",
   "execution_count": 147,
   "id": "89a7862b",
   "metadata": {},
   "outputs": [
    {
     "data": {
      "image/png": "[encoded data removed]",
      "text/plain": [
       "<Figure size 432x288 with 1 Axes>"
      ]
     },
     "metadata": {
      "needs_background": "light"
     },
     "output_type": "display_data"
    }
   ],
   "source": [
    "np.random.seed(50)\n",
    "data_matrix = np.random.normal(0, 1, (20, 2))\n",
    "transform_matrix = np.random.normal(0, 1, (2, 2))\n",
    "\n",
    "result_matrix = np.matmul(data_matrix, transform_matrix)\n",
    "\n",
    "\n",
    "plt.scatter(result_matrix[:, 0], result_matrix[:, 1])\n",
    "plt.xlabel('X')\n",
    "plt.ylabel('Y')\n",
    "plt.title('Transformed Data Plot')\n",
    "plt.show()\n"
   ]
  },
  {
   "cell_type": "code",
   "execution_count": 148,
   "id": "1f7058d7",
   "metadata": {},
   "outputs": [
    {
     "data": {
      "text/plain": [
       "array([[ 0.286161  , -1.11274287],\n",
       "       [-1.1312314 ,  1.74456198],\n",
       "       [-0.69170904,  1.76717855],\n",
       "       [ 1.0740256 , -2.19194413],\n",
       "       [-0.88113755,  1.0466423 ],\n",
       "       [ 0.71389197, -1.20475326],\n",
       "       [-0.42648092,  1.02162058],\n",
       "       [ 1.57076364, -3.14945837],\n",
       "       [ 0.18268205,  0.97471483],\n",
       "       [ 0.61201112, -1.02673806],\n",
       "       [ 0.20594405, -0.51581465],\n",
       "       [-0.05517247, -0.06423859],\n",
       "       [ 0.21678619, -0.32629371],\n",
       "       [ 1.52323634, -2.78593863],\n",
       "       [ 0.6218584 , -1.1510149 ],\n",
       "       [ 0.92800285, -1.2021145 ],\n",
       "       [ 0.6914108 , -1.74985756],\n",
       "       [ 0.16060268,  0.01244881],\n",
       "       [ 1.24047215, -2.30226325],\n",
       "       [ 0.44730057, -1.02992236]])"
      ]
     },
     "execution_count": 148,
     "metadata": {},
     "output_type": "execute_result"
    }
   ],
   "source": [
    "result_matrix"
   ]
  },
  {
   "cell_type": "code",
   "execution_count": 149,
   "id": "a5fc1b96",
   "metadata": {},
   "outputs": [
    {
     "name": "stdout",
     "output_type": "stream",
     "text": [
      "1.5101883677942127\n"
     ]
    }
   ],
   "source": [
    "variance = np.var(result_matrix)\n",
    "print(variance)"
   ]
  },
  {
   "cell_type": "code",
   "execution_count": 150,
   "id": "310a806c",
   "metadata": {},
   "outputs": [
    {
     "name": "stdout",
     "output_type": "stream",
     "text": [
      "[[ 0.55701234 -1.02257707]\n",
      " [-1.02257707  2.06746261]]\n"
     ]
    }
   ],
   "source": [
    "co_var = np.cov(result_matrix.T)\n",
    "print(co_var)"
   ]
  },
  {
   "cell_type": "code",
   "execution_count": null,
   "id": "b838dd1c",
   "metadata": {},
   "outputs": [],
   "source": []
  },
  {
   "cell_type": "code",
   "execution_count": 151,
   "id": "ba6c1b36",
   "metadata": {},
   "outputs": [
    {
     "name": "stdout",
     "output_type": "stream",
     "text": [
      "[0.04100623 2.58346872]\n"
     ]
    }
   ],
   "source": [
    "eigen_value = np.linalg.eigvals(co_var)\n",
    "print(eigen_value)"
   ]
  },
  {
   "cell_type": "code",
   "execution_count": 152,
   "id": "7670bf69",
   "metadata": {},
   "outputs": [],
   "source": [
    "e_values, e_vectors = np.linalg.eig(co_var)"
   ]
  },
  {
   "cell_type": "code",
   "execution_count": 186,
   "id": "d93c424c",
   "metadata": {},
   "outputs": [
    {
     "data": {
      "text/plain": [
       "array([0.04100623, 2.58346872])"
      ]
     },
     "execution_count": 186,
     "metadata": {},
     "output_type": "execute_result"
    }
   ],
   "source": [
    "e_values"
   ]
  },
  {
   "cell_type": "code",
   "execution_count": 165,
   "id": "008f6fec",
   "metadata": {},
   "outputs": [
    {
     "data": {
      "text/plain": [
       "array([[-0.89277363,  0.45050555],\n",
       "       [-0.45050555, -0.89277363]])"
      ]
     },
     "execution_count": 165,
     "metadata": {},
     "output_type": "execute_result"
    }
   ],
   "source": [
    "e_vectors"
   ]
  },
  {
   "cell_type": "code",
   "execution_count": 154,
   "id": "feb730b1",
   "metadata": {},
   "outputs": [
    {
     "data": {
      "text/plain": [
       "array([0.04100623, 2.58346872])"
      ]
     },
     "execution_count": 154,
     "metadata": {},
     "output_type": "execute_result"
    }
   ],
   "source": [
    "e_values"
   ]
  },
  {
   "cell_type": "code",
   "execution_count": 155,
   "id": "5e6572b7",
   "metadata": {},
   "outputs": [],
   "source": [
    "proportion_of_variance = e_values/sum(e_values)"
   ]
  },
  {
   "cell_type": "code",
   "execution_count": 156,
   "id": "6e9c37c2",
   "metadata": {},
   "outputs": [
    {
     "data": {
      "text/plain": [
       "array([0.01562455, 0.98437545])"
      ]
     },
     "execution_count": 156,
     "metadata": {},
     "output_type": "execute_result"
    }
   ],
   "source": [
    "proportion_of_variance"
   ]
  },
  {
   "cell_type": "markdown",
   "id": "86ce4ad7",
   "metadata": {},
   "source": [
    "9 ) Implement Y= PX"
   ]
  },
  {
   "cell_type": "code",
   "execution_count": 172,
   "id": "8426ee3f",
   "metadata": {},
   "outputs": [],
   "source": [
    "Y = np.dot(e_vectors.T,result_matrix.T)"
   ]
  },
  {
   "cell_type": "code",
   "execution_count": 173,
   "id": "93c5a148",
   "metadata": {},
   "outputs": [
    {
     "data": {
      "text/plain": [
       "array([[ 0.24581984,  0.22399871, -0.17858415,  0.02862126,  0.31513821,\n",
       "        -0.09459589, -0.07949482,  0.01651212, -0.60220815, -0.0838362 ,\n",
       "         0.04851595,  0.07819636, -0.04654387, -0.10482442, -0.03664018,\n",
       "        -0.28693722,  0.17104721, -0.14899009, -0.07027845,  0.06464759],\n",
       "       [ 1.12234461, -2.06712496, -1.88930917,  2.4407644 , -1.331372  ,\n",
       "         1.39718423, -1.10420793,  3.51939111, -0.78790042,  1.19235907,\n",
       "         0.55328465,  0.03249501,  0.3889698 ,  3.17343896,  1.3077464 ,\n",
       "         1.49128655,  1.87371109,  0.06123843,  2.6142395 ,  1.12099891]])"
      ]
     },
     "execution_count": 173,
     "metadata": {},
     "output_type": "execute_result"
    }
   ],
   "source": [
    "Y"
   ]
  },
  {
   "cell_type": "code",
   "execution_count": 174,
   "id": "1c6a3fa9",
   "metadata": {},
   "outputs": [],
   "source": [
    "Sy= np.cov(Y)"
   ]
  },
  {
   "cell_type": "code",
   "execution_count": 175,
   "id": "1605b941",
   "metadata": {},
   "outputs": [
    {
     "data": {
      "text/plain": [
       "array([[4.10062338e-02, 5.36040450e-17],\n",
       "       [5.36040450e-17, 2.58346872e+00]])"
      ]
     },
     "execution_count": 175,
     "metadata": {},
     "output_type": "execute_result"
    }
   ],
   "source": [
    "Sy"
   ]
  },
  {
   "cell_type": "code",
   "execution_count": 176,
   "id": "f8c3319a",
   "metadata": {},
   "outputs": [
    {
     "data": {
      "text/plain": [
       "(2, 20)"
      ]
     },
     "execution_count": 176,
     "metadata": {},
     "output_type": "execute_result"
    }
   ],
   "source": [
    "Y.shape"
   ]
  },
  {
   "cell_type": "code",
   "execution_count": 185,
   "id": "b6a7d2c8",
   "metadata": {},
   "outputs": [
    {
     "data": {
      "image/png": "[encoded data removed]",
      "text/plain": [
       "<Figure size 432x288 with 1 Axes>"
      ]
     },
     "metadata": {
      "needs_background": "light"
     },
     "output_type": "display_data"
    }
   ],
   "source": [
    "y_dump = np.zeros_like(Y[0])\n",
    "plt.scatter(Y[0],y_dump)\n",
    "plt.grid(True)"
   ]
  },
  {
   "cell_type": "code",
   "execution_count": null,
   "id": "3227b6d4",
   "metadata": {},
   "outputs": [],
   "source": []
  },
  {
   "cell_type": "markdown",
   "id": "cf74c4b4",
   "metadata": {},
   "source": [
    "## Using dataset from sklearn"
   ]
  },
  {
   "cell_type": "code",
   "execution_count": 191,
   "id": "58c04449",
   "metadata": {},
   "outputs": [],
   "source": [
    "from sklearn import datasets\n",
    "from sklearn.preprocessing import StandardScaler\n",
    "import pandas as pd"
   ]
  },
  {
   "cell_type": "code",
   "execution_count": 193,
   "id": "655d914a",
   "metadata": {},
   "outputs": [],
   "source": [
    "iris = datasets.load_iris()"
   ]
  },
  {
   "cell_type": "code",
   "execution_count": 214,
   "id": "77767a78",
   "metadata": {},
   "outputs": [
    {
     "name": "stdout",
     "output_type": "stream",
     "text": [
      "[0 0 0 0 0 0 0 0 0 0 0 0 0 0 0 0 0 0 0 0 0 0 0 0 0 0 0 0 0 0 0 0 0 0 0 0 0\n",
      " 0 0 0 0 0 0 0 0 0 0 0 0 0 1 1 1 1 1 1 1 1 1 1 1 1 1 1 1 1 1 1 1 1 1 1 1 1\n",
      " 1 1 1 1 1 1 1 1 1 1 1 1 1 1 1 1 1 1 1 1 1 1 1 1 1 1 2 2 2 2 2 2 2 2 2 2 2\n",
      " 2 2 2 2 2 2 2 2 2 2 2 2 2 2 2 2 2 2 2 2 2 2 2 2 2 2 2 2 2 2 2 2 2 2 2 2 2\n",
      " 2 2]\n"
     ]
    }
   ],
   "source": [
    "print(iris.target)"
   ]
  },
  {
   "cell_type": "code",
   "execution_count": 283,
   "id": "388c801b",
   "metadata": {},
   "outputs": [],
   "source": [
    "df= pd.DataFrame(iris.data)\n",
    "df.columns =  ['Sepal length','Sepal Width','Petal Length','Petal width']"
   ]
  },
  {
   "cell_type": "code",
   "execution_count": 331,
   "id": "9b29e839",
   "metadata": {},
   "outputs": [],
   "source": [
    "df[\"Target\"] = pd.DataFrame(iris.target)"
   ]
  },
  {
   "cell_type": "code",
   "execution_count": 332,
   "id": "dc1f4c50",
   "metadata": {},
   "outputs": [
    {
     "data": {
      "text/html": [
       "<div>\n",
       "<style scoped>\n",
       "    .dataframe tbody tr th:only-of-type {\n",
       "        vertical-align: middle;\n",
       "    }\n",
       "\n",
       "    .dataframe tbody tr th {\n",
       "        vertical-align: top;\n",
       "    }\n",
       "\n",
       "    .dataframe thead th {\n",
       "        text-align: right;\n",
       "    }\n",
       "</style>\n",
       "<table border=\"1\" class=\"dataframe\">\n",
       "  <thead>\n",
       "    <tr style=\"text-align: right;\">\n",
       "      <th></th>\n",
       "      <th>Sepal length</th>\n",
       "      <th>Sepal Width</th>\n",
       "      <th>Petal Length</th>\n",
       "      <th>Petal width</th>\n",
       "      <th>Target</th>\n",
       "    </tr>\n",
       "  </thead>\n",
       "  <tbody>\n",
       "    <tr>\n",
       "      <th>0</th>\n",
       "      <td>5.1</td>\n",
       "      <td>3.5</td>\n",
       "      <td>1.4</td>\n",
       "      <td>0.2</td>\n",
       "      <td>0</td>\n",
       "    </tr>\n",
       "    <tr>\n",
       "      <th>1</th>\n",
       "      <td>4.9</td>\n",
       "      <td>3.0</td>\n",
       "      <td>1.4</td>\n",
       "      <td>0.2</td>\n",
       "      <td>0</td>\n",
       "    </tr>\n",
       "    <tr>\n",
       "      <th>2</th>\n",
       "      <td>4.7</td>\n",
       "      <td>3.2</td>\n",
       "      <td>1.3</td>\n",
       "      <td>0.2</td>\n",
       "      <td>0</td>\n",
       "    </tr>\n",
       "    <tr>\n",
       "      <th>3</th>\n",
       "      <td>4.6</td>\n",
       "      <td>3.1</td>\n",
       "      <td>1.5</td>\n",
       "      <td>0.2</td>\n",
       "      <td>0</td>\n",
       "    </tr>\n",
       "    <tr>\n",
       "      <th>4</th>\n",
       "      <td>5.0</td>\n",
       "      <td>3.6</td>\n",
       "      <td>1.4</td>\n",
       "      <td>0.2</td>\n",
       "      <td>0</td>\n",
       "    </tr>\n",
       "    <tr>\n",
       "      <th>5</th>\n",
       "      <td>5.4</td>\n",
       "      <td>3.9</td>\n",
       "      <td>1.7</td>\n",
       "      <td>0.4</td>\n",
       "      <td>0</td>\n",
       "    </tr>\n",
       "    <tr>\n",
       "      <th>6</th>\n",
       "      <td>4.6</td>\n",
       "      <td>3.4</td>\n",
       "      <td>1.4</td>\n",
       "      <td>0.3</td>\n",
       "      <td>0</td>\n",
       "    </tr>\n",
       "    <tr>\n",
       "      <th>7</th>\n",
       "      <td>5.0</td>\n",
       "      <td>3.4</td>\n",
       "      <td>1.5</td>\n",
       "      <td>0.2</td>\n",
       "      <td>0</td>\n",
       "    </tr>\n",
       "    <tr>\n",
       "      <th>8</th>\n",
       "      <td>4.4</td>\n",
       "      <td>2.9</td>\n",
       "      <td>1.4</td>\n",
       "      <td>0.2</td>\n",
       "      <td>0</td>\n",
       "    </tr>\n",
       "    <tr>\n",
       "      <th>9</th>\n",
       "      <td>4.9</td>\n",
       "      <td>3.1</td>\n",
       "      <td>1.5</td>\n",
       "      <td>0.1</td>\n",
       "      <td>0</td>\n",
       "    </tr>\n",
       "  </tbody>\n",
       "</table>\n",
       "</div>"
      ],
      "text/plain": [
       "   Sepal length  Sepal Width  Petal Length  Petal width  Target\n",
       "0           5.1          3.5           1.4          0.2       0\n",
       "1           4.9          3.0           1.4          0.2       0\n",
       "2           4.7          3.2           1.3          0.2       0\n",
       "3           4.6          3.1           1.5          0.2       0\n",
       "4           5.0          3.6           1.4          0.2       0\n",
       "5           5.4          3.9           1.7          0.4       0\n",
       "6           4.6          3.4           1.4          0.3       0\n",
       "7           5.0          3.4           1.5          0.2       0\n",
       "8           4.4          2.9           1.4          0.2       0\n",
       "9           4.9          3.1           1.5          0.1       0"
      ]
     },
     "execution_count": 332,
     "metadata": {},
     "output_type": "execute_result"
    }
   ],
   "source": [
    "df.head(10)"
   ]
  },
  {
   "cell_type": "code",
   "execution_count": 333,
   "id": "769a4fa5",
   "metadata": {},
   "outputs": [],
   "source": [
    "tar = pd.DataFrame(iris.target)"
   ]
  },
  {
   "cell_type": "code",
   "execution_count": 286,
   "id": "b1d1d1ee",
   "metadata": {},
   "outputs": [
    {
     "data": {
      "text/plain": [
       "{'data': array([[5.1, 3.5, 1.4, 0.2],\n",
       "        [4.9, 3. , 1.4, 0.2],\n",
       "        [4.7, 3.2, 1.3, 0.2],\n",
       "        [4.6, 3.1, 1.5, 0.2],\n",
       "        [5. , 3.6, 1.4, 0.2],\n",
       "        [5.4, 3.9, 1.7, 0.4],\n",
       "        [4.6, 3.4, 1.4, 0.3],\n",
       "        [5. , 3.4, 1.5, 0.2],\n",
       "        [4.4, 2.9, 1.4, 0.2],\n",
       "        [4.9, 3.1, 1.5, 0.1],\n",
       "        [5.4, 3.7, 1.5, 0.2],\n",
       "        [4.8, 3.4, 1.6, 0.2],\n",
       "        [4.8, 3. , 1.4, 0.1],\n",
       "        [4.3, 3. , 1.1, 0.1],\n",
       "        [5.8, 4. , 1.2, 0.2],\n",
       "        [5.7, 4.4, 1.5, 0.4],\n",
       "        [5.4, 3.9, 1.3, 0.4],\n",
       "        [5.1, 3.5, 1.4, 0.3],\n",
       "        [5.7, 3.8, 1.7, 0.3],\n",
       "        [5.1, 3.8, 1.5, 0.3],\n",
       "        [5.4, 3.4, 1.7, 0.2],\n",
       "        [5.1, 3.7, 1.5, 0.4],\n",
       "        [4.6, 3.6, 1. , 0.2],\n",
       "        [5.1, 3.3, 1.7, 0.5],\n",
       "        [4.8, 3.4, 1.9, 0.2],\n",
       "        [5. , 3. , 1.6, 0.2],\n",
       "        [5. , 3.4, 1.6, 0.4],\n",
       "        [5.2, 3.5, 1.5, 0.2],\n",
       "        [5.2, 3.4, 1.4, 0.2],\n",
       "        [4.7, 3.2, 1.6, 0.2],\n",
       "        [4.8, 3.1, 1.6, 0.2],\n",
       "        [5.4, 3.4, 1.5, 0.4],\n",
       "        [5.2, 4.1, 1.5, 0.1],\n",
       "        [5.5, 4.2, 1.4, 0.2],\n",
       "        [4.9, 3.1, 1.5, 0.2],\n",
       "        [5. , 3.2, 1.2, 0.2],\n",
       "        [5.5, 3.5, 1.3, 0.2],\n",
       "        [4.9, 3.6, 1.4, 0.1],\n",
       "        [4.4, 3. , 1.3, 0.2],\n",
       "        [5.1, 3.4, 1.5, 0.2],\n",
       "        [5. , 3.5, 1.3, 0.3],\n",
       "        [4.5, 2.3, 1.3, 0.3],\n",
       "        [4.4, 3.2, 1.3, 0.2],\n",
       "        [5. , 3.5, 1.6, 0.6],\n",
       "        [5.1, 3.8, 1.9, 0.4],\n",
       "        [4.8, 3. , 1.4, 0.3],\n",
       "        [5.1, 3.8, 1.6, 0.2],\n",
       "        [4.6, 3.2, 1.4, 0.2],\n",
       "        [5.3, 3.7, 1.5, 0.2],\n",
       "        [5. , 3.3, 1.4, 0.2],\n",
       "        [7. , 3.2, 4.7, 1.4],\n",
       "        [6.4, 3.2, 4.5, 1.5],\n",
       "        [6.9, 3.1, 4.9, 1.5],\n",
       "        [5.5, 2.3, 4. , 1.3],\n",
       "        [6.5, 2.8, 4.6, 1.5],\n",
       "        [5.7, 2.8, 4.5, 1.3],\n",
       "        [6.3, 3.3, 4.7, 1.6],\n",
       "        [4.9, 2.4, 3.3, 1. ],\n",
       "        [6.6, 2.9, 4.6, 1.3],\n",
       "        [5.2, 2.7, 3.9, 1.4],\n",
       "        [5. , 2. , 3.5, 1. ],\n",
       "        [5.9, 3. , 4.2, 1.5],\n",
       "        [6. , 2.2, 4. , 1. ],\n",
       "        [6.1, 2.9, 4.7, 1.4],\n",
       "        [5.6, 2.9, 3.6, 1.3],\n",
       "        [6.7, 3.1, 4.4, 1.4],\n",
       "        [5.6, 3. , 4.5, 1.5],\n",
       "        [5.8, 2.7, 4.1, 1. ],\n",
       "        [6.2, 2.2, 4.5, 1.5],\n",
       "        [5.6, 2.5, 3.9, 1.1],\n",
       "        [5.9, 3.2, 4.8, 1.8],\n",
       "        [6.1, 2.8, 4. , 1.3],\n",
       "        [6.3, 2.5, 4.9, 1.5],\n",
       "        [6.1, 2.8, 4.7, 1.2],\n",
       "        [6.4, 2.9, 4.3, 1.3],\n",
       "        [6.6, 3. , 4.4, 1.4],\n",
       "        [6.8, 2.8, 4.8, 1.4],\n",
       "        [6.7, 3. , 5. , 1.7],\n",
       "        [6. , 2.9, 4.5, 1.5],\n",
       "        [5.7, 2.6, 3.5, 1. ],\n",
       "        [5.5, 2.4, 3.8, 1.1],\n",
       "        [5.5, 2.4, 3.7, 1. ],\n",
       "        [5.8, 2.7, 3.9, 1.2],\n",
       "        [6. , 2.7, 5.1, 1.6],\n",
       "        [5.4, 3. , 4.5, 1.5],\n",
       "        [6. , 3.4, 4.5, 1.6],\n",
       "        [6.7, 3.1, 4.7, 1.5],\n",
       "        [6.3, 2.3, 4.4, 1.3],\n",
       "        [5.6, 3. , 4.1, 1.3],\n",
       "        [5.5, 2.5, 4. , 1.3],\n",
       "        [5.5, 2.6, 4.4, 1.2],\n",
       "        [6.1, 3. , 4.6, 1.4],\n",
       "        [5.8, 2.6, 4. , 1.2],\n",
       "        [5. , 2.3, 3.3, 1. ],\n",
       "        [5.6, 2.7, 4.2, 1.3],\n",
       "        [5.7, 3. , 4.2, 1.2],\n",
       "        [5.7, 2.9, 4.2, 1.3],\n",
       "        [6.2, 2.9, 4.3, 1.3],\n",
       "        [5.1, 2.5, 3. , 1.1],\n",
       "        [5.7, 2.8, 4.1, 1.3],\n",
       "        [6.3, 3.3, 6. , 2.5],\n",
       "        [5.8, 2.7, 5.1, 1.9],\n",
       "        [7.1, 3. , 5.9, 2.1],\n",
       "        [6.3, 2.9, 5.6, 1.8],\n",
       "        [6.5, 3. , 5.8, 2.2],\n",
       "        [7.6, 3. , 6.6, 2.1],\n",
       "        [4.9, 2.5, 4.5, 1.7],\n",
       "        [7.3, 2.9, 6.3, 1.8],\n",
       "        [6.7, 2.5, 5.8, 1.8],\n",
       "        [7.2, 3.6, 6.1, 2.5],\n",
       "        [6.5, 3.2, 5.1, 2. ],\n",
       "        [6.4, 2.7, 5.3, 1.9],\n",
       "        [6.8, 3. , 5.5, 2.1],\n",
       "        [5.7, 2.5, 5. , 2. ],\n",
       "        [5.8, 2.8, 5.1, 2.4],\n",
       "        [6.4, 3.2, 5.3, 2.3],\n",
       "        [6.5, 3. , 5.5, 1.8],\n",
       "        [7.7, 3.8, 6.7, 2.2],\n",
       "        [7.7, 2.6, 6.9, 2.3],\n",
       "        [6. , 2.2, 5. , 1.5],\n",
       "        [6.9, 3.2, 5.7, 2.3],\n",
       "        [5.6, 2.8, 4.9, 2. ],\n",
       "        [7.7, 2.8, 6.7, 2. ],\n",
       "        [6.3, 2.7, 4.9, 1.8],\n",
       "        [6.7, 3.3, 5.7, 2.1],\n",
       "        [7.2, 3.2, 6. , 1.8],\n",
       "        [6.2, 2.8, 4.8, 1.8],\n",
       "        [6.1, 3. , 4.9, 1.8],\n",
       "        [6.4, 2.8, 5.6, 2.1],\n",
       "        [7.2, 3. , 5.8, 1.6],\n",
       "        [7.4, 2.8, 6.1, 1.9],\n",
       "        [7.9, 3.8, 6.4, 2. ],\n",
       "        [6.4, 2.8, 5.6, 2.2],\n",
       "        [6.3, 2.8, 5.1, 1.5],\n",
       "        [6.1, 2.6, 5.6, 1.4],\n",
       "        [7.7, 3. , 6.1, 2.3],\n",
       "        [6.3, 3.4, 5.6, 2.4],\n",
       "        [6.4, 3.1, 5.5, 1.8],\n",
       "        [6. , 3. , 4.8, 1.8],\n",
       "        [6.9, 3.1, 5.4, 2.1],\n",
       "        [6.7, 3.1, 5.6, 2.4],\n",
       "        [6.9, 3.1, 5.1, 2.3],\n",
       "        [5.8, 2.7, 5.1, 1.9],\n",
       "        [6.8, 3.2, 5.9, 2.3],\n",
       "        [6.7, 3.3, 5.7, 2.5],\n",
       "        [6.7, 3. , 5.2, 2.3],\n",
       "        [6.3, 2.5, 5. , 1.9],\n",
       "        [6.5, 3. , 5.2, 2. ],\n",
       "        [6.2, 3.4, 5.4, 2.3],\n",
       "        [5.9, 3. , 5.1, 1.8]]),\n",
       " 'target': array([0, 0, 0, 0, 0, 0, 0, 0, 0, 0, 0, 0, 0, 0, 0, 0, 0, 0, 0, 0, 0, 0,\n",
       "        0, 0, 0, 0, 0, 0, 0, 0, 0, 0, 0, 0, 0, 0, 0, 0, 0, 0, 0, 0, 0, 0,\n",
       "        0, 0, 0, 0, 0, 0, 1, 1, 1, 1, 1, 1, 1, 1, 1, 1, 1, 1, 1, 1, 1, 1,\n",
       "        1, 1, 1, 1, 1, 1, 1, 1, 1, 1, 1, 1, 1, 1, 1, 1, 1, 1, 1, 1, 1, 1,\n",
       "        1, 1, 1, 1, 1, 1, 1, 1, 1, 1, 1, 1, 2, 2, 2, 2, 2, 2, 2, 2, 2, 2,\n",
       "        2, 2, 2, 2, 2, 2, 2, 2, 2, 2, 2, 2, 2, 2, 2, 2, 2, 2, 2, 2, 2, 2,\n",
       "        2, 2, 2, 2, 2, 2, 2, 2, 2, 2, 2, 2, 2, 2, 2, 2, 2, 2]),\n",
       " 'frame': None,\n",
       " 'target_names': array(['setosa', 'versicolor', 'virginica'], dtype='<U10'),\n",
       " 'DESCR': '.. _iris_dataset:\\n\\nIris plants dataset\\n--------------------\\n\\n**Data Set Characteristics:**\\n\\n    :Number of Instances: 150 (50 in each of three classes)\\n    :Number of Attributes: 4 numeric, predictive attributes and the class\\n    :Attribute Information:\\n        - sepal length in cm\\n        - sepal width in cm\\n        - petal length in cm\\n        - petal width in cm\\n        - class:\\n                - Iris-Setosa\\n                - Iris-Versicolour\\n                - Iris-Virginica\\n                \\n    :Summary Statistics:\\n\\n    ============== ==== ==== ======= ===== ====================\\n                    Min  Max   Mean    SD   Class Correlation\\n    ============== ==== ==== ======= ===== ====================\\n    sepal length:   4.3  7.9   5.84   0.83    0.7826\\n    sepal width:    2.0  4.4   3.05   0.43   -0.4194\\n    petal length:   1.0  6.9   3.76   1.76    0.9490  (high!)\\n    petal width:    0.1  2.5   1.20   0.76    0.9565  (high!)\\n    ============== ==== ==== ======= ===== ====================\\n\\n    :Missing Attribute Values: None\\n    :Class Distribution: 33.3% for each of 3 classes.\\n    :Creator: R.A. Fisher\\n    :Donor: Michael Marshall (MARSHALL%PLU@io.arc.nasa.gov)\\n    :Date: July, 1988\\n\\nThe famous Iris database, first used by Sir R.A. Fisher. The dataset is taken\\nfrom Fisher\\'s paper. Note that it\\'s the same as in R, but not as in the UCI\\nMachine Learning Repository, which has two wrong data points.\\n\\nThis is perhaps the best known database to be found in the\\npattern recognition literature.  Fisher\\'s paper is a classic in the field and\\nis referenced frequently to this day.  (See Duda & Hart, for example.)  The\\ndata set contains 3 classes of 50 instances each, where each class refers to a\\ntype of iris plant.  One class is linearly separable from the other 2; the\\nlatter are NOT linearly separable from each other.\\n\\n.. topic:: References\\n\\n   - Fisher, R.A. \"The use of multiple measurements in taxonomic problems\"\\n     Annual Eugenics, 7, Part II, 179-188 (1936); also in \"Contributions to\\n     Mathematical Statistics\" (John Wiley, NY, 1950).\\n   - Duda, R.O., & Hart, P.E. (1973) Pattern Classification and Scene Analysis.\\n     (Q327.D83) John Wiley & Sons.  ISBN 0-471-22361-1.  See page 218.\\n   - Dasarathy, B.V. (1980) \"Nosing Around the Neighborhood: A New System\\n     Structure and Classification Rule for Recognition in Partially Exposed\\n     Environments\".  IEEE Transactions on Pattern Analysis and Machine\\n     Intelligence, Vol. PAMI-2, No. 1, 67-71.\\n   - Gates, G.W. (1972) \"The Reduced Nearest Neighbor Rule\".  IEEE Transactions\\n     on Information Theory, May 1972, 431-433.\\n   - See also: 1988 MLC Proceedings, 54-64.  Cheeseman et al\"s AUTOCLASS II\\n     conceptual clustering system finds 3 classes in the data.\\n   - Many, many more ...',\n",
       " 'feature_names': ['sepal length (cm)',\n",
       "  'sepal width (cm)',\n",
       "  'petal length (cm)',\n",
       "  'petal width (cm)'],\n",
       " 'filename': 'iris.csv',\n",
       " 'data_module': 'sklearn.datasets.data'}"
      ]
     },
     "execution_count": 286,
     "metadata": {},
     "output_type": "execute_result"
    }
   ],
   "source": [
    "iris"
   ]
  },
  {
   "cell_type": "code",
   "execution_count": 287,
   "id": "d8740791",
   "metadata": {},
   "outputs": [
    {
     "name": "stdout",
     "output_type": "stream",
     "text": [
      "0    50\n",
      "1    50\n",
      "2    50\n",
      "Name: 0, dtype: int64\n"
     ]
    }
   ],
   "source": [
    "print(tar[0].value_counts())"
   ]
  },
  {
   "cell_type": "code",
   "execution_count": 303,
   "id": "51f300f1",
   "metadata": {},
   "outputs": [],
   "source": [
    "X = df.iloc[:,0:4].values"
   ]
  },
  {
   "cell_type": "code",
   "execution_count": 304,
   "id": "0e54361c",
   "metadata": {},
   "outputs": [
    {
     "data": {
      "text/plain": [
       "array([[5.1, 3.5, 1.4, 0.2],\n",
       "       [4.9, 3. , 1.4, 0.2],\n",
       "       [4.7, 3.2, 1.3, 0.2],\n",
       "       [4.6, 3.1, 1.5, 0.2],\n",
       "       [5. , 3.6, 1.4, 0.2],\n",
       "       [5.4, 3.9, 1.7, 0.4],\n",
       "       [4.6, 3.4, 1.4, 0.3],\n",
       "       [5. , 3.4, 1.5, 0.2],\n",
       "       [4.4, 2.9, 1.4, 0.2],\n",
       "       [4.9, 3.1, 1.5, 0.1],\n",
       "       [5.4, 3.7, 1.5, 0.2],\n",
       "       [4.8, 3.4, 1.6, 0.2],\n",
       "       [4.8, 3. , 1.4, 0.1],\n",
       "       [4.3, 3. , 1.1, 0.1],\n",
       "       [5.8, 4. , 1.2, 0.2],\n",
       "       [5.7, 4.4, 1.5, 0.4],\n",
       "       [5.4, 3.9, 1.3, 0.4],\n",
       "       [5.1, 3.5, 1.4, 0.3],\n",
       "       [5.7, 3.8, 1.7, 0.3],\n",
       "       [5.1, 3.8, 1.5, 0.3],\n",
       "       [5.4, 3.4, 1.7, 0.2],\n",
       "       [5.1, 3.7, 1.5, 0.4],\n",
       "       [4.6, 3.6, 1. , 0.2],\n",
       "       [5.1, 3.3, 1.7, 0.5],\n",
       "       [4.8, 3.4, 1.9, 0.2],\n",
       "       [5. , 3. , 1.6, 0.2],\n",
       "       [5. , 3.4, 1.6, 0.4],\n",
       "       [5.2, 3.5, 1.5, 0.2],\n",
       "       [5.2, 3.4, 1.4, 0.2],\n",
       "       [4.7, 3.2, 1.6, 0.2],\n",
       "       [4.8, 3.1, 1.6, 0.2],\n",
       "       [5.4, 3.4, 1.5, 0.4],\n",
       "       [5.2, 4.1, 1.5, 0.1],\n",
       "       [5.5, 4.2, 1.4, 0.2],\n",
       "       [4.9, 3.1, 1.5, 0.2],\n",
       "       [5. , 3.2, 1.2, 0.2],\n",
       "       [5.5, 3.5, 1.3, 0.2],\n",
       "       [4.9, 3.6, 1.4, 0.1],\n",
       "       [4.4, 3. , 1.3, 0.2],\n",
       "       [5.1, 3.4, 1.5, 0.2],\n",
       "       [5. , 3.5, 1.3, 0.3],\n",
       "       [4.5, 2.3, 1.3, 0.3],\n",
       "       [4.4, 3.2, 1.3, 0.2],\n",
       "       [5. , 3.5, 1.6, 0.6],\n",
       "       [5.1, 3.8, 1.9, 0.4],\n",
       "       [4.8, 3. , 1.4, 0.3],\n",
       "       [5.1, 3.8, 1.6, 0.2],\n",
       "       [4.6, 3.2, 1.4, 0.2],\n",
       "       [5.3, 3.7, 1.5, 0.2],\n",
       "       [5. , 3.3, 1.4, 0.2],\n",
       "       [7. , 3.2, 4.7, 1.4],\n",
       "       [6.4, 3.2, 4.5, 1.5],\n",
       "       [6.9, 3.1, 4.9, 1.5],\n",
       "       [5.5, 2.3, 4. , 1.3],\n",
       "       [6.5, 2.8, 4.6, 1.5],\n",
       "       [5.7, 2.8, 4.5, 1.3],\n",
       "       [6.3, 3.3, 4.7, 1.6],\n",
       "       [4.9, 2.4, 3.3, 1. ],\n",
       "       [6.6, 2.9, 4.6, 1.3],\n",
       "       [5.2, 2.7, 3.9, 1.4],\n",
       "       [5. , 2. , 3.5, 1. ],\n",
       "       [5.9, 3. , 4.2, 1.5],\n",
       "       [6. , 2.2, 4. , 1. ],\n",
       "       [6.1, 2.9, 4.7, 1.4],\n",
       "       [5.6, 2.9, 3.6, 1.3],\n",
       "       [6.7, 3.1, 4.4, 1.4],\n",
       "       [5.6, 3. , 4.5, 1.5],\n",
       "       [5.8, 2.7, 4.1, 1. ],\n",
       "       [6.2, 2.2, 4.5, 1.5],\n",
       "       [5.6, 2.5, 3.9, 1.1],\n",
       "       [5.9, 3.2, 4.8, 1.8],\n",
       "       [6.1, 2.8, 4. , 1.3],\n",
       "       [6.3, 2.5, 4.9, 1.5],\n",
       "       [6.1, 2.8, 4.7, 1.2],\n",
       "       [6.4, 2.9, 4.3, 1.3],\n",
       "       [6.6, 3. , 4.4, 1.4],\n",
       "       [6.8, 2.8, 4.8, 1.4],\n",
       "       [6.7, 3. , 5. , 1.7],\n",
       "       [6. , 2.9, 4.5, 1.5],\n",
       "       [5.7, 2.6, 3.5, 1. ],\n",
       "       [5.5, 2.4, 3.8, 1.1],\n",
       "       [5.5, 2.4, 3.7, 1. ],\n",
       "       [5.8, 2.7, 3.9, 1.2],\n",
       "       [6. , 2.7, 5.1, 1.6],\n",
       "       [5.4, 3. , 4.5, 1.5],\n",
       "       [6. , 3.4, 4.5, 1.6],\n",
       "       [6.7, 3.1, 4.7, 1.5],\n",
       "       [6.3, 2.3, 4.4, 1.3],\n",
       "       [5.6, 3. , 4.1, 1.3],\n",
       "       [5.5, 2.5, 4. , 1.3],\n",
       "       [5.5, 2.6, 4.4, 1.2],\n",
       "       [6.1, 3. , 4.6, 1.4],\n",
       "       [5.8, 2.6, 4. , 1.2],\n",
       "       [5. , 2.3, 3.3, 1. ],\n",
       "       [5.6, 2.7, 4.2, 1.3],\n",
       "       [5.7, 3. , 4.2, 1.2],\n",
       "       [5.7, 2.9, 4.2, 1.3],\n",
       "       [6.2, 2.9, 4.3, 1.3],\n",
       "       [5.1, 2.5, 3. , 1.1],\n",
       "       [5.7, 2.8, 4.1, 1.3],\n",
       "       [6.3, 3.3, 6. , 2.5],\n",
       "       [5.8, 2.7, 5.1, 1.9],\n",
       "       [7.1, 3. , 5.9, 2.1],\n",
       "       [6.3, 2.9, 5.6, 1.8],\n",
       "       [6.5, 3. , 5.8, 2.2],\n",
       "       [7.6, 3. , 6.6, 2.1],\n",
       "       [4.9, 2.5, 4.5, 1.7],\n",
       "       [7.3, 2.9, 6.3, 1.8],\n",
       "       [6.7, 2.5, 5.8, 1.8],\n",
       "       [7.2, 3.6, 6.1, 2.5],\n",
       "       [6.5, 3.2, 5.1, 2. ],\n",
       "       [6.4, 2.7, 5.3, 1.9],\n",
       "       [6.8, 3. , 5.5, 2.1],\n",
       "       [5.7, 2.5, 5. , 2. ],\n",
       "       [5.8, 2.8, 5.1, 2.4],\n",
       "       [6.4, 3.2, 5.3, 2.3],\n",
       "       [6.5, 3. , 5.5, 1.8],\n",
       "       [7.7, 3.8, 6.7, 2.2],\n",
       "       [7.7, 2.6, 6.9, 2.3],\n",
       "       [6. , 2.2, 5. , 1.5],\n",
       "       [6.9, 3.2, 5.7, 2.3],\n",
       "       [5.6, 2.8, 4.9, 2. ],\n",
       "       [7.7, 2.8, 6.7, 2. ],\n",
       "       [6.3, 2.7, 4.9, 1.8],\n",
       "       [6.7, 3.3, 5.7, 2.1],\n",
       "       [7.2, 3.2, 6. , 1.8],\n",
       "       [6.2, 2.8, 4.8, 1.8],\n",
       "       [6.1, 3. , 4.9, 1.8],\n",
       "       [6.4, 2.8, 5.6, 2.1],\n",
       "       [7.2, 3. , 5.8, 1.6],\n",
       "       [7.4, 2.8, 6.1, 1.9],\n",
       "       [7.9, 3.8, 6.4, 2. ],\n",
       "       [6.4, 2.8, 5.6, 2.2],\n",
       "       [6.3, 2.8, 5.1, 1.5],\n",
       "       [6.1, 2.6, 5.6, 1.4],\n",
       "       [7.7, 3. , 6.1, 2.3],\n",
       "       [6.3, 3.4, 5.6, 2.4],\n",
       "       [6.4, 3.1, 5.5, 1.8],\n",
       "       [6. , 3. , 4.8, 1.8],\n",
       "       [6.9, 3.1, 5.4, 2.1],\n",
       "       [6.7, 3.1, 5.6, 2.4],\n",
       "       [6.9, 3.1, 5.1, 2.3],\n",
       "       [5.8, 2.7, 5.1, 1.9],\n",
       "       [6.8, 3.2, 5.9, 2.3],\n",
       "       [6.7, 3.3, 5.7, 2.5],\n",
       "       [6.7, 3. , 5.2, 2.3],\n",
       "       [6.3, 2.5, 5. , 1.9],\n",
       "       [6.5, 3. , 5.2, 2. ],\n",
       "       [6.2, 3.4, 5.4, 2.3],\n",
       "       [5.9, 3. , 5.1, 1.8]])"
      ]
     },
     "execution_count": 304,
     "metadata": {},
     "output_type": "execute_result"
    }
   ],
   "source": [
    "X"
   ]
  },
  {
   "cell_type": "code",
   "execution_count": 289,
   "id": "50388681",
   "metadata": {},
   "outputs": [],
   "source": [
    "mean= np.mean(X)"
   ]
  },
  {
   "cell_type": "code",
   "execution_count": 311,
   "id": "485f5706",
   "metadata": {},
   "outputs": [
    {
     "data": {
      "text/html": [
       "<style>#sk-container-id-2 {color: black;background-color: white;}#sk-container-id-2 pre{padding: 0;}#sk-container-id-2 div.sk-toggleable {background-color: white;}#sk-container-id-2 label.sk-toggleable__label {cursor: pointer;display: block;width: 100%;margin-bottom: 0;padding: 0.3em;box-sizing: border-box;text-align: center;}#sk-container-id-2 label.sk-toggleable__label-arrow:before {content: \"▸\";float: left;margin-right: 0.25em;color: #696969;}#sk-container-id-2 label.sk-toggleable__label-arrow:hover:before {color: black;}#sk-container-id-2 div.sk-estimator:hover label.sk-toggleable__label-arrow:before {color: black;}#sk-container-id-2 div.sk-toggleable__content {max-height: 0;max-width: 0;overflow: hidden;text-align: left;background-color: #f0f8ff;}#sk-container-id-2 div.sk-toggleable__content pre {margin: 0.2em;color: black;border-radius: 0.25em;background-color: #f0f8ff;}#sk-container-id-2 input.sk-toggleable__control:checked~div.sk-toggleable__content {max-height: 200px;max-width: 100%;overflow: auto;}#sk-container-id-2 input.sk-toggleable__control:checked~label.sk-toggleable__label-arrow:before {content: \"▾\";}#sk-container-id-2 div.sk-estimator input.sk-toggleable__control:checked~label.sk-toggleable__label {background-color: #d4ebff;}#sk-container-id-2 div.sk-label input.sk-toggleable__control:checked~label.sk-toggleable__label {background-color: #d4ebff;}#sk-container-id-2 input.sk-hidden--visually {border: 0;clip: rect(1px 1px 1px 1px);clip: rect(1px, 1px, 1px, 1px);height: 1px;margin: -1px;overflow: hidden;padding: 0;position: absolute;width: 1px;}#sk-container-id-2 div.sk-estimator {font-family: monospace;background-color: #f0f8ff;border: 1px dotted black;border-radius: 0.25em;box-sizing: border-box;margin-bottom: 0.5em;}#sk-container-id-2 div.sk-estimator:hover {background-color: #d4ebff;}#sk-container-id-2 div.sk-parallel-item::after {content: \"\";width: 100%;border-bottom: 1px solid gray;flex-grow: 1;}#sk-container-id-2 div.sk-label:hover label.sk-toggleable__label {background-color: #d4ebff;}#sk-container-id-2 div.sk-serial::before {content: \"\";position: absolute;border-left: 1px solid gray;box-sizing: border-box;top: 0;bottom: 0;left: 50%;z-index: 0;}#sk-container-id-2 div.sk-serial {display: flex;flex-direction: column;align-items: center;background-color: white;padding-right: 0.2em;padding-left: 0.2em;position: relative;}#sk-container-id-2 div.sk-item {position: relative;z-index: 1;}#sk-container-id-2 div.sk-parallel {display: flex;align-items: stretch;justify-content: center;background-color: white;position: relative;}#sk-container-id-2 div.sk-item::before, #sk-container-id-2 div.sk-parallel-item::before {content: \"\";position: absolute;border-left: 1px solid gray;box-sizing: border-box;top: 0;bottom: 0;left: 50%;z-index: -1;}#sk-container-id-2 div.sk-parallel-item {display: flex;flex-direction: column;z-index: 1;position: relative;background-color: white;}#sk-container-id-2 div.sk-parallel-item:first-child::after {align-self: flex-end;width: 50%;}#sk-container-id-2 div.sk-parallel-item:last-child::after {align-self: flex-start;width: 50%;}#sk-container-id-2 div.sk-parallel-item:only-child::after {width: 0;}#sk-container-id-2 div.sk-dashed-wrapped {border: 1px dashed gray;margin: 0 0.4em 0.5em 0.4em;box-sizing: border-box;padding-bottom: 0.4em;background-color: white;}#sk-container-id-2 div.sk-label label {font-family: monospace;font-weight: bold;display: inline-block;line-height: 1.2em;}#sk-container-id-2 div.sk-label-container {text-align: center;}#sk-container-id-2 div.sk-container {/* jupyter's `normalize.less` sets `[hidden] { display: none; }` but bootstrap.min.css set `[hidden] { display: none !important; }` so we also need the `!important` here to be able to override the default hidden behavior on the sphinx rendered scikit-learn.org. See: https://github.com/scikit-learn/scikit-learn/issues/21755 */display: inline-block !important;position: relative;}#sk-container-id-2 div.sk-text-repr-fallback {display: none;}</style><div id=\"sk-container-id-2\" class=\"sk-top-container\"><div class=\"sk-text-repr-fallback\"><pre>StandardScaler()</pre><b>In a Jupyter environment, please rerun this cell to show the HTML representation or trust the notebook. <br />On GitHub, the HTML representation is unable to render, please try loading this page with nbviewer.org.</b></div><div class=\"sk-container\" hidden><div class=\"sk-item\"><div class=\"sk-estimator sk-toggleable\"><input class=\"sk-toggleable__control sk-hidden--visually\" id=\"sk-estimator-id-2\" type=\"checkbox\" checked><label for=\"sk-estimator-id-2\" class=\"sk-toggleable__label sk-toggleable__label-arrow\">StandardScaler</label><div class=\"sk-toggleable__content\"><pre>StandardScaler()</pre></div></div></div></div></div>"
      ],
      "text/plain": [
       "StandardScaler()"
      ]
     },
     "execution_count": 311,
     "metadata": {},
     "output_type": "execute_result"
    }
   ],
   "source": [
    "scaler = StandardScaler()\n",
    "\n",
    "# Fit the scaler to the data\n",
    "scaler.fit(X)"
   ]
  },
  {
   "cell_type": "code",
   "execution_count": 312,
   "id": "ed43a067",
   "metadata": {},
   "outputs": [],
   "source": [
    "X_stand =  scaler.transform(X)"
   ]
  },
  {
   "cell_type": "code",
   "execution_count": null,
   "id": "8159ee7c",
   "metadata": {},
   "outputs": [],
   "source": []
  },
  {
   "cell_type": "code",
   "execution_count": 313,
   "id": "febbb3c6",
   "metadata": {},
   "outputs": [
    {
     "data": {
      "text/plain": [
       "array([[ 1.00671141, -0.11835884,  0.87760447,  0.82343066],\n",
       "       [-0.11835884,  1.00671141, -0.43131554, -0.36858315],\n",
       "       [ 0.87760447, -0.43131554,  1.00671141,  0.96932762],\n",
       "       [ 0.82343066, -0.36858315,  0.96932762,  1.00671141]])"
      ]
     },
     "execution_count": 313,
     "metadata": {},
     "output_type": "execute_result"
    }
   ],
   "source": [
    "co_var1 = np.cov(X_stand.T)\n",
    "co_var1"
   ]
  },
  {
   "cell_type": "code",
   "execution_count": 314,
   "id": "2ff108bf",
   "metadata": {},
   "outputs": [],
   "source": [
    "e_values, e_vectors = np.linalg.eig(co_var1)"
   ]
  },
  {
   "cell_type": "code",
   "execution_count": 315,
   "id": "09b7cdc8",
   "metadata": {},
   "outputs": [
    {
     "data": {
      "text/plain": [
       "array([2.93808505, 0.9201649 , 0.14774182, 0.02085386])"
      ]
     },
     "execution_count": 315,
     "metadata": {},
     "output_type": "execute_result"
    }
   ],
   "source": [
    "e_values"
   ]
  },
  {
   "cell_type": "code",
   "execution_count": 316,
   "id": "452b3027",
   "metadata": {},
   "outputs": [
    {
     "data": {
      "text/plain": [
       "array([[ 0.52106591, -0.37741762, -0.71956635,  0.26128628],\n",
       "       [-0.26934744, -0.92329566,  0.24438178, -0.12350962],\n",
       "       [ 0.5804131 , -0.02449161,  0.14212637, -0.80144925],\n",
       "       [ 0.56485654, -0.06694199,  0.63427274,  0.52359713]])"
      ]
     },
     "execution_count": 316,
     "metadata": {},
     "output_type": "execute_result"
    }
   ],
   "source": [
    "e_vectors"
   ]
  },
  {
   "cell_type": "code",
   "execution_count": 334,
   "id": "08b9ba6f",
   "metadata": {},
   "outputs": [],
   "source": [
    "proportion_of_variance1 = e_values/sum(e_values)"
   ]
  },
  {
   "cell_type": "code",
   "execution_count": 335,
   "id": "4323904d",
   "metadata": {},
   "outputs": [
    {
     "data": {
      "text/plain": [
       "array([0.72962445, 0.22850762, 0.03668922, 0.00517871])"
      ]
     },
     "execution_count": 335,
     "metadata": {},
     "output_type": "execute_result"
    }
   ],
   "source": [
    "proportion_of_variance1"
   ]
  },
  {
   "cell_type": "code",
   "execution_count": 336,
   "id": "ac77574b",
   "metadata": {},
   "outputs": [],
   "source": [
    "latest_vectors = e_vectors[0:2]"
   ]
  },
  {
   "cell_type": "code",
   "execution_count": 337,
   "id": "777cc989",
   "metadata": {},
   "outputs": [
    {
     "data": {
      "text/plain": [
       "array([[ 0.52106591, -0.37741762, -0.71956635,  0.26128628],\n",
       "       [-0.26934744, -0.92329566,  0.24438178, -0.12350962]])"
      ]
     },
     "execution_count": 337,
     "metadata": {},
     "output_type": "execute_result"
    }
   ],
   "source": [
    "latest_vectors"
   ]
  },
  {
   "cell_type": "code",
   "execution_count": 350,
   "id": "c2a42db5",
   "metadata": {},
   "outputs": [],
   "source": [
    "Y = np.dot(e_vectors.T,X.T) "
   ]
  },
  {
   "cell_type": "code",
   "execution_count": 351,
   "id": "30673c85",
   "metadata": {},
   "outputs": [
    {
     "data": {
      "text/plain": [
       "array([[ 2.64026976e+00,  2.67073030e+00,  2.45460631e+00,\n",
       "         2.54551709e+00,  2.56122842e+00,  2.97594579e+00,\n",
       "         2.46315720e+00,  2.67313922e+00,  2.43713208e+00,\n",
       "         2.64535121e+00,  2.80076135e+00,  2.62696735e+00,\n",
       "         2.56213805e+00,  2.12748116e+00,  2.75425956e+00,\n",
       "         2.88150922e+00,  2.74378055e+00,  2.69675541e+00,\n",
       "         3.10271466e+00,  2.67399249e+00,  2.99764820e+00,\n",
       "         2.75741289e+00,  2.12063682e+00,  3.03772014e+00,\n",
       "         2.80109128e+00,  2.83891951e+00,  2.84415184e+00,\n",
       "         2.75041766e+00,  2.71931109e+00,  2.62873024e+00,\n",
       "         2.70777158e+00,  2.99453689e+00,  2.53232354e+00,\n",
       "         2.66015291e+00,  2.70183686e+00,  2.55288478e+00,\n",
       "         2.79065481e+00,  2.45263618e+00,  2.35215603e+00,\n",
       "         2.72524581e+00,  2.58660751e+00,  2.64929148e+00,\n",
       "         2.29828654e+00,  2.93018840e+00,  2.96264338e+00,\n",
       "         2.67510936e+00,  2.67554814e+00,  2.46054103e+00,\n",
       "         2.74865476e+00,  2.64203265e+00,  6.30429029e+00,\n",
       "         5.93205377e+00,  6.45168671e+00,  5.30232929e+00,\n",
       "         6.14994065e+00,  5.56207530e+00,  6.02558071e+00,\n",
       "         4.38700887e+00,  6.06214119e+00,  5.03671489e+00,\n",
       "         4.66293706e+00,  5.55126638e+00,  5.42034003e+00,\n",
       "         5.91613520e+00,  4.96066218e+00,  6.00078133e+00,\n",
       "         5.56907053e+00,  5.23949444e+00,  6.09718803e+00,\n",
       "         5.12955378e+00,  6.01510170e+00,  5.48029512e+00,\n",
       "         6.30065563e+00,  5.83009863e+00,  5.78380408e+00,\n",
       "         5.97560948e+00,  6.36585739e+00,  6.54542089e+00,\n",
       "         5.80443164e+00,  4.86607473e+00,  5.04634062e+00,\n",
       "         4.93181366e+00,  5.23638313e+00,  6.26303464e+00,\n",
       "         5.46485735e+00,  5.72624357e+00,  6.23139091e+00,\n",
       "         5.95134726e+00,  5.22393398e+00,  5.24845980e+00,\n",
       "         5.39720464e+00,  5.83115914e+00,  5.32135918e+00,\n",
       "         4.46605021e+00,  5.36277953e+00,  5.27759623e+00,\n",
       "         5.36101663e+00,  5.67959090e+00,  4.34664904e+00,\n",
       "         5.32991006e+00,  7.28848862e+00,  6.32827842e+00,\n",
       "         7.50216166e+00,  6.76866278e+00,  7.18796645e+00,\n",
       "         8.16898378e+00,  5.45196942e+00,  7.69601786e+00,\n",
       "         7.20091074e+00,  7.73468502e+00,  6.61483649e+00,\n",
       "         6.75700058e+00,  7.11367664e+00,  6.32848566e+00,\n",
       "         6.58377194e+00,  6.84826948e+00,  6.78789991e+00,\n",
       "         8.12013938e+00,  8.61592459e+00,  6.28318140e+00,\n",
       "         7.34096767e+00,  6.13753352e+00,  8.27651552e+00,\n",
       "         6.41624310e+00,  7.09684844e+00,  7.38898311e+00,\n",
       "         6.27916046e+00,  6.23122569e+00,  7.01716108e+00,\n",
       "         7.21379867e+00,  7.71546223e+00,  7.93725733e+00,\n",
       "         7.07364673e+00,  6.33593402e+00,  6.51931122e+00,\n",
       "         8.04385513e+00,  6.97290298e+00,  6.70885857e+00,\n",
       "         6.12107778e+00,  7.08080718e+00,  7.26213358e+00,\n",
       "         7.01965456e+00,  6.32827842e+00,  7.40494370e+00,\n",
       "         7.32279105e+00,  7.00041743e+00,  6.58463955e+00,\n",
       "         6.72674729e+00,  6.74822812e+00,  6.24309512e+00],\n",
       "       [-5.20404130e+00, -4.66690995e+00, -4.77363639e+00,\n",
       "        -4.64846339e+00, -5.25862910e+00, -5.70732073e+00,\n",
       "        -4.92969712e+00, -5.07641913e+00, -4.38587157e+00,\n",
       "        -4.75499447e+00, -5.50437488e+00, -5.00338477e+00,\n",
       "        -4.62247398e+00, -4.42641769e+00, -5.92498314e+00,\n",
       "        -6.27729552e+00, -5.69752408e+00, -5.21073550e+00,\n",
       "        -5.72152225e+00, -5.49017336e+00, -5.23228450e+00,\n",
       "        -5.40453799e+00, -5.09786541e+00, -5.04681224e+00,\n",
       "        -5.01073225e+00, -4.70955003e+00, -5.09225669e+00,\n",
       "        -5.24423222e+00, -5.14945349e+00, -4.78098388e+00,\n",
       "        -4.72639607e+00, -5.24077457e+00, -5.79151542e+00,\n",
       "        -6.00131531e+00, -4.76168867e+00, -4.88441252e+00,\n",
       "        -5.35255918e+00, -5.21419314e+00, -4.47575198e+00,\n",
       "        -5.11416089e+00, -5.17054457e+00, -3.87388097e+00,\n",
       "        -4.66041111e+00, -5.19797465e+00, -5.50666420e+00,\n",
       "        -4.63586238e+00, -5.48592832e+00, -4.73834379e+00,\n",
       "        -5.46663311e+00, -4.98164040e+00, -5.80529876e+00,\n",
       "        -5.58064407e+00, -5.68681996e+00, -4.38436792e+00,\n",
       "        -5.25151673e+00, -4.93374508e+00, -5.64682440e+00,\n",
       "        -4.21302020e+00, -5.36819966e+00, -4.64470594e+00,\n",
       "        -3.88634202e+00, -5.19992865e+00, -4.46066457e+00,\n",
       "        -5.18863421e+00, -4.96629044e+00, -5.59239643e+00,\n",
       "        -5.09405085e+00, -4.84927804e+00, -4.58186489e+00,\n",
       "        -4.59093126e+00, -5.41936534e+00, -5.07246632e+00,\n",
       "        -4.90639199e+00, -5.08291625e+00, -5.28536865e+00,\n",
       "        -5.46232510e+00, -5.36294614e+00, -5.53484443e+00,\n",
       "        -5.15268833e+00, -4.70451174e+00, -4.45841077e+00,\n",
       "        -4.44926741e+00, -4.85776811e+00, -4.98941836e+00,\n",
       "        -5.01856732e+00, -5.62103036e+00, -5.60643811e+00,\n",
       "        -4.69609866e+00, -5.07086581e+00, -4.56902705e+00,\n",
       "        -4.66445906e+00, -5.27851462e+00, -4.76788771e+00,\n",
       "        -4.15843239e+00, -4.79632627e+00, -5.10436253e+00,\n",
       "        -5.01872716e+00, -5.20988513e+00, -4.38018000e+00,\n",
       "        -4.92394844e+00, -5.73891128e+00, -4.93401743e+00,\n",
       "        -5.73463072e+00, -5.31293698e+00, -5.51242518e+00,\n",
       "        -5.94048365e+00, -4.38159908e+00, -5.70749872e+00,\n",
       "        -5.09948408e+00, -6.35802499e+00, -5.66655179e+00,\n",
       "        -5.16536632e+00, -5.61160879e+00, -4.71586158e+00,\n",
       "        -5.05981799e+00, -5.65379095e+00, -5.47830091e+00,\n",
       "        -6.72600530e+00, -5.62964303e+00, -4.51862717e+00,\n",
       "        -5.85229640e+00, -4.95265935e+00, -5.78932124e+00,\n",
       "        -5.11113372e+00, -5.85575405e+00, -5.93939817e+00,\n",
       "        -5.16327236e+00, -5.31263889e+00, -5.27843177e+00,\n",
       "        -5.73645232e+00, -5.65470679e+00, -6.78075294e+00,\n",
       "        -5.28512597e+00, -5.18827901e+00, -4.93368796e+00,\n",
       "        -5.97936800e+00, -5.81475000e+00, -5.53288871e+00,\n",
       "        -5.27244797e+00, -5.73923095e+00, -5.68872835e+00,\n",
       "        -5.74527187e+00, -4.93401743e+00, -5.81945296e+00,\n",
       "        -5.88253084e+00, -5.57990794e+00, -4.93561795e+00,\n",
       "        -5.48434182e+00, -5.76541572e+00, -5.24205369e+00],\n",
       "       [-2.48862071e+00, -2.46689833e+00, -2.28832134e+00,\n",
       "        -2.21237760e+00, -2.39222589e+00, -2.43724544e+00,\n",
       "        -2.08984843e+00, -2.42688961e+00, -2.13155333e+00,\n",
       "        -2.49167478e+00, -2.64140162e+00, -2.26876370e+00,\n",
       "        -2.45836896e+00, -2.14122370e+00, -2.89855154e+00,\n",
       "        -2.55934973e+00, -2.49409599e+00, -2.42519343e+00,\n",
       "        -2.74098080e+00, -2.33766626e+00, -2.68629088e+00,\n",
       "        -2.29867717e+00, -2.16124990e+00, -2.30457733e+00,\n",
       "        -2.22612579e+00, -2.51042969e+00, -2.28582243e+00,\n",
       "        -2.54636470e+00, -2.58501552e+00, -2.24568342e+00,\n",
       "        -2.34207824e+00, -2.58786161e+00, -2.46316291e+00,\n",
       "        -2.60538000e+00, -2.42824751e+00, -2.51840388e+00,\n",
       "        -2.79065988e+00, -2.38369653e+00, -2.12132779e+00,\n",
       "        -2.49884625e+00, -2.36744943e+00, -2.30092439e+00,\n",
       "        -2.07245143e+00, -2.13452970e+00, -2.21738844e+00,\n",
       "        -2.33151442e+00, -2.38688090e+00, -2.20215206e+00,\n",
       "        -2.56944498e+00, -2.46554043e+00, -2.69896701e+00,\n",
       "        -2.23222520e+00, -2.55959600e+00, -2.00247681e+00,\n",
       "        -2.38772191e+00, -1.95313601e+00, -2.04397783e+00,\n",
       "        -1.83606910e+00, -2.56209491e+00, -1.63963956e+00,\n",
       "        -1.97735317e+00, -1.96395629e+00, -2.57697999e+00,\n",
       "        -2.12467182e+00, -1.98465493e+00, -2.55017319e+00,\n",
       "        -1.70544847e+00, -2.29666319e+00, -2.33269370e+00,\n",
       "        -2.16662428e+00, -1.63952229e+00, -2.31202573e+00,\n",
       "        -2.27448526e+00, -2.27596455e+00, -2.46081955e+00,\n",
       "        -2.50265473e+00, -2.63859381e+00, -2.29905372e+00,\n",
       "        -2.01771319e+00, -2.33442055e+00, -2.13331845e+00,\n",
       "        -2.21095837e+00, -2.19823392e+00, -1.91788645e+00,\n",
       "        -1.56153520e+00, -1.83209502e+00, -2.44410801e+00,\n",
       "        -2.52127935e+00, -1.88915356e+00, -1.95360046e+00,\n",
       "        -1.93573900e+00, -2.11444628e+00, -2.20845946e+00,\n",
       "        -1.93246391e+00, -1.94825546e+00, -2.01032484e+00,\n",
       "        -1.97133574e+00, -2.31690628e+00, -1.93475483e+00,\n",
       "        -2.00998656e+00, -1.28836809e+00, -1.58369136e+00,\n",
       "        -2.20525744e+00, -1.88696227e+00, -1.72430299e+00,\n",
       "        -2.46555216e+00, -1.19708836e+00, -2.50704016e+00,\n",
       "        -2.24411625e+00, -1.84845064e+00, -1.90176964e+00,\n",
       "        -1.98700589e+00, -2.04623808e+00, -1.51139644e+00,\n",
       "        -1.24211681e+00, -1.61110591e+00, -2.02065000e+00,\n",
       "        -2.26436346e+00, -2.46576905e+00, -2.11771725e+00,\n",
       "        -1.91403854e+00, -1.38033791e+00, -2.63559978e+00,\n",
       "        -2.03532708e+00, -1.87254164e+00, -2.40440690e+00,\n",
       "        -1.95314490e+00, -1.81809928e+00, -1.79307526e+00,\n",
       "        -2.60856308e+00, -2.56843297e+00, -2.57776919e+00,\n",
       "        -1.72964798e+00, -2.17274545e+00, -2.07007262e+00,\n",
       "        -2.48171743e+00, -1.38420773e+00, -1.92425518e+00,\n",
       "        -1.76035528e+00, -2.10796917e+00, -1.74534881e+00,\n",
       "        -2.02375254e+00, -1.58369136e+00, -1.81365663e+00,\n",
       "        -1.61883254e+00, -1.89006481e+00, -2.00656353e+00,\n",
       "        -1.93643336e+00, -1.40410365e+00, -1.64576073e+00],\n",
       "       [-1.17033159e-01, -1.07535605e-01, -1.04349860e-01,\n",
       "        -2.78417376e-01, -1.55512749e-01, -2.23766470e-01,\n",
       "        -1.82965623e-01, -2.10955749e-01, -2.25827783e-01,\n",
       "        -2.52391205e-01, -1.43494123e-01, -3.43357930e-01,\n",
       "        -1.86023946e-01, -7.62323125e-02,  1.64402277e-01,\n",
       "        -4.68455461e-02,  9.68132289e-02, -6.46734453e-02,\n",
       "        -1.85389337e-01, -1.81871256e-01, -2.66731087e-01,\n",
       "        -1.17160580e-01,  6.05524379e-02, -1.75686868e-01,\n",
       "        -5.83792704e-01, -2.41696826e-01, -1.86381247e-01,\n",
       "        -1.71049455e-01, -7.85535688e-02, -3.44784634e-01,\n",
       "        -3.06305044e-01, -1.72181053e-03, -2.97514941e-01,\n",
       "        -9.89753805e-02, -2.00031492e-01,  5.41809484e-02,\n",
       "         6.76262779e-02, -2.34001090e-01, -1.58033820e-01,\n",
       "        -1.84827121e-01, -1.06571487e-02,  6.91125487e-03,\n",
       "        -1.82735744e-01, -9.40127822e-02, -4.50091241e-01,\n",
       "        -8.13045195e-02, -3.14375894e-01, -2.10623413e-01,\n",
       "        -1.69622751e-01, -1.18459863e-01, -1.60000229e+00,\n",
       "        -1.54412450e+00, -1.72171009e+00, -1.37211830e+00,\n",
       "        -1.54873695e+00, -1.78234047e+00, -1.69053422e+00,\n",
       "        -1.13730569e+00, -1.63967871e+00, -1.36740339e+00,\n",
       "        -1.22206307e+00, -1.40963094e+00, -1.38620333e+00,\n",
       "        -1.79810706e+00, -1.09951574e+00, -1.42560244e+00,\n",
       "        -1.72845160e+00, -1.58036032e+00, -1.47287213e+00,\n",
       "        -1.39526609e+00, -1.75812327e+00, -1.27710134e+00,\n",
       "        -1.80437609e+00, -1.89047552e+00, -1.45150119e+00,\n",
       "        -1.43938011e+00, -1.68300063e+00, -1.73704189e+00,\n",
       "        -1.61158612e+00, -1.11326844e+00, -1.32889884e+00,\n",
       "        -1.30111362e+00, -1.31535105e+00, -2.01539403e+00,\n",
       "        -1.78070885e+00, -1.62098122e+00, -1.61367750e+00,\n",
       "        -1.48366897e+00, -1.51259133e+00, -1.39682022e+00,\n",
       "        -1.78211059e+00, -1.73031310e+00, -1.38314501e+00,\n",
       "        -1.09882610e+00, -1.55568336e+00, -1.61896734e+00,\n",
       "        -1.55425666e+00, -1.50375845e+00, -8.04604912e-01,\n",
       "        -1.46176077e+00, -2.26118082e+00, -1.91057215e+00,\n",
       "        -2.14439284e+00, -2.25771527e+00, -2.16865997e+00,\n",
       "        -2.57476417e+00, -1.74487776e+00, -2.55744346e+00,\n",
       "        -2.26408676e+00, -2.14322098e+00, -1.73706685e+00,\n",
       "        -1.91409023e+00, -1.90219903e+00, -1.77949422e+00,\n",
       "        -1.66112454e+00, -1.76640619e+00, -2.13766405e+00,\n",
       "        -2.67522845e+00, -2.63494705e+00, -1.92585401e+00,\n",
       "        -1.95634275e+00, -1.76253081e+00, -2.65643826e+00,\n",
       "        -1.67199887e+00, -2.12567039e+00, -2.38019020e+00,\n",
       "        -1.63033354e+00, -1.76130902e+00, -2.06215654e+00,\n",
       "        -2.29991786e+00, -2.30631431e+00, -2.48725585e+00,\n",
       "        -2.00979683e+00, -2.00171883e+00, -2.48235849e+00,\n",
       "        -2.04319150e+00, -2.00531180e+00, -2.17614364e+00,\n",
       "        -1.70729272e+00, -1.80827644e+00, -1.86374440e+00,\n",
       "        -1.46312224e+00, -1.91057215e+00, -2.14276122e+00,\n",
       "        -1.91623154e+00, -1.58317345e+00, -1.67508216e+00,\n",
       "        -1.79250985e+00, -1.92351029e+00, -1.97385612e+00]])"
      ]
     },
     "execution_count": 351,
     "metadata": {},
     "output_type": "execute_result"
    }
   ],
   "source": [
    "Y"
   ]
  },
  {
   "cell_type": "code",
   "execution_count": null,
   "id": "a78ffea3",
   "metadata": {},
   "outputs": [],
   "source": []
  },
  {
   "cell_type": "code",
   "execution_count": 352,
   "id": "bf13db5e",
   "metadata": {},
   "outputs": [],
   "source": [
    "color_mapping = {0: 'blue', 1: 'green', 2: 'red'}\n",
    "colors = [color_mapping[t] for t in df['Target']]"
   ]
  },
  {
   "cell_type": "code",
   "execution_count": 355,
   "id": "ad14a9e4",
   "metadata": {},
   "outputs": [
    {
     "data": {
      "text/plain": [
       "<matplotlib.collections.PathCollection at 0x20467fcf2e0>"
      ]
     },
     "execution_count": 355,
     "metadata": {},
     "output_type": "execute_result"
    },
    {
     "data": {
      "image/png": "[encoded data removed]",
      "text/plain": [
       "<Figure size 432x288 with 1 Axes>"
      ]
     },
     "metadata": {
      "needs_background": "light"
     },
     "output_type": "display_data"
    }
   ],
   "source": [
    "plt.scatter(Y[0],Y[1], c = colors)\n"
   ]
  },
  {
   "cell_type": "code",
   "execution_count": null,
   "id": "072a9e50",
   "metadata": {},
   "outputs": [],
   "source": []
  },
  {
   "cell_type": "code",
   "execution_count": null,
   "id": "3424077b",
   "metadata": {},
   "outputs": [],
   "source": []
  }
 ],
 "metadata": {
  "kernelspec": {
   "display_name": "Python 3 (ipykernel)",
   "language": "python",
   "name": "python3"
  },
  "language_info": {
   "codemirror_mode": {
    "name": "ipython",
    "version": 3
   },
   "file_extension": ".py",
   "mimetype": "text/x-python",
   "name": "python",
   "nbconvert_exporter": "python",
   "pygments_lexer": "ipython3",
   "version": "3.9.7"
  }
 },
 "nbformat": 4,
 "nbformat_minor": 5
}
