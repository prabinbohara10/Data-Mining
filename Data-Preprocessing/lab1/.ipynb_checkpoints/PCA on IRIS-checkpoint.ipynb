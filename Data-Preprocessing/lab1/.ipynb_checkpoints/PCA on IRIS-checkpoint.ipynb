{
 "cells": [
  {
   "cell_type": "code",
   "execution_count": null,
   "metadata": {
    "id": "thvg1JfeWHO8"
   },
   "outputs": [],
   "source": [
    "import numpy as np\n",
    "import matplotlib.pyplot as plt\n",
    "import pandas as pd\n",
    "from numpy import random\n",
    "import sklearn"
   ]
  },
  {
   "cell_type": "markdown",
   "metadata": {
    "id": "EeiQQlXZx1rC"
   },
   "source": [
    "**STEP 1: Load the iris flower dataset**"
   ]
  },
  {
   "cell_type": "code",
   "execution_count": null,
   "metadata": {
    "id": "0RAlH46evjGJ"
   },
   "outputs": [],
   "source": [
    "from sklearn.datasets import load_iris\n",
    "iris = load_iris()\n",
    "\n",
    "X = iris.data    # X is 2d array, where row=samples, column=features\n",
    "y = iris.target  # y is 1d array, representing class label for all samples"
   ]
  },
  {
   "cell_type": "code",
   "execution_count": null,
   "metadata": {
    "colab": {
     "base_uri": "https://localhost:8080/"
    },
    "id": "a5JvXKFaw6Qr",
    "outputId": "d7226687-b82e-4243-b3f6-3cda36751cf4"
   },
   "outputs": [],
   "source": [
    "print(X.shape)\n",
    "print(y.shape)\n",
    "print(iris.feature_names)\n",
    "print(\"Target names:\", iris.target_names)"
   ]
  },
  {
   "cell_type": "code",
   "execution_count": null,
   "metadata": {
    "colab": {
     "base_uri": "https://localhost:8080/"
    },
    "id": "by8T-5DT1ONE",
    "outputId": "6e4a31fc-450b-4e2c-99aa-f9c944534ac8"
   },
   "outputs": [],
   "source": [
    "print(X)"
   ]
  },
  {
   "cell_type": "markdown",
   "metadata": {
    "id": "8xXbyhuJ0HtK"
   },
   "source": [
    "**STEP 2: Create a dataframe and see the data statistics**"
   ]
  },
  {
   "cell_type": "code",
   "execution_count": null,
   "metadata": {
    "colab": {
     "base_uri": "https://localhost:8080/",
     "height": 112
    },
    "id": "xzC2e2Lt0Agx",
    "outputId": "e620671e-9710-4604-f692-573c6868bfa5"
   },
   "outputs": [],
   "source": [
    "# assign meaningful columns(feature_names) to feature values for 150 samples(iris.data) in the dataframe.\n",
    "df = pd.DataFrame(data=iris.data,columns=iris.feature_names)\n",
    "# add a new target column.\n",
    "df['target']=iris.target\n",
    "\n",
    "df.head(2)   # view 1st 2 data, both are setosa(numbering starts from 0)"
   ]
  },
  {
   "cell_type": "code",
   "execution_count": null,
   "metadata": {
    "colab": {
     "base_uri": "https://localhost:8080/"
    },
    "id": "1Zz1wF1D4VF8",
    "outputId": "d11f3c74-19a2-4820-9271-67fe109174b6"
   },
   "outputs": [],
   "source": [
    "#view 49th to 52nd dataset to see 2 classes(setosa and vesicolor)\n",
    "subset = df.iloc[48:52]\n",
    "print(subset)"
   ]
  },
  {
   "cell_type": "code",
   "execution_count": null,
   "metadata": {
    "colab": {
     "base_uri": "https://localhost:8080/"
    },
    "id": "zHjp5-eKEv83",
    "outputId": "24d3648c-fae7-446f-f47d-55054d946466"
   },
   "outputs": [],
   "source": [
    "# statistics computed for each column\n",
    "summary_stats = df.describe()\n",
    "print(summary_stats)"
   ]
  },
  {
   "cell_type": "code",
   "execution_count": null,
   "metadata": {
    "colab": {
     "base_uri": "https://localhost:8080/",
     "height": 545
    },
    "id": "TzBamqGUIVyq",
    "outputId": "73bbd628-7b2c-4531-aa8e-52f8b0b22912"
   },
   "outputs": [],
   "source": [
    "# data visualization, box plot for each feature\n",
    "df.plot(kind='box', figsize=(10, 6))\n",
    "plt.title('Box Plot of Iris Dataset')\n",
    "plt.text(1.5, 8, \"'THA076BCT026','THA076BCT027','THA076BCT041'\", fontsize=8,color='red')\n",
    "\n",
    "\n",
    "plt.savefig('Box Plot of Iris Dataset', bbox_inches='tight')\n",
    "plt.show()"
   ]
  },
  {
   "cell_type": "code",
   "execution_count": null,
   "metadata": {},
   "outputs": [],
   "source": [
    "import seaborn as sns\n",
    "# plt.figure(figsize=(12, 8))\n",
    "# sns.pairplot(df, hue = 'target')\n",
    "# plt.title('Attribute Correlation Heatmap')\n",
    "# plt.text(0.5, 8, \"'THA076BCT026','THA076BCT027','THA076BCT041'\", fontsize=8,color='red')\n",
    "# plt.savefig('./plots/pair Plot', bbox_inches='tight')\n",
    "# plt.show()\n",
    "# Set the size of the figure\n",
    "plt.figure(figsize=(12, 7))\n",
    "df['target'] = df['target'].replace({0: 'Setosa', 1: 'Versicolor', 2: 'Virginica'})\n",
    "# Create a pair plot with hue based on the 'target' column in the dataframe\n",
    "g=sns.pairplot(df, hue='target',plot_kws={'legend': False})\n",
    "g._legend.set_title('')\n",
    "# target_labels = ['Setosa', 'Versicolor', 'Virginica']\n",
    "# # Set the title of the plot\n",
    "plt.suptitle('Attribute Correlation Pair Plot', fontsize=16, y=0.98)\n",
    "\n",
    "\n",
    "\n",
    "# Set the style and color of the text box\n",
    "textbox_props = dict(boxstyle='round', facecolor='white', edgecolor='gray', alpha=0.8)\n",
    "\n",
    "# Add a text box with the highlighted feature names\n",
    "plt.text(0.1, 8, \"THA076BCT026\\nTHA076BCT027\\nTHA076BCT041\", fontsize=10, color='red', ha='center', bbox=textbox_props)\n",
    "legend_elements = [plt.Line2D([0], [0], marker='o', color='w', label='Setosa', markerfacecolor='royalblue', markersize=8),\n",
    "                   plt.Line2D([0], [0], marker='o', color='w', label='Versicolor', markerfacecolor='g', markersize=8),\n",
    "                   plt.Line2D([0], [0], marker='o', color='w', label='Virginica', markerfacecolor='orange', markersize=8)]\n",
    "\n",
    "# Add the legend to the plot\n",
    "plt.legend(handles=legend_elements, title='target')\n",
    "\n",
    "# Adjust the spacing between subplots\n",
    "plt.subplots_adjust(top=0.9)\n",
    "\n",
    "# Set custom tick labels for the legend\n",
    "# plt.gca().get_legend().remove()\n",
    "# plt.legend(title='Target', labels=target_labels)\n",
    "# Save the plot to a file\n",
    "plt.savefig('./plots/pair_plot.png', bbox_inches='tight')\n",
    "\n",
    "\n",
    "# Display the plot\n",
    "plt.show()"
   ]
  },
  {
   "cell_type": "code",
   "execution_count": null,
   "metadata": {
    "colab": {
     "base_uri": "https://localhost:8080/",
     "height": 564
    },
    "id": "thieGiAsK1S-",
    "outputId": "3396a093-7201-4eec-d0ee-6711bf97c424"
   },
   "outputs": [],
   "source": [
    "# Visualization of data points based on the target class (purple=setosa,green=Versicolour,yellow=Virginica )\n",
    "df['target']=iris.target\n",
    "plt.figure(figsize=(10, 6))\n",
    "plt.scatter(df['sepal length (cm)'], df['sepal width (cm)'], c=df['target'], label='Sepal')\n",
    "plt.scatter(df['petal length (cm)'], df['petal width (cm)'], c=df['target'], marker='x', label='Petal')\n",
    "plt.xlabel('Length (cm)')\n",
    "plt.ylabel('Width (cm)')\n",
    "plt.title('Scatter Plot of Sepal and Petal Features')\n",
    "plt.colorbar(label='Species')\n",
    "plt.text(1, 4.3, \"'THA076BCT026','THA076BCT027','THA076BCT041'\", fontsize=8,color='red')\n",
    "plt.legend()\n",
    "plt.savefig('./plots/Sepal and Petal Features', bbox_inches='tight')\n",
    "plt.show()"
   ]
  },
  {
   "cell_type": "markdown",
   "metadata": {
    "id": "DqhpL2lBEWQB"
   },
   "source": [
    "**STEP 3: Data preprocessing**"
   ]
  },
  {
   "cell_type": "code",
   "execution_count": null,
   "metadata": {
    "colab": {
     "base_uri": "https://localhost:8080/"
    },
    "id": "U6GuxLQy5TFe",
    "outputId": "7e4f219f-0d5e-41d1-e457-888eda9237b6"
   },
   "outputs": [],
   "source": [
    "# Handling missing values:\n",
    "# df.isna() returns a boolean, where True means missing values(NaN) and .sum() sums the values along each column\n",
    "missing_values = df.isna().sum()\n",
    "print(\"Columns with missing values:\")\n",
    "print(missing_values[missing_values > 0])"
   ]
  },
  {
   "cell_type": "code",
   "execution_count": null,
   "metadata": {
    "id": "zotc0OQYJF9O"
   },
   "outputs": [],
   "source": [
    "# Standardizing to eliminate the chance of PCA being influenced by magnitude of some features' values.\n",
    "from sklearn.preprocessing import StandardScaler\n",
    "scaler = StandardScaler()\n",
    "X = df.iloc[:,1:].values\n",
    "df_scaled = pd.DataFrame(scaler.fit_transform(df), columns=df.columns)"
   ]
  },
  {
   "cell_type": "code",
   "execution_count": null,
   "metadata": {
    "colab": {
     "base_uri": "https://localhost:8080/"
    },
    "id": "0K2c8SNRWhH1",
    "outputId": "0e678f4c-8868-4223-cc70-6c2122d03504"
   },
   "outputs": [],
   "source": [
    "# IMPORTANT STEP!\n",
    "# Create new input and output after preprocessing X and y.\n",
    "X_train = df_scaled.drop('target', axis=1).values\n",
    "y_train = df['target']\n",
    "print(\"shape of new input X\",X_train.shape)\n",
    "print(\"shape of new output Y\",y_train.shape)"
   ]
  },
  {
   "cell_type": "code",
   "execution_count": null,
   "metadata": {
    "colab": {
     "base_uri": "https://localhost:8080/"
    },
    "id": "YP5DQdjnXwo0",
    "outputId": "d646c23e-87d3-4d5c-ccc5-f969a744f62d"
   },
   "outputs": [],
   "source": [
    "print(X_train)\n",
    "print(y_train)"
   ]
  },
  {
   "cell_type": "code",
   "execution_count": null,
   "metadata": {},
   "outputs": [],
   "source": [
    "\n",
    "df_plot=df_scaled.copy()\n",
    "df_plot['target'] = df['target'].replace({0: 'Setosa', 1: 'Versicolor', 2: 'Virginica'})\n",
    "plt.figure(figsize=(12, 8))\n",
    "# Create a pair plot with hue based on the 'target' column in the dataframe\n",
    "g=sns.pairplot(df_plot, hue='target',plot_kws={'legend': False})\n",
    "g._legend.set_title('')\n",
    "\n",
    "plt.suptitle('Attribute Correlation Pair Plot of Transformed Data', fontsize=16, y=0.98)\n",
    "\n",
    "# Set the style and color of the text box\n",
    "textbox_props = dict(boxstyle='round', facecolor='white', edgecolor='gray', alpha=0.8)\n",
    "\n",
    "# Add a text box with the highlighted feature names\n",
    "plt.text(1.5, 6, \"THA076BCT026\\nTHA076BCT027\\nTHA076BCT041\", fontsize=10, color='red', ha='center', bbox=textbox_props)\n",
    "\n",
    "# Adjust the spacing between subplots\n",
    "plt.subplots_adjust(top=0.9)\n",
    "\n",
    "legend_elements = [plt.Line2D([0], [0], marker='o', color='w', label='Setosa', markerfacecolor='royalblue', markersize=8),\n",
    "                   plt.Line2D([0], [0], marker='o', color='w', label='Versicolor', markerfacecolor='g', markersize=8),\n",
    "                   plt.Line2D([0], [0], marker='o', color='w', label='Virginica', markerfacecolor='orange', markersize=8)]\n",
    "\n",
    "# Add the legend to the plot\n",
    "plt.legend(handles=legend_elements, title='target')\n",
    "# Save the plot to a file\n",
    "plt.savefig('./plots/pair_plot_transformed.png', bbox_inches='tight')\n",
    "\n",
    "\n",
    "# Display the plot\n",
    "plt.show()"
   ]
  },
  {
   "cell_type": "code",
   "execution_count": null,
   "metadata": {
    "colab": {
     "base_uri": "https://localhost:8080/",
     "height": 564
    },
    "id": "yPoDgEHKRQtp",
    "outputId": "0e7b1c3b-50e2-4efa-9805-3ea193fc44f6"
   },
   "outputs": [],
   "source": [
    "# lets see the new plot after standardization\n",
    "plt.figure(figsize=(10, 6))\n",
    "plt.scatter(df_scaled['sepal length (cm)'], df_scaled['sepal width (cm)'], c=df_scaled['target'], label='Sepal')\n",
    "plt.scatter(df_scaled['petal length (cm)'], df_scaled['petal width (cm)'], c=df_scaled['target'], marker='x', label='Petal')\n",
    "plt.xlabel('Length (cm)')\n",
    "plt.ylabel('Width (cm)')\n",
    "plt.title('Scatter Plot of Sepal and Petal Features')\n",
    "plt.colorbar(label='Species')\n",
    "plt.ylim(-3,4)\n",
    "plt.xlim(-3,3)\n",
    "plt.text(-1, 3.5, \"'THA076BCT026','THA076BCT027','THA076BCT041'\", fontsize=8,color='red')\n",
    "\n",
    "plt.legend()\n",
    "plt.savefig('./plots/processed Sepal and Petal Feature', bbox_inches='tight')\n",
    "plt.show()"
   ]
  },
  {
   "cell_type": "markdown",
   "metadata": {
    "id": "rRzJhO8TSXus"
   },
   "source": [
    "**STEP 4: Covariance matrix calculation.**"
   ]
  },
  {
   "cell_type": "code",
   "execution_count": null,
   "metadata": {
    "colab": {
     "base_uri": "https://localhost:8080/"
    },
    "id": "Gvrktzg0SOh2",
    "outputId": "64d01902-051e-493e-9372-09abf4ab9e77"
   },
   "outputs": [],
   "source": [
    "# this cell is not necessary.\n",
    "# X_train is already an array so no need to do data_matrix = np.array(X)\n",
    "data_matrix = X_train\n",
    "data_matrix.shape"
   ]
  },
  {
   "cell_type": "code",
   "execution_count": null,
   "metadata": {
    "colab": {
     "base_uri": "https://localhost:8080/"
    },
    "id": "omHTQrTdTkrt",
    "outputId": "fbebf90e-90a8-4992-eadf-8914b87c05cd"
   },
   "outputs": [],
   "source": [
    "# covariance matrix will be 4*4 since x=(150,4)\n",
    "\n",
    "covariance_matrix = np.cov(X_train, rowvar=False)             # row of X_train != variable(so column of X_train means variable, and rows means observation)\n",
    "print(\"Covariance matrix shape:\", covariance_matrix.shape)\n",
    "print(covariance_matrix)"
   ]
  },
  {
   "cell_type": "code",
   "execution_count": null,
   "metadata": {
    "colab": {
     "base_uri": "https://localhost:8080/",
     "height": 452
    },
    "id": "LdHiRzDBV8-D",
    "outputId": "dfbbe60c-4c76-4da6-b8dc-6a449e28e401"
   },
   "outputs": [],
   "source": [
    "# visualize covariance matrix\n",
    "plt.imshow(covariance_matrix, cmap='Blues', interpolation='nearest')\n",
    "plt.colorbar()\n",
    "plt.title('Covariance Matrix')\n",
    "\n",
    "plt.text(0, -0.8, \"'THA076BCT026','THA076BCT027','THA076BCT041'\", fontsize=8,color='red')\n",
    "plt.xticks(np.arange(4), np.arange(4))   #tick labels on axes changed from 0 to 4\n",
    "plt.yticks(np.arange(4), np.arange(4))\n",
    "plt.savefig('Iris Covariance Matrix', bbox_inches='tight')\n",
    "plt.show()"
   ]
  },
  {
   "cell_type": "markdown",
   "metadata": {
    "id": "vBAdOjKKc-mI"
   },
   "source": [
    "**STEP 5: Eigen values and eigen vector calculation**"
   ]
  },
  {
   "cell_type": "code",
   "execution_count": null,
   "metadata": {
    "colab": {
     "base_uri": "https://localhost:8080/"
    },
    "id": "XNOajUZectH9",
    "outputId": "a0e112c5-5119-4cc0-9a6d-3cd59c8d1c14"
   },
   "outputs": [],
   "source": [
    "eigenvalues, eigenvectors = np.linalg.eig(covariance_matrix)\n",
    "#descending sort\n",
    "sorted_indices = np.argsort(eigenvalues)[::-1]\n",
    "eigenvalues = eigenvalues[sorted_indices]\n",
    "eigenvectors = eigenvectors[:, sorted_indices]\n",
    "\n",
    "print(\"eigen values are\",eigenvalues)\n",
    "print(\"eigen vectors are\",eigenvectors)\n",
    "print(eigenvalues.shape)\n",
    "print(eigenvectors.shape)"
   ]
  },
  {
   "cell_type": "markdown",
   "metadata": {
    "id": "DAP7Nnzh7hod"
   },
   "source": [
    "**STEP 6: See the variance explained by each eigen values.**"
   ]
  },
  {
   "cell_type": "code",
   "execution_count": null,
   "metadata": {
    "colab": {
     "base_uri": "https://localhost:8080/"
    },
    "id": "9RsDh0vvhgmA",
    "outputId": "d34bbb0f-2c51-43f2-94e8-3dd6657a1d28"
   },
   "outputs": [],
   "source": [
    "# Proportion of variance for each eigen values\n",
    "pov_list=[]\n",
    "for i in range (0,4):\n",
    "  pov=eigenvalues[i]/sum(eigenvalues)\n",
    "  pov_list.append(pov)\n",
    "  print(\"Proportion of variance for\", eigenvalues[i],\"eigen value is\", pov)"
   ]
  },
  {
   "cell_type": "code",
   "execution_count": null,
   "metadata": {
    "colab": {
     "base_uri": "https://localhost:8080/",
     "height": 472
    },
    "id": "huqq1iDq7Cce",
    "outputId": "ea264ac3-2e25-4839-9e79-1bc97e33b3a5"
   },
   "outputs": [],
   "source": [
    "# Plot the scree plot\n",
    "plt.plot(range(1, len(pov_list) + 1), pov_list, marker='o',color='blue')\n",
    "varlegend= \"'THA076BCT026','THA076BCT027','THA076BCT041'\"\n",
    "plt.text(2.5,0.7,varlegend,color='red')   #plt.text(x_position, y_position, varlegend)\n",
    "plt.xlabel('Principal Component')\n",
    "plt.ylabel('Proportion of Variance')\n",
    "plt.title('Scree Plot')\n",
    "plt.show()"
   ]
  },
  {
   "cell_type": "markdown",
   "metadata": {
    "id": "ZO11TkbKB5GM"
   },
   "source": [
    "**STEP 7: Select the eigen vectors as needed to compute the final output**"
   ]
  },
  {
   "cell_type": "code",
   "execution_count": null,
   "metadata": {
    "colab": {
     "base_uri": "https://localhost:8080/"
    },
    "id": "aLop_fQV8i3X",
    "outputId": "c98c8b51-2170-418b-a4dc-f9d5274f8b1f"
   },
   "outputs": [],
   "source": [
    "print(\"Shape of x train is\",X_train.shape)\n",
    "transposed_X_train = np.transpose(X_train)\n",
    "transposed_X_train.shape"
   ]
  },
  {
   "cell_type": "code",
   "execution_count": null,
   "metadata": {
    "id": "-UBj8CSGl2Kb"
   },
   "outputs": [],
   "source": [
    "eigenvectors_transposed=np.transpose(eigenvectors)"
   ]
  },
  {
   "cell_type": "code",
   "execution_count": null,
   "metadata": {
    "colab": {
     "base_uri": "https://localhost:8080/"
    },
    "id": "OvxY2rrLCUxb",
    "outputId": "a2d98aef-fb7c-405f-c436-370049e615b1"
   },
   "outputs": [],
   "source": [
    "final_data = {}       # Dictionary to store the final projected data\n",
    "\n",
    "# Define the combinations of selected components\n",
    "selected_components = [[0], [0, 1], [0,2], [0, 3], [1], [1,2], [1,3], [0, 1, 2, 3]]\n",
    "count=len(selected_components)\n",
    "\n",
    "# Iterate over the selected components\n",
    "for i in range (0,count):\n",
    "  selected_eigenvectors = eigenvectors_transposed[selected_components[i]]              #select the combination of components from above list\n",
    "  final_data[i] = np.transpose(selected_eigenvectors @ transposed_X_train)  #projection\n",
    "  print(final_data[i].shape)"
   ]
  },
  {
   "cell_type": "code",
   "execution_count": null,
   "metadata": {
    "colab": {
     "base_uri": "https://localhost:8080/"
    },
    "id": "NhEmWF9slV03",
    "outputId": "952cd886-3d57-40d3-ea98-c6361ff8f4c8"
   },
   "outputs": [],
   "source": [
    "eigenvalues"
   ]
  },
  {
   "cell_type": "code",
   "execution_count": null,
   "metadata": {
    "colab": {
     "base_uri": "https://localhost:8080/"
    },
    "id": "gZ2zngkolQm4",
    "outputId": "daac2f6b-b24e-4806-e145-5b8f3aee9290"
   },
   "outputs": [],
   "source": [
    "eigenvectors"
   ]
  },
  {
   "cell_type": "code",
   "execution_count": null,
   "metadata": {
    "colab": {
     "base_uri": "https://localhost:8080/"
    },
    "id": "_rkdMgMHlhPK",
    "outputId": "4756890d-0238-4504-9691-10960fd6d96a"
   },
   "outputs": [],
   "source": [
    "eigenvectors_transposed[selected_components[2]]"
   ]
  },
  {
   "cell_type": "markdown",
   "metadata": {
    "id": "ODx_CW3vMoEw"
   },
   "source": [
    "**STEP 8: Computing and visualizing covariance for the new data.**"
   ]
  },
  {
   "cell_type": "code",
   "execution_count": null,
   "metadata": {
    "colab": {
     "base_uri": "https://localhost:8080/"
    },
    "id": "pSYW1fYsGEJP",
    "outputId": "25d3c8f0-cb8e-4985-c1ce-917ff9c16a2f"
   },
   "outputs": [],
   "source": [
    "new_covariance_matrices_dictionary = {}\n",
    "# Compute covariance matrix for each projected data\n",
    "for i in range(0, count):\n",
    "    print(\" * Covariance matrix for combination no\", i)\n",
    "    new_covariance_matrix = np.cov(final_data[i], rowvar=False)\n",
    "    new_covariance_matrices_dictionary[i] = new_covariance_matrix\n",
    "    # Print the shape of the covariance matrix\n",
    "    print(\"  --->Covariance matrix shape:\", new_covariance_matrix.shape)"
   ]
  },
  {
   "cell_type": "code",
   "execution_count": null,
   "metadata": {
    "colab": {
     "base_uri": "https://localhost:8080/"
    },
    "id": "KHXAelQKGE3j",
    "outputId": "68ad0fd3-f52a-43d7-88b1-1c6de55eef3d"
   },
   "outputs": [],
   "source": [
    "#Lets access the first combination(combination 0), which is (eigen[0])                    (best component)\n",
    "new_covariance_matrices_dictionary[0]"
   ]
  },
  {
   "cell_type": "code",
   "execution_count": null,
   "metadata": {
    "colab": {
     "base_uri": "https://localhost:8080/"
    },
    "id": "dSY2khi1TGG3",
    "outputId": "9f8e9b11-f674-4c82-e10c-405cd4811480"
   },
   "outputs": [],
   "source": [
    "#Lets access combination 1, which is eigen[0] and eigen[1]              (2 best components)\n",
    "new_covariance_matrices_dictionary[1]"
   ]
  },
  {
   "cell_type": "code",
   "execution_count": null,
   "metadata": {
    "colab": {
     "base_uri": "https://localhost:8080/"
    },
    "id": "5b-S3wtKTwqm",
    "outputId": "ed7838ac-73a6-4f62-baac-c2b4e6261365"
   },
   "outputs": [],
   "source": [
    "#Lets access combination 3, which is eigen[0] and eigen[3]           (best and worst component)\n",
    "new_covariance_matrices_dictionary[3]"
   ]
  },
  {
   "cell_type": "code",
   "execution_count": null,
   "metadata": {
    "colab": {
     "base_uri": "https://localhost:8080/"
    },
    "id": "VRDD92qLULz9",
    "outputId": "e85950c2-d8bf-4aea-f0e7-1242732534f9"
   },
   "outputs": [],
   "source": [
    "#Lets access combination 5, which is eigen[1] and eigen[2]        (2 medium medium best components)\n",
    "new_covariance_matrices_dictionary[5]"
   ]
  },
  {
   "cell_type": "code",
   "execution_count": null,
   "metadata": {
    "colab": {
     "base_uri": "https://localhost:8080/"
    },
    "id": "flwhmXdTtTOF",
    "outputId": "1ff19756-02fe-4519-c27a-55afde7b3b04"
   },
   "outputs": [],
   "source": [
    "#Lets access combination 7, which is eigen[0],eigen[1],eigen[2] and eigen[3]      (all components combined)\n",
    "new_covariance_matrices_dictionary[7]"
   ]
  },
  {
   "cell_type": "code",
   "execution_count": null,
   "metadata": {
    "colab": {
     "base_uri": "https://localhost:8080/",
     "height": 452
    },
    "id": "qB-2Gbkuo2Xn",
    "outputId": "f8957db2-8514-4a0b-ecba-45dc9b3e5a16"
   },
   "outputs": [],
   "source": [
    "# Heatmap plot, darker shade indicate higher values. (combination starts from 0 to 7)\n",
    "plt.imshow(new_covariance_matrices_dictionary[1], cmap='Reds', interpolation='nearest')  #for smoother interpolation of color on pixel values, instead of 'nearest', we can use 'bilinear','bicubic','spline16', 'spline36', 'hanning', 'hamming', 'hermite',etc..\n",
    "plt.colorbar()\n",
    "plt.title(\"New Covariance Matrix Combination 1 (2 best PC)\")\n",
    "plt.text(-0.3, -0.66, \"'THA076BCT026','THA076BCT027','THA076BCT041'\", fontsize=8,color='red')\n",
    "plt.savefig('Covariance Matrix for 2 best PC', bbox_inches='tight')\n",
    "plt.show()"
   ]
  },
  {
   "cell_type": "code",
   "execution_count": null,
   "metadata": {
    "colab": {
     "base_uri": "https://localhost:8080/",
     "height": 452
    },
    "id": "8hbbdcTqrlco",
    "outputId": "6a7cd83a-4189-41d4-9d9b-0a710ba8fe5a"
   },
   "outputs": [],
   "source": [
    "plt.imshow(new_covariance_matrices_dictionary[3], cmap='Reds', interpolation='nearest')\n",
    "plt.colorbar()\n",
    "plt.title(\"New Covariance Matrix Combination 3 (best and worst PC)\")\n",
    "plt.text(-0.3, -0.66, \"'THA076BCT026','THA076BCT027','THA076BCT041'\", fontsize=8,color='red')\n",
    "plt.savefig('Covariance Matrix for best and worst PC', bbox_inches='tight')\n",
    "plt.show()"
   ]
  },
  {
   "cell_type": "code",
   "execution_count": null,
   "metadata": {
    "colab": {
     "base_uri": "https://localhost:8080/",
     "height": 452
    },
    "id": "E0sP9gq9stGP",
    "outputId": "d3a52ff0-9e18-4b4f-b089-960d6b955267"
   },
   "outputs": [],
   "source": [
    "plt.imshow(new_covariance_matrices_dictionary[5], cmap='Reds', interpolation='nearest')\n",
    "plt.colorbar()\n",
    "plt.title(\"Covariance Matrix for two medium PCs\")\n",
    "plt.text(-0.3, -0.66, \"'THA076BCT026','THA076BCT027','THA076BCT041'\", fontsize=8,color='red')\n",
    "plt.savefig('Covariance Matrix for two medium PCs', bbox_inches='tight')\n",
    "plt.show()"
   ]
  },
  {
   "cell_type": "code",
   "execution_count": null,
   "metadata": {
    "colab": {
     "base_uri": "https://localhost:8080/",
     "height": 452
    },
    "id": "7CcGwjfVtkg8",
    "outputId": "bd2d3e48-cec2-4375-eae3-4b43d42c959c"
   },
   "outputs": [],
   "source": [
    "plt.imshow(new_covariance_matrices_dictionary[7], cmap='Reds', interpolation='nearest')\n",
    "plt.colorbar()\n",
    "plt.title(\"New Covariance Matrix Combination 7 (All Components)\")\n",
    "plt.show()"
   ]
  },
  {
   "cell_type": "markdown",
   "metadata": {
    "id": "KdQzdq0wv9UT"
   },
   "source": [
    "**STEP 9: Obtain final data and visualize**"
   ]
  },
  {
   "cell_type": "code",
   "execution_count": null,
   "metadata": {
    "colab": {
     "base_uri": "https://localhost:8080/"
    },
    "id": "dZ6jU1UAwD8e",
    "outputId": "f340744a-d8ed-494b-fe82-3b7de27b6bac"
   },
   "outputs": [],
   "source": [
    "# Two best PCs\n",
    "final_data[1].shape\n",
    "#final_data[1]"
   ]
  },
  {
   "cell_type": "code",
   "execution_count": null,
   "metadata": {
    "colab": {
     "base_uri": "https://localhost:8080/",
     "height": 489
    },
    "id": "41GSC6WCxSsc",
    "outputId": "ac27c66e-3c6b-424e-b18b-955f10584186"
   },
   "outputs": [],
   "source": [
    "plt.ylim(-3,3)\n",
    "plt.xlim(-3,3)\n",
    "# plt.title(\"2 best PCs\")\n",
    "plt.xlabel('PC1')\n",
    "plt.ylabel('PC2')\n",
    "plt.title(\"Scatter Plot after PCA for two best PCs on IRIS Dataset\")\n",
    "plt.text(-1.8, 2.8, \"'THA076BCT026','THA076BCT027','THA076BCT041'\", fontsize=8,color='red')\n",
    "plt.scatter(final_data[1][:,0],final_data[1][:,1],c=y)\n",
    "plt.savefig('Scatter Plot after PCA for two best PCs', bbox_inches='tight')"
   ]
  },
  {
   "cell_type": "code",
   "execution_count": null,
   "metadata": {
    "colab": {
     "base_uri": "https://localhost:8080/"
    },
    "id": "49-bND0rwaq2",
    "outputId": "052746d9-fb93-4b8d-9a7a-97411943cfdd"
   },
   "outputs": [],
   "source": [
    "#Best and worst PCs\n",
    "final_data[3].shape\n",
    "#final_data[3]"
   ]
  },
  {
   "cell_type": "code",
   "execution_count": null,
   "metadata": {
    "colab": {
     "base_uri": "https://localhost:8080/",
     "height": 489
    },
    "id": "z__bn8M_xhwq",
    "outputId": "1d80e61a-1feb-4654-d789-465bdaf42485"
   },
   "outputs": [],
   "source": [
    "plt.ylim(-3,3)\n",
    "plt.xlim(-3,3)\n",
    "plt.xlabel('PC1')\n",
    "plt.ylabel('PC4')\n",
    "plt.title(\"Scatter Plot after PCA for Best and worst PCs on IRIS Dataset\")\n",
    "plt.text(-1.8, 2.8, \"'THA076BCT026','THA076BCT027','THA076BCT041'\", fontsize=8,color='red')\n",
    "plt.scatter(final_data[3][:,0],final_data[3][:,1],c=y)\n",
    "plt.savefig('Scatter Plot after PCA for Best and worst PCs', bbox_inches='tight')"
   ]
  },
  {
   "cell_type": "code",
   "execution_count": null,
   "metadata": {
    "colab": {
     "base_uri": "https://localhost:8080/"
    },
    "id": "L2Z2Gg7jwecK",
    "outputId": "137fcc22-3562-4807-d7e3-38d0fc2b1d5f"
   },
   "outputs": [],
   "source": [
    "#Best and mediumly worse PCs\n",
    "final_data[5].shape\n",
    "#final_data[5]"
   ]
  },
  {
   "cell_type": "code",
   "execution_count": null,
   "metadata": {
    "colab": {
     "base_uri": "https://localhost:8080/",
     "height": 489
    },
    "id": "OQuUiH_dxqF0",
    "outputId": "f3154408-15e7-4afb-a36c-9efac49d179f"
   },
   "outputs": [],
   "source": [
    "plt.ylim(-3,3)\n",
    "plt.xlim(-3,3)\n",
    "plt.title(\"Scatter Plot after PCA for two Medium PCs on IRIS Dataset\")\n",
    "plt.text(-1.8, 2.8, \"'THA076BCT026','THA076BCT027','THA076BCT041'\", fontsize=8,color='red')\n",
    "plt.xlabel('PC2')\n",
    "plt.ylabel('PC3')\n",
    "plt.scatter(final_data[5][:,0],final_data[5][:,1],c=y)\n",
    "plt.savefig('Scatter Plot after PCA for two Medium PCs', bbox_inches='tight')"
   ]
  },
  {
   "cell_type": "code",
   "execution_count": null,
   "metadata": {
    "colab": {
     "base_uri": "https://localhost:8080/"
    },
    "id": "x_ZX3toxwgPr",
    "outputId": "f21d63cc-7ddf-4cb1-9c40-ceee58ebb10d"
   },
   "outputs": [],
   "source": [
    "#All components\n",
    "final_data[7].shape\n",
    "#final_data[7]"
   ]
  },
  {
   "cell_type": "code",
   "execution_count": null,
   "metadata": {
    "colab": {
     "base_uri": "https://localhost:8080/",
     "height": 489
    },
    "id": "gn1njz0yxyEe",
    "outputId": "f10a728a-dade-423a-9328-6b5b53751c95"
   },
   "outputs": [],
   "source": [
    "plt.ylim(-3,3)\n",
    "plt.xlim(-3,3)\n",
    "plt.title(\"All PCs\")\n",
    "plt.xlabel('PC1')\n",
    "plt.ylabel('PC2')\n",
    "plt.scatter(final_data[7][:,0],final_data[7][:,1],c=y)"
   ]
  },
  {
   "cell_type": "code",
   "execution_count": null,
   "metadata": {
    "colab": {
     "base_uri": "https://localhost:8080/",
     "height": 692
    },
    "id": "lEXIqrAT0Io_",
    "outputId": "7024478a-53f0-44f2-8830-c3891e47c917"
   },
   "outputs": [],
   "source": [
    "# Create a 3D scatter plot\n",
    "from mpl_toolkits.mplot3d import Axes3D\n",
    "\n",
    "fig = plt.figure()\n",
    "fig = plt.figure(figsize=(8, 8))\n",
    "ax = fig.add_subplot(111, projection='3d')\n",
    "ax.scatter(final_data[7][:,0],final_data[7][:,1],final_data[7][:,2],c=y, marker='o')\n",
    "ax.set_xlabel('PC1')\n",
    "ax.set_ylabel('PC2')\n",
    "ax.set_zlabel('PC3')\n",
    "ax.set_title('3D Scatter Plot of 3 PCs')\n",
    "ax.text(-6, 2.8,1, \"'THA076BCT026','THA076BCT027','THA076BCT041'\", fontsize=8,color='red')\n",
    "plt.tight_layout()\n",
    "plt.savefig('3D Scatter Plot of 3 PCs', bbox_inches='tight',dpi=300)\n",
    "plt.show()"
   ]
  },
  {
   "cell_type": "markdown",
   "metadata": {
    "id": "Esox8pN2Qbz3"
   },
   "source": [
    "**STEP 10: PCA with library.**"
   ]
  },
  {
   "cell_type": "code",
   "execution_count": null,
   "metadata": {
    "id": "tznHNES7bTcF"
   },
   "outputs": [],
   "source": [
    "from sklearn.decomposition import PCA\n",
    "# Create instances of PCA with the desired number of components. (pca1 = 2components. pca2=so as to retain 95% info)\n",
    "pca1 = PCA(n_components=2)\n",
    "pca2 = PCA(0.95)\n",
    "\n",
    "# Fit the PCA model to the data and transform the data\n",
    "reduced_data1 = pca1.fit_transform(X)\n",
    "reduced_data2 = pca2.fit_transform(X)\n",
    "\n",
    "# Print the shape of the reduced data\n",
    "print(\"Shape of reduced data:\", reduced_data1.shape)\n",
    "print(\"reduced through first\",reduced_data1)\n",
    "\n",
    "print(\"Shape of reduced data:\", reduced_data2.shape)\n",
    "print(\"reduced through second\",reduced_data2)\n"
   ]
  },
  {
   "cell_type": "markdown",
   "metadata": {
    "id": "0UIigoIthZVu"
   },
   "source": [
    "**STEP 11: Lets train 4 models and visualize the results.** 2 models are implemented after applying PCA using library. The third model is implemented after applying PCA using Math(using all the earlier above steps). The fourth model is trained without PCA."
   ]
  },
  {
   "cell_type": "code",
   "execution_count": null,
   "metadata": {
    "id": "9zLd2LKEdHIT"
   },
   "outputs": [],
   "source": [
    "# Create 4 sets of test-train for 4 models.\n",
    "from sklearn.model_selection import train_test_split\n",
    "x_train1,x_test1,y_train1,y_test1 = train_test_split(reduced_data1,y,test_size=0.2)   # using library, 2 components\n",
    "x_train2,x_test2,y_train2,y_test2 = train_test_split(reduced_data2,y,test_size=0.2)   # using library, 0.95 info\n",
    "x_train3,x_test3,y_train3,y_test3 = train_test_split(final_data[1],y,test_size=0.2)   # from scratch, 2 components\n",
    "x_train4,x_test4,y_train4,y_test4 = train_test_split(X_train,y,test_size=0.2)         # no PCA"
   ]
  },
  {
   "cell_type": "code",
   "execution_count": null,
   "metadata": {
    "colab": {
     "base_uri": "https://localhost:8080/",
     "height": 74
    },
    "id": "yd7MULTUd8jY",
    "outputId": "f68ebee9-b6b8-47b0-c46a-c435e7c1c283"
   },
   "outputs": [],
   "source": [
    "#training of the model\n",
    "# model 1: using library, 2 components\n",
    "from sklearn.svm import SVC\n",
    "svm1 = SVC()\n",
    "svm1.fit(x_train1, y_train1)"
   ]
  },
  {
   "cell_type": "code",
   "execution_count": null,
   "metadata": {
    "colab": {
     "base_uri": "https://localhost:8080/",
     "height": 74
    },
    "id": "AaFB5YL7f0pA",
    "outputId": "ed1a2b7f-13a2-4b7e-ed01-823ac6590c37"
   },
   "outputs": [],
   "source": [
    "#library, 0.95 info\n",
    "svm2=SVC()\n",
    "svm2.fit(x_train2, y_train2)"
   ]
  },
  {
   "cell_type": "code",
   "execution_count": null,
   "metadata": {
    "colab": {
     "base_uri": "https://localhost:8080/",
     "height": 74
    },
    "id": "W-lqi4O9f61N",
    "outputId": "0b6f72e4-6e4b-4823-be16-1163a15311ec"
   },
   "outputs": [],
   "source": [
    "#from scratch, 2 components\n",
    "svm3=SVC()\n",
    "svm3.fit(x_train3, y_train3)"
   ]
  },
  {
   "cell_type": "code",
   "execution_count": null,
   "metadata": {
    "colab": {
     "base_uri": "https://localhost:8080/",
     "height": 74
    },
    "id": "_It9pwGbmBwa",
    "outputId": "290ac30a-887a-4a25-d797-56a1f6097b79"
   },
   "outputs": [],
   "source": [
    "#No PCA\n",
    "svm4=SVC()\n",
    "svm4.fit(x_train4, y_train4)"
   ]
  },
  {
   "cell_type": "code",
   "execution_count": null,
   "metadata": {
    "colab": {
     "base_uri": "https://localhost:8080/"
    },
    "id": "k9lvLPbVewdO",
    "outputId": "0fc1c04a-0b11-441a-c0c3-3072b1114a6f"
   },
   "outputs": [],
   "source": [
    "# Accuracy check for 4 models\n",
    "from sklearn.metrics import accuracy_score\n",
    "\n",
    "y_pred1 = svm1.predict(x_test1)\n",
    "accuracy1 = accuracy_score(y_test1, y_pred1)\n",
    "print(\"Accuracy1:\", accuracy1)\n",
    "\n",
    "y_pred2 = svm2.predict(x_test2)\n",
    "accuracy2 = accuracy_score(y_test2, y_pred2)\n",
    "print(\"Accuracy2:\", accuracy2)\n",
    "\n",
    "y_pred3 = svm3.predict(x_test3)\n",
    "accuracy3 = accuracy_score(y_test3, y_pred3)\n",
    "print(\"Accuracy3:\", accuracy3)\n",
    "\n",
    "y_pred4 = svm4.predict(x_test4)\n",
    "accuracy4 = accuracy_score(y_test4, y_pred4)\n",
    "print(\"Accuracy4:\", accuracy4)"
   ]
  },
  {
   "cell_type": "code",
   "execution_count": null,
   "metadata": {
    "colab": {
     "base_uri": "https://localhost:8080/"
    },
    "id": "5hzgx0P6pOiO",
    "outputId": "05ae6399-3c8c-4ee2-879b-92771fcad17f"
   },
   "outputs": [],
   "source": [
    "#prediciton from 4 models\n",
    "predictions1 = svm1.predict(x_test1)\n",
    "predictions2 = svm2.predict(x_test2)\n",
    "predictions3 = svm3.predict(x_test3)\n",
    "predictions4 = svm4.predict(x_test4)\n",
    "predictions1.shape"
   ]
  },
  {
   "cell_type": "code",
   "execution_count": null,
   "metadata": {
    "id": "FwII4gqLohrY"
   },
   "outputs": [],
   "source": [
    "# Lets define a function to plot confusion matrix\n",
    "from sklearn.metrics import confusion_matrix\n",
    "import seaborn as sns\n",
    "def plot_confusion_matrix(y_true, y_pred, model_name,text):\n",
    "    cm = confusion_matrix(y_true, y_pred)\n",
    "    sns.heatmap(cm, annot=True, cmap=\"Blues\", fmt=\"d\")\n",
    "    plt.title(f\"Confusion Matrix - {model_name}\")\n",
    "    plt.xlabel(\"Predicted Labels\")\n",
    "    plt.ylabel(\"True Labels\")\n",
    "    plt.text(0.2, -0.5, \"'THA076BCT026','THA076BCT027','THA076BCT041'\", fontsize=8,color='red')\n",
    "    plt.savefig(f'./plots/{model_name}.png', bbox_inches='tight',dpi=300)\n",
    "    plt.show()"
   ]
  },
  {
   "cell_type": "code",
   "execution_count": null,
   "metadata": {
    "colab": {
     "base_uri": "https://localhost:8080/",
     "height": 472
    },
    "id": "Ed4VuO2uqODv",
    "outputId": "42200dbf-7028-48a2-c297-5ab5ac662088"
   },
   "outputs": [],
   "source": [
    "# Plot confusion matrix for model 1\n",
    "plot_confusion_matrix(y_test1, predictions1, \"UsingLibrary, 2 Components\")"
   ]
  },
  {
   "cell_type": "code",
   "execution_count": null,
   "metadata": {
    "colab": {
     "base_uri": "https://localhost:8080/",
     "height": 472
    },
    "id": "Hl7O7YjGp6Vw",
    "outputId": "596f5fc8-e423-43a3-b36b-ece43bd32547"
   },
   "outputs": [],
   "source": [
    "# for model 2\n",
    "plot_confusion_matrix(y_test2, predictions2, \"Using Library, 0.95 Info retention\")"
   ]
  },
  {
   "cell_type": "code",
   "execution_count": null,
   "metadata": {
    "colab": {
     "base_uri": "https://localhost:8080/",
     "height": 472
    },
    "id": "QZiqosFip-Gk",
    "outputId": "715d93bd-a1a8-4d57-9a37-ae1686db7650"
   },
   "outputs": [],
   "source": [
    "#for model 3\n",
    "plot_confusion_matrix(y_test3, predictions3, \"From Scratch, 2 Components\")"
   ]
  },
  {
   "cell_type": "code",
   "execution_count": null,
   "metadata": {
    "colab": {
     "base_uri": "https://localhost:8080/",
     "height": 472
    },
    "id": "lMxHr3iTqC9O",
    "outputId": "45d40d26-37f8-4a31-da71-5416b8e2c566"
   },
   "outputs": [],
   "source": [
    "#for model4\n",
    "plot_confusion_matrix(y_test4, predictions4, \"No PCA\")"
   ]
  }
 ],
 "metadata": {
  "accelerator": "GPU",
  "colab": {
   "gpuType": "T4",
   "provenance": []
  },
  "kernelspec": {
   "display_name": "Python 3 (ipykernel)",
   "language": "python",
   "name": "python3"
  },
  "language_info": {
   "codemirror_mode": {
    "name": "ipython",
    "version": 3
   },
   "file_extension": ".py",
   "mimetype": "text/x-python",
   "name": "python",
   "nbconvert_exporter": "python",
   "pygments_lexer": "ipython3",
   "version": "3.11.3"
  }
 },
 "nbformat": 4,
 "nbformat_minor": 1
}
