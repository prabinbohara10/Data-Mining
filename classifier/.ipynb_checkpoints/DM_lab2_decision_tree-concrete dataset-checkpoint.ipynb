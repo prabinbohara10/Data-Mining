{
 "cells": [
  {
   "cell_type": "code",
   "execution_count": null,
   "id": "62446ac8",
   "metadata": {},
   "outputs": [],
   "source": [
    "import pandas as pd"
   ]
  },
  {
   "cell_type": "code",
   "execution_count": null,
   "id": "88b3a8bc",
   "metadata": {},
   "outputs": [],
   "source": [
    "data = [\n",
    "        ['sunny','hot','high',False, 'No'],\n",
    "    ['sunny','hot', 'high',True, 'No'],\n",
    "    ['overcast','hot','high',False, 'Yes'],\n",
    "    ['rainny','mild','high',False, 'Yes'],\n",
    "    ['rainny','cool','normal',False, 'Yes'],\n",
    "    ['rainny','cool','normal',True, 'No'],\n",
    "    ['overcast','cool','normal',True, 'Yes'],\n",
    "    ['sunny','mild','high',False, 'No'],\n",
    "    ['sunny','cool','normal',False, 'Yes'],\n",
    "    ['rainny','mild','normal',False, 'Yes'],\n",
    "    ['sunny','mild','normal',True, 'Yes'],\n",
    "    ['overcast','mild','high',True, 'Yes'],\n",
    "    ['overcast','hot','normal',False, 'Yes'],\n",
    "    ['rainny','mild','high',True, 'No'],\n",
    "       ]"
   ]
  },
  {
   "cell_type": "code",
   "execution_count": null,
   "id": "e432cc96",
   "metadata": {},
   "outputs": [],
   "source": [
    "df =pd.DataFrame(data, columns=['Outlook','Temperature','Humidity','Windy','Play'])"
   ]
  },
  {
   "cell_type": "code",
   "execution_count": null,
   "id": "a093da5f",
   "metadata": {},
   "outputs": [],
   "source": [
    "df"
   ]
  },
  {
   "cell_type": "code",
   "execution_count": null,
   "id": "fb227f1e",
   "metadata": {},
   "outputs": [],
   "source": [
    "main_df = pd.read_excel(\"../dataset/Dry_Bean_Dataset.xlsx\")"
   ]
  },
  {
   "cell_type": "code",
   "execution_count": null,
   "id": "4e4e104c",
   "metadata": {},
   "outputs": [],
   "source": [
    "df = main_df"
   ]
  },
  {
   "cell_type": "code",
   "execution_count": null,
   "id": "1455c789",
   "metadata": {},
   "outputs": [],
   "source": []
  },
  {
   "cell_type": "code",
   "execution_count": null,
   "id": "36b26ce9",
   "metadata": {},
   "outputs": [],
   "source": [
    "# Import label encoder\n",
    "from sklearn import preprocessing\n",
    "  \n",
    "# label_encoder object knows \n",
    "# how to understand word labels.\n",
    "label_encoder = preprocessing.LabelEncoder()\n",
    "  \n",
    "# Encode labels in column 'species'.\n",
    "df['Class']= label_encoder.fit_transform(df['Class'])\n",
    "  \n",
    "df['Class'].unique()"
   ]
  },
  {
   "cell_type": "code",
   "execution_count": null,
   "id": "8b25299d",
   "metadata": {},
   "outputs": [],
   "source": []
  },
  {
   "cell_type": "code",
   "execution_count": null,
   "id": "727307cd",
   "metadata": {},
   "outputs": [],
   "source": [
    "df_new"
   ]
  },
  {
   "cell_type": "code",
   "execution_count": null,
   "id": "89b4d1bc",
   "metadata": {},
   "outputs": [],
   "source": []
  },
  {
   "cell_type": "code",
   "execution_count": null,
   "id": "151b6eeb",
   "metadata": {},
   "outputs": [],
   "source": []
  },
  {
   "cell_type": "code",
   "execution_count": null,
   "id": "3869863d",
   "metadata": {},
   "outputs": [],
   "source": [
    "from sklearn import tree"
   ]
  },
  {
   "cell_type": "code",
   "execution_count": null,
   "id": "63111f9a",
   "metadata": {},
   "outputs": [],
   "source": [
    "df_classifier = tree.DecisionTreeClassifier(criterion = \"entropy\", max_depth = 5)"
   ]
  },
  {
   "cell_type": "code",
   "execution_count": null,
   "id": "38fae484",
   "metadata": {},
   "outputs": [],
   "source": [
    "X = df.drop(columns= ['Class'])"
   ]
  },
  {
   "cell_type": "code",
   "execution_count": null,
   "id": "e66ea857",
   "metadata": {},
   "outputs": [],
   "source": [
    "X = pd.DataFrame(df,columns = ['Area','Perimeter'])\n",
    "X"
   ]
  },
  {
   "cell_type": "code",
   "execution_count": null,
   "id": "cc229dc3",
   "metadata": {},
   "outputs": [],
   "source": [
    "y = df.loc[:,'Class']"
   ]
  },
  {
   "cell_type": "code",
   "execution_count": null,
   "id": "7ee42100",
   "metadata": {},
   "outputs": [],
   "source": [
    "y"
   ]
  },
  {
   "cell_type": "code",
   "execution_count": null,
   "id": "a104d0f2",
   "metadata": {},
   "outputs": [],
   "source": []
  },
  {
   "cell_type": "code",
   "execution_count": null,
   "id": "b0a5166d",
   "metadata": {},
   "outputs": [],
   "source": []
  },
  {
   "cell_type": "code",
   "execution_count": null,
   "id": "5170a097",
   "metadata": {},
   "outputs": [],
   "source": [
    "from sklearn.model_selection import train_test_split"
   ]
  },
  {
   "cell_type": "code",
   "execution_count": null,
   "id": "70ef6aeb",
   "metadata": {},
   "outputs": [],
   "source": [
    "X_train, X_test, y_train, y_test = train_test_split(X,y,random_state = 100, test_size = 0.33)"
   ]
  },
  {
   "cell_type": "code",
   "execution_count": null,
   "id": "e7c4a938",
   "metadata": {},
   "outputs": [],
   "source": [
    "train = pd.concat([X_train, y_train] , axis = 1)"
   ]
  },
  {
   "cell_type": "code",
   "execution_count": null,
   "id": "2627daf3",
   "metadata": {},
   "outputs": [],
   "source": [
    "X_train"
   ]
  },
  {
   "cell_type": "code",
   "execution_count": null,
   "id": "bbaa827f",
   "metadata": {},
   "outputs": [],
   "source": [
    "df_classifier.fit(X_train,y_train)"
   ]
  },
  {
   "cell_type": "code",
   "execution_count": null,
   "id": "70917e5d",
   "metadata": {},
   "outputs": [],
   "source": [
    "X_test"
   ]
  },
  {
   "cell_type": "code",
   "execution_count": null,
   "id": "457955a7",
   "metadata": {},
   "outputs": [],
   "source": []
  },
  {
   "cell_type": "code",
   "execution_count": null,
   "id": "7db974fc",
   "metadata": {},
   "outputs": [],
   "source": [
    "prediction =df_classifier.predict(X.loc[2:5,])"
   ]
  },
  {
   "cell_type": "code",
   "execution_count": null,
   "id": "41f012e8",
   "metadata": {},
   "outputs": [],
   "source": [
    "prediction"
   ]
  },
  {
   "cell_type": "code",
   "execution_count": null,
   "id": "2151e384",
   "metadata": {},
   "outputs": [],
   "source": [
    "prediction_test = df_classifier.predict(X_test)"
   ]
  },
  {
   "cell_type": "code",
   "execution_count": null,
   "id": "70c11da6",
   "metadata": {},
   "outputs": [],
   "source": [
    "prediction_test"
   ]
  },
  {
   "cell_type": "code",
   "execution_count": null,
   "id": "bf4ff9bd",
   "metadata": {},
   "outputs": [],
   "source": [
    "y_test"
   ]
  },
  {
   "cell_type": "code",
   "execution_count": null,
   "id": "8c24eb38",
   "metadata": {},
   "outputs": [],
   "source": [
    "from sklearn.metrics import accuracy_score\n",
    "accuracy_score(y_test, prediction_test)"
   ]
  },
  {
   "cell_type": "code",
   "execution_count": null,
   "id": "2a39080e",
   "metadata": {},
   "outputs": [],
   "source": []
  },
  {
   "cell_type": "code",
   "execution_count": null,
   "id": "508ca477",
   "metadata": {},
   "outputs": [],
   "source": []
  },
  {
   "cell_type": "code",
   "execution_count": null,
   "id": "096eacc6",
   "metadata": {},
   "outputs": [],
   "source": [
    "from sklearn.metrics import classification_report\n",
    "report = classification_report(y_test, prediction_test)\n",
    "print(report)"
   ]
  },
  {
   "cell_type": "code",
   "execution_count": null,
   "id": "6aca1dd9",
   "metadata": {},
   "outputs": [],
   "source": [
    "import matplotlib.pyplot as plt"
   ]
  },
  {
   "cell_type": "code",
   "execution_count": null,
   "id": "7f5990fa",
   "metadata": {},
   "outputs": [],
   "source": [
    "from sklearn.metrics import confusion_matrix\n",
    "cf_matrix = confusion_matrix(y_test, prediction_test)"
   ]
  },
  {
   "cell_type": "code",
   "execution_count": null,
   "id": "1299425d",
   "metadata": {},
   "outputs": [],
   "source": []
  },
  {
   "cell_type": "code",
   "execution_count": null,
   "id": "54e64966",
   "metadata": {},
   "outputs": [],
   "source": [
    "import seaborn as sns \n",
    "fig, ax = plt.subplots(figsize=(10,10))   \n",
    "sns.heatmap(cf_matrix, annot=True, ax=ax, fmt ='g', linewidths = .5)"
   ]
  },
  {
   "cell_type": "code",
   "execution_count": null,
   "id": "066e262e",
   "metadata": {},
   "outputs": [],
   "source": []
  },
  {
   "cell_type": "code",
   "execution_count": null,
   "id": "c28e41ab",
   "metadata": {},
   "outputs": [],
   "source": [
    "#drawing the tree:\n",
    "from sklearn.tree import plot_tree\n"
   ]
  },
  {
   "cell_type": "code",
   "execution_count": null,
   "id": "81b4615d",
   "metadata": {},
   "outputs": [],
   "source": [
    "\n",
    "\n",
    "plt.figure(figsize=(10, 8))\n",
    "plot_tree(df_classifier); "
   ]
  },
  {
   "cell_type": "code",
   "execution_count": null,
   "id": "2c043742",
   "metadata": {},
   "outputs": [],
   "source": [
    "#!pip install dtreeviz"
   ]
  },
  {
   "cell_type": "code",
   "execution_count": null,
   "id": "fdab08e6",
   "metadata": {},
   "outputs": [],
   "source": []
  },
  {
   "cell_type": "code",
   "execution_count": null,
   "id": "58c21a9d",
   "metadata": {},
   "outputs": [],
   "source": [
    "import graphviz.backend as be"
   ]
  },
  {
   "cell_type": "code",
   "execution_count": null,
   "id": "c9aaa556",
   "metadata": {},
   "outputs": [],
   "source": [
    "import dtreeviz\n",
    "from IPython.display import Image, display_svg, SVG"
   ]
  },
  {
   "cell_type": "code",
   "execution_count": null,
   "id": "fa20e9ef",
   "metadata": {},
   "outputs": [],
   "source": [
    "X.columns"
   ]
  },
  {
   "cell_type": "code",
   "execution_count": null,
   "id": "fa2045a2",
   "metadata": {},
   "outputs": [],
   "source": [
    "features = ['Area', 'Perimeter', 'MajorAxisLength', 'MinorAxisLength',\n",
    "       'AspectRation', 'Eccentricity', 'ConvexArea', 'EquivDiameter', 'Extent',\n",
    "       'Solidity', 'roundness', 'Compactness', 'ShapeFactor1', 'ShapeFactor2',\n",
    "       'ShapeFactor3', 'ShapeFactor4']"
   ]
  },
  {
   "cell_type": "code",
   "execution_count": null,
   "id": "98870138",
   "metadata": {},
   "outputs": [],
   "source": []
  },
  {
   "cell_type": "code",
   "execution_count": null,
   "id": "14ee059f",
   "metadata": {},
   "outputs": [],
   "source": [
    "df['Class'].unique()"
   ]
  },
  {
   "cell_type": "code",
   "execution_count": null,
   "id": "8e945b8e",
   "metadata": {},
   "outputs": [],
   "source": [
    "# Tell dtreeviz about training data and model\n",
    "viz_model = dtreeviz.model(df_classifier,\n",
    "                    X_train=X_train,\n",
    "                    y_train=y_train,\n",
    "                    feature_names=features,\n",
    "                    target_name =\"Class\",\n",
    "                    class_names = main_df['Class'].unique())\n"
   ]
  },
  {
   "cell_type": "code",
   "execution_count": null,
   "id": "0e218c04",
   "metadata": {},
   "outputs": [],
   "source": [
    "viz_model.view(scale=0.8, orientation ='LR')"
   ]
  },
  {
   "cell_type": "code",
   "execution_count": null,
   "id": "6e99fef4",
   "metadata": {},
   "outputs": [],
   "source": []
  },
  {
   "cell_type": "code",
   "execution_count": null,
   "id": "824f09fd",
   "metadata": {},
   "outputs": [],
   "source": [
    "%matplotlib notebook\n",
    "\n",
    "import matplotlib.pyplot as plt\n",
    "from mpl_toolkits.mplot3d import axes3d    \n",
    "\n",
    "\n",
    "fig = plt.figure()\n",
    "ax = plt.axes(projection='3d')"
   ]
  },
  {
   "cell_type": "code",
   "execution_count": null,
   "id": "825275d5",
   "metadata": {},
   "outputs": [],
   "source": [
    "figsize = (6,5)\n",
    "fig = plt.figure(figsize=figsize)\n",
    "ax = fig.add_subplot(111, projection='3d')\n",
    "viz_model.rtree_feature_space3D(fontsize=14, elev = 10, azim = 10, dist= 7,show={'splits','title'}, ax=ax)\n",
    "plt.show()"
   ]
  },
  {
   "cell_type": "code",
   "execution_count": null,
   "id": "0b9ab243",
   "metadata": {},
   "outputs": [],
   "source": []
  },
  {
   "cell_type": "code",
   "execution_count": null,
   "id": "bbba3201",
   "metadata": {},
   "outputs": [],
   "source": []
  },
  {
   "cell_type": "code",
   "execution_count": null,
   "id": "f9214f7c",
   "metadata": {},
   "outputs": [],
   "source": []
  }
 ],
 "metadata": {
  "kernelspec": {
   "display_name": "Python 3 (ipykernel)",
   "language": "python",
   "name": "python3"
  },
  "language_info": {
   "codemirror_mode": {
    "name": "ipython",
    "version": 3
   },
   "file_extension": ".py",
   "mimetype": "text/x-python",
   "name": "python",
   "nbconvert_exporter": "python",
   "pygments_lexer": "ipython3",
   "version": "3.11.3"
  }
 },
 "nbformat": 4,
 "nbformat_minor": 5
}
